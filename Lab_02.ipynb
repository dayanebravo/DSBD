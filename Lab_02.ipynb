{
  "nbformat": 4,
  "nbformat_minor": 0,
  "metadata": {
    "colab": {
      "name": "Comparing_Classifiers.ipynb",
      "provenance": [],
      "collapsed_sections": [],
      "include_colab_link": true
    },
    "kernelspec": {
      "display_name": "Python 3",
      "name": "python3"
    },
    "language_info": {
      "name": "python"
    }
  },
  "cells": [
    {
      "cell_type": "markdown",
      "metadata": {
        "id": "view-in-github",
        "colab_type": "text"
      },
      "source": [
        "<a href=\"https://colab.research.google.com/github/dayanebravo/DSBD/blob/main/Lab_02.ipynb\" target=\"_parent\"><img src=\"https://colab.research.google.com/assets/colab-badge.svg\" alt=\"Open In Colab\"/></a>"
      ]
    },
    {
      "cell_type": "code",
      "metadata": {
        "colab": {
          "base_uri": "https://localhost:8080/"
        },
        "id": "tpMUjVjYQwA7",
        "outputId": "aad2b93b-49bd-41ef-fa6a-274840cd1665"
      },
      "source": [
        "################  NÃO MUDAR NADA #######################\n",
        "from google.colab import drive\n",
        "drive.mount('/content/drive')"
      ],
      "execution_count": 1,
      "outputs": [
        {
          "output_type": "stream",
          "text": [
            "Drive already mounted at /content/drive; to attempt to forcibly remount, call drive.mount(\"/content/drive\", force_remount=True).\n"
          ],
          "name": "stdout"
        }
      ]
    },
    {
      "cell_type": "code",
      "metadata": {
        "colab": {
          "base_uri": "https://localhost:8080/"
        },
        "id": "6yVT2YTuZW9J",
        "outputId": "5b71d9ff-548d-4ca5-ccba-89ab68c6f1cc"
      },
      "source": [
        "################  NÃO MUDAR NADA #######################\n",
        "ls /content/drive/MyDrive/data"
      ],
      "execution_count": 2,
      "outputs": [
        {
          "output_type": "stream",
          "text": [
            "\u001b[0m\u001b[01;34mdigits\u001b[0m/    digTest58k.txt   features.txt  lab1.ipynb  y.csv\n",
            "digits.py  digTrain20k.txt  knn.py        X.csv\n"
          ],
          "name": "stdout"
        }
      ]
    },
    {
      "cell_type": "code",
      "metadata": {
        "id": "hPfpWAYkQPNu"
      },
      "source": [
        "################  NÃO MUDAR NADA #######################\n",
        "import sys\n",
        "import numpy as np\n",
        "import time\n",
        "\n",
        "from sklearn import linear_model\n",
        "from sklearn.neighbors import KNeighborsClassifier\n",
        "from sklearn.discriminant_analysis import LinearDiscriminantAnalysis\n",
        "\n",
        "from sklearn.metrics import confusion_matrix \n",
        "from sklearn.datasets import load_svmlight_file\n",
        "\n",
        "from sklearn.naive_bayes import BernoulliNB\n",
        "from sklearn.naive_bayes import GaussianNB\n",
        "from sklearn.naive_bayes import MultinomialNB \n",
        "from sklearn.linear_model import Perceptron\n",
        "from sklearn.ensemble import RandomForestClassifier"
      ],
      "execution_count": 3,
      "outputs": []
    },
    {
      "cell_type": "code",
      "metadata": {
        "colab": {
          "base_uri": "https://localhost:8080/"
        },
        "id": "itWAdyoGY42m",
        "outputId": "fa7efbb1-3310-4cd1-d038-bd71680e575f"
      },
      "source": [
        "################  NÃO MUDAR NADA #######################\n",
        "\tprint (\"Loading data...\")\n",
        "\tX_train, y_train = load_svmlight_file('/content/drive/MyDrive/data/digTrain20k.txt')\n",
        "\tX_test, y_test = load_svmlight_file('/content/drive/MyDrive/data/digTest58k.txt')\n",
        "\tsize = X_train.shape"
      ],
      "execution_count": 18,
      "outputs": [
        {
          "output_type": "stream",
          "text": [
            "Loading data...\n"
          ],
          "name": "stdout"
        }
      ]
    },
    {
      "cell_type": "code",
      "metadata": {
        "colab": {
          "base_uri": "https://localhost:8080/"
        },
        "id": "7FbG9TJUZ-fw",
        "outputId": "e44e5bd3-af94-4e80-fca8-9044d0686806"
      },
      "source": [
        "################## aqui fazemos as mudanças!!!!!! fiz um bloco pra cada classificador então só comentei nesse primeiro ##########\n",
        "batchsize = 1000    ########## qdo a base for >1mil colocar 1mil aqui / qdo a base for <1mil colocar 100 aqui\n",
        "ini = 0\n",
        "end = batchsize\n",
        "\n",
        "historyLR = []             ##########  abrindo a lista do classificador LR\n",
        "#while(end <= size[0] ):   ########  aqui é a base 20mil\n",
        "#while(end <= 1000 ):   ########  aqui é a base <1mil\n",
        "while(end <= 58646 ):   ########  aqui é a base toda\n",
        "  xt = X_train[0:end]\n",
        "  yt = y_train[0:end]\n",
        "  print (\"Training size... \", end)\t \n",
        "  start_time = time.time()  \n",
        "   \n",
        "  #clf = RandomForestClassifier()\n",
        "  clfLR = linear_model.LogisticRegression()   # esse bloco é para esse classificador!\n",
        "  #clfGNB = GaussianNB()\n",
        "  #clfLDA = LinearDiscriminantAnalysis()\n",
        "  #clfPtron = Perceptron(max_iter=100)\n",
        "   \n",
        "  X_train_dense = xt.toarray()\n",
        "  clfLR.fit(X_train_dense, yt)   #### aqui tem que mudar clf para clfLR\n",
        "  X_test_dense = X_test.toarray()\n",
        "  y_pred = clfLR.predict(X_test_dense)     #### aqui tem que mudar clf para clfLR\n",
        "   \n",
        "  # mostra o resultado do classificador na base de teste\n",
        "  historyLR.append(clfLR.score(X_test_dense, y_test))   #### aqui tem que mudar clf para clfLR / history para historyLR\n",
        "   \n",
        "  print(\"--- %s seconds ---\" % (time.time() - start_time))\n",
        "  end = end + batchsize\n",
        "  print (historyLR)   #### aqui tem que mudar history para historyLR"
      ],
      "execution_count": 32,
      "outputs": [
        {
          "output_type": "stream",
          "text": [
            "Training size...  1000\n",
            "--- 0.2705216407775879 seconds ---\n",
            "[0.7291204856256182]\n",
            "Training size...  2000\n",
            "--- 0.41630029678344727 seconds ---\n",
            "[0.7291204856256182, 0.782457456604031]\n",
            "Training size...  3000\n",
            "--- 0.5966980457305908 seconds ---\n",
            "[0.7291204856256182, 0.782457456604031, 0.8068922006615967]\n",
            "Training size...  4000\n",
            "--- 0.8810510635375977 seconds ---\n",
            "[0.7291204856256182, 0.782457456604031, 0.8068922006615967, 0.8138662483374826]\n",
            "Training size...  5000\n",
            "--- 1.0730345249176025 seconds ---\n",
            "[0.7291204856256182, 0.782457456604031, 0.8068922006615967, 0.8138662483374826, 0.8190157896531732]\n",
            "Training size...  6000\n",
            "--- 1.4080262184143066 seconds ---\n",
            "[0.7291204856256182, 0.782457456604031, 0.8068922006615967, 0.8138662483374826, 0.8190157896531732, 0.8422057770350919]\n",
            "Training size...  7000\n"
          ],
          "name": "stdout"
        },
        {
          "output_type": "stream",
          "text": [
            "/usr/local/lib/python3.7/dist-packages/sklearn/linear_model/_logistic.py:940: ConvergenceWarning: lbfgs failed to converge (status=1):\n",
            "STOP: TOTAL NO. of ITERATIONS REACHED LIMIT.\n",
            "\n",
            "Increase the number of iterations (max_iter) or scale the data as shown in:\n",
            "    https://scikit-learn.org/stable/modules/preprocessing.html\n",
            "Please also refer to the documentation for alternative solver options:\n",
            "    https://scikit-learn.org/stable/modules/linear_model.html#logistic-regression\n",
            "  extra_warning_msg=_LOGISTIC_SOLVER_CONVERGENCE_MSG)\n"
          ],
          "name": "stderr"
        },
        {
          "output_type": "stream",
          "text": [
            "--- 1.619258165359497 seconds ---\n",
            "[0.7291204856256182, 0.782457456604031, 0.8068922006615967, 0.8138662483374826, 0.8190157896531732, 0.8422057770350919, 0.8632643317532313]\n",
            "Training size...  8000\n"
          ],
          "name": "stdout"
        },
        {
          "output_type": "stream",
          "text": [
            "/usr/local/lib/python3.7/dist-packages/sklearn/linear_model/_logistic.py:940: ConvergenceWarning: lbfgs failed to converge (status=1):\n",
            "STOP: TOTAL NO. of ITERATIONS REACHED LIMIT.\n",
            "\n",
            "Increase the number of iterations (max_iter) or scale the data as shown in:\n",
            "    https://scikit-learn.org/stable/modules/preprocessing.html\n",
            "Please also refer to the documentation for alternative solver options:\n",
            "    https://scikit-learn.org/stable/modules/linear_model.html#logistic-regression\n",
            "  extra_warning_msg=_LOGISTIC_SOLVER_CONVERGENCE_MSG)\n"
          ],
          "name": "stderr"
        },
        {
          "output_type": "stream",
          "text": [
            "--- 1.8425967693328857 seconds ---\n",
            "[0.7291204856256182, 0.782457456604031, 0.8068922006615967, 0.8138662483374826, 0.8190157896531732, 0.8422057770350919, 0.8632643317532313, 0.8809466971319442]\n",
            "Training size...  9000\n"
          ],
          "name": "stdout"
        },
        {
          "output_type": "stream",
          "text": [
            "/usr/local/lib/python3.7/dist-packages/sklearn/linear_model/_logistic.py:940: ConvergenceWarning: lbfgs failed to converge (status=1):\n",
            "STOP: TOTAL NO. of ITERATIONS REACHED LIMIT.\n",
            "\n",
            "Increase the number of iterations (max_iter) or scale the data as shown in:\n",
            "    https://scikit-learn.org/stable/modules/preprocessing.html\n",
            "Please also refer to the documentation for alternative solver options:\n",
            "    https://scikit-learn.org/stable/modules/linear_model.html#logistic-regression\n",
            "  extra_warning_msg=_LOGISTIC_SOLVER_CONVERGENCE_MSG)\n"
          ],
          "name": "stderr"
        },
        {
          "output_type": "stream",
          "text": [
            "--- 2.0470809936523438 seconds ---\n",
            "[0.7291204856256182, 0.782457456604031, 0.8068922006615967, 0.8138662483374826, 0.8190157896531732, 0.8422057770350919, 0.8632643317532313, 0.8809466971319442, 0.8886369061828598]\n",
            "Training size...  10000\n"
          ],
          "name": "stdout"
        },
        {
          "output_type": "stream",
          "text": [
            "/usr/local/lib/python3.7/dist-packages/sklearn/linear_model/_logistic.py:940: ConvergenceWarning: lbfgs failed to converge (status=1):\n",
            "STOP: TOTAL NO. of ITERATIONS REACHED LIMIT.\n",
            "\n",
            "Increase the number of iterations (max_iter) or scale the data as shown in:\n",
            "    https://scikit-learn.org/stable/modules/preprocessing.html\n",
            "Please also refer to the documentation for alternative solver options:\n",
            "    https://scikit-learn.org/stable/modules/linear_model.html#logistic-regression\n",
            "  extra_warning_msg=_LOGISTIC_SOLVER_CONVERGENCE_MSG)\n"
          ],
          "name": "stderr"
        },
        {
          "output_type": "stream",
          "text": [
            "--- 2.3229169845581055 seconds ---\n",
            "[0.7291204856256182, 0.782457456604031, 0.8068922006615967, 0.8138662483374826, 0.8190157896531732, 0.8422057770350919, 0.8632643317532313, 0.8809466971319442, 0.8886369061828598, 0.8960201889301913]\n",
            "Training size...  11000\n"
          ],
          "name": "stdout"
        },
        {
          "output_type": "stream",
          "text": [
            "/usr/local/lib/python3.7/dist-packages/sklearn/linear_model/_logistic.py:940: ConvergenceWarning: lbfgs failed to converge (status=1):\n",
            "STOP: TOTAL NO. of ITERATIONS REACHED LIMIT.\n",
            "\n",
            "Increase the number of iterations (max_iter) or scale the data as shown in:\n",
            "    https://scikit-learn.org/stable/modules/preprocessing.html\n",
            "Please also refer to the documentation for alternative solver options:\n",
            "    https://scikit-learn.org/stable/modules/linear_model.html#logistic-regression\n",
            "  extra_warning_msg=_LOGISTIC_SOLVER_CONVERGENCE_MSG)\n"
          ],
          "name": "stderr"
        },
        {
          "output_type": "stream",
          "text": [
            "--- 2.5070905685424805 seconds ---\n",
            "[0.7291204856256182, 0.782457456604031, 0.8068922006615967, 0.8138662483374826, 0.8190157896531732, 0.8422057770350919, 0.8632643317532313, 0.8809466971319442, 0.8886369061828598, 0.8960201889301913, 0.895781468471848]\n",
            "Training size...  12000\n"
          ],
          "name": "stdout"
        },
        {
          "output_type": "stream",
          "text": [
            "/usr/local/lib/python3.7/dist-packages/sklearn/linear_model/_logistic.py:940: ConvergenceWarning: lbfgs failed to converge (status=1):\n",
            "STOP: TOTAL NO. of ITERATIONS REACHED LIMIT.\n",
            "\n",
            "Increase the number of iterations (max_iter) or scale the data as shown in:\n",
            "    https://scikit-learn.org/stable/modules/preprocessing.html\n",
            "Please also refer to the documentation for alternative solver options:\n",
            "    https://scikit-learn.org/stable/modules/linear_model.html#logistic-regression\n",
            "  extra_warning_msg=_LOGISTIC_SOLVER_CONVERGENCE_MSG)\n"
          ],
          "name": "stderr"
        },
        {
          "output_type": "stream",
          "text": [
            "--- 2.6627378463745117 seconds ---\n",
            "[0.7291204856256182, 0.782457456604031, 0.8068922006615967, 0.8138662483374826, 0.8190157896531732, 0.8422057770350919, 0.8632643317532313, 0.8809466971319442, 0.8886369061828598, 0.8960201889301913, 0.895781468471848, 0.8964464754629472]\n",
            "Training size...  13000\n"
          ],
          "name": "stdout"
        },
        {
          "output_type": "stream",
          "text": [
            "/usr/local/lib/python3.7/dist-packages/sklearn/linear_model/_logistic.py:940: ConvergenceWarning: lbfgs failed to converge (status=1):\n",
            "STOP: TOTAL NO. of ITERATIONS REACHED LIMIT.\n",
            "\n",
            "Increase the number of iterations (max_iter) or scale the data as shown in:\n",
            "    https://scikit-learn.org/stable/modules/preprocessing.html\n",
            "Please also refer to the documentation for alternative solver options:\n",
            "    https://scikit-learn.org/stable/modules/linear_model.html#logistic-regression\n",
            "  extra_warning_msg=_LOGISTIC_SOLVER_CONVERGENCE_MSG)\n"
          ],
          "name": "stderr"
        },
        {
          "output_type": "stream",
          "text": [
            "--- 2.8566999435424805 seconds ---\n",
            "[0.7291204856256182, 0.782457456604031, 0.8068922006615967, 0.8138662483374826, 0.8190157896531732, 0.8422057770350919, 0.8632643317532313, 0.8809466971319442, 0.8886369061828598, 0.8960201889301913, 0.895781468471848, 0.8964464754629472, 0.8988507315076902]\n",
            "Training size...  14000\n"
          ],
          "name": "stdout"
        },
        {
          "output_type": "stream",
          "text": [
            "/usr/local/lib/python3.7/dist-packages/sklearn/linear_model/_logistic.py:940: ConvergenceWarning: lbfgs failed to converge (status=1):\n",
            "STOP: TOTAL NO. of ITERATIONS REACHED LIMIT.\n",
            "\n",
            "Increase the number of iterations (max_iter) or scale the data as shown in:\n",
            "    https://scikit-learn.org/stable/modules/preprocessing.html\n",
            "Please also refer to the documentation for alternative solver options:\n",
            "    https://scikit-learn.org/stable/modules/linear_model.html#logistic-regression\n",
            "  extra_warning_msg=_LOGISTIC_SOLVER_CONVERGENCE_MSG)\n"
          ],
          "name": "stderr"
        },
        {
          "output_type": "stream",
          "text": [
            "--- 3.208879232406616 seconds ---\n",
            "[0.7291204856256182, 0.782457456604031, 0.8068922006615967, 0.8138662483374826, 0.8190157896531732, 0.8422057770350919, 0.8632643317532313, 0.8809466971319442, 0.8886369061828598, 0.8960201889301913, 0.895781468471848, 0.8964464754629472, 0.8988507315076902, 0.898253930361832]\n",
            "Training size...  15000\n"
          ],
          "name": "stdout"
        },
        {
          "output_type": "stream",
          "text": [
            "/usr/local/lib/python3.7/dist-packages/sklearn/linear_model/_logistic.py:940: ConvergenceWarning: lbfgs failed to converge (status=1):\n",
            "STOP: TOTAL NO. of ITERATIONS REACHED LIMIT.\n",
            "\n",
            "Increase the number of iterations (max_iter) or scale the data as shown in:\n",
            "    https://scikit-learn.org/stable/modules/preprocessing.html\n",
            "Please also refer to the documentation for alternative solver options:\n",
            "    https://scikit-learn.org/stable/modules/linear_model.html#logistic-regression\n",
            "  extra_warning_msg=_LOGISTIC_SOLVER_CONVERGENCE_MSG)\n"
          ],
          "name": "stderr"
        },
        {
          "output_type": "stream",
          "text": [
            "--- 3.290374279022217 seconds ---\n",
            "[0.7291204856256182, 0.782457456604031, 0.8068922006615967, 0.8138662483374826, 0.8190157896531732, 0.8422057770350919, 0.8632643317532313, 0.8809466971319442, 0.8886369061828598, 0.8960201889301913, 0.895781468471848, 0.8964464754629472, 0.8988507315076902, 0.898253930361832, 0.8982027759779013]\n",
            "Training size...  16000\n"
          ],
          "name": "stdout"
        },
        {
          "output_type": "stream",
          "text": [
            "/usr/local/lib/python3.7/dist-packages/sklearn/linear_model/_logistic.py:940: ConvergenceWarning: lbfgs failed to converge (status=1):\n",
            "STOP: TOTAL NO. of ITERATIONS REACHED LIMIT.\n",
            "\n",
            "Increase the number of iterations (max_iter) or scale the data as shown in:\n",
            "    https://scikit-learn.org/stable/modules/preprocessing.html\n",
            "Please also refer to the documentation for alternative solver options:\n",
            "    https://scikit-learn.org/stable/modules/linear_model.html#logistic-regression\n",
            "  extra_warning_msg=_LOGISTIC_SOLVER_CONVERGENCE_MSG)\n"
          ],
          "name": "stderr"
        },
        {
          "output_type": "stream",
          "text": [
            "--- 3.563401937484741 seconds ---\n",
            "[0.7291204856256182, 0.782457456604031, 0.8068922006615967, 0.8138662483374826, 0.8190157896531732, 0.8422057770350919, 0.8632643317532313, 0.8809466971319442, 0.8886369061828598, 0.8960201889301913, 0.895781468471848, 0.8964464754629472, 0.8988507315076902, 0.898253930361832, 0.8982027759779013, 0.9021246120792552]\n",
            "Training size...  17000\n"
          ],
          "name": "stdout"
        },
        {
          "output_type": "stream",
          "text": [
            "/usr/local/lib/python3.7/dist-packages/sklearn/linear_model/_logistic.py:940: ConvergenceWarning: lbfgs failed to converge (status=1):\n",
            "STOP: TOTAL NO. of ITERATIONS REACHED LIMIT.\n",
            "\n",
            "Increase the number of iterations (max_iter) or scale the data as shown in:\n",
            "    https://scikit-learn.org/stable/modules/preprocessing.html\n",
            "Please also refer to the documentation for alternative solver options:\n",
            "    https://scikit-learn.org/stable/modules/linear_model.html#logistic-regression\n",
            "  extra_warning_msg=_LOGISTIC_SOLVER_CONVERGENCE_MSG)\n"
          ],
          "name": "stderr"
        },
        {
          "output_type": "stream",
          "text": [
            "--- 3.702167272567749 seconds ---\n",
            "[0.7291204856256182, 0.782457456604031, 0.8068922006615967, 0.8138662483374826, 0.8190157896531732, 0.8422057770350919, 0.8632643317532313, 0.8809466971319442, 0.8886369061828598, 0.8960201889301913, 0.895781468471848, 0.8964464754629472, 0.8988507315076902, 0.898253930361832, 0.8982027759779013, 0.9021246120792552, 0.9047675885823415]\n",
            "Training size...  18000\n"
          ],
          "name": "stdout"
        },
        {
          "output_type": "stream",
          "text": [
            "/usr/local/lib/python3.7/dist-packages/sklearn/linear_model/_logistic.py:940: ConvergenceWarning: lbfgs failed to converge (status=1):\n",
            "STOP: TOTAL NO. of ITERATIONS REACHED LIMIT.\n",
            "\n",
            "Increase the number of iterations (max_iter) or scale the data as shown in:\n",
            "    https://scikit-learn.org/stable/modules/preprocessing.html\n",
            "Please also refer to the documentation for alternative solver options:\n",
            "    https://scikit-learn.org/stable/modules/linear_model.html#logistic-regression\n",
            "  extra_warning_msg=_LOGISTIC_SOLVER_CONVERGENCE_MSG)\n"
          ],
          "name": "stderr"
        },
        {
          "output_type": "stream",
          "text": [
            "--- 3.827803134918213 seconds ---\n",
            "[0.7291204856256182, 0.782457456604031, 0.8068922006615967, 0.8138662483374826, 0.8190157896531732, 0.8422057770350919, 0.8632643317532313, 0.8809466971319442, 0.8886369061828598, 0.8960201889301913, 0.895781468471848, 0.8964464754629472, 0.8988507315076902, 0.898253930361832, 0.8982027759779013, 0.9021246120792552, 0.9047675885823415, 0.9080585206152167]\n",
            "Training size...  19000\n"
          ],
          "name": "stdout"
        },
        {
          "output_type": "stream",
          "text": [
            "/usr/local/lib/python3.7/dist-packages/sklearn/linear_model/_logistic.py:940: ConvergenceWarning: lbfgs failed to converge (status=1):\n",
            "STOP: TOTAL NO. of ITERATIONS REACHED LIMIT.\n",
            "\n",
            "Increase the number of iterations (max_iter) or scale the data as shown in:\n",
            "    https://scikit-learn.org/stable/modules/preprocessing.html\n",
            "Please also refer to the documentation for alternative solver options:\n",
            "    https://scikit-learn.org/stable/modules/linear_model.html#logistic-regression\n",
            "  extra_warning_msg=_LOGISTIC_SOLVER_CONVERGENCE_MSG)\n"
          ],
          "name": "stderr"
        },
        {
          "output_type": "stream",
          "text": [
            "--- 4.096154451370239 seconds ---\n",
            "[0.7291204856256182, 0.782457456604031, 0.8068922006615967, 0.8138662483374826, 0.8190157896531732, 0.8422057770350919, 0.8632643317532313, 0.8809466971319442, 0.8886369061828598, 0.8960201889301913, 0.895781468471848, 0.8964464754629472, 0.8988507315076902, 0.898253930361832, 0.8982027759779013, 0.9021246120792552, 0.9047675885823415, 0.9080585206152167, 0.9100876445111346]\n",
            "Training size...  20000\n"
          ],
          "name": "stdout"
        },
        {
          "output_type": "stream",
          "text": [
            "/usr/local/lib/python3.7/dist-packages/sklearn/linear_model/_logistic.py:940: ConvergenceWarning: lbfgs failed to converge (status=1):\n",
            "STOP: TOTAL NO. of ITERATIONS REACHED LIMIT.\n",
            "\n",
            "Increase the number of iterations (max_iter) or scale the data as shown in:\n",
            "    https://scikit-learn.org/stable/modules/preprocessing.html\n",
            "Please also refer to the documentation for alternative solver options:\n",
            "    https://scikit-learn.org/stable/modules/linear_model.html#logistic-regression\n",
            "  extra_warning_msg=_LOGISTIC_SOLVER_CONVERGENCE_MSG)\n"
          ],
          "name": "stderr"
        },
        {
          "output_type": "stream",
          "text": [
            "--- 4.361361742019653 seconds ---\n",
            "[0.7291204856256182, 0.782457456604031, 0.8068922006615967, 0.8138662483374826, 0.8190157896531732, 0.8422057770350919, 0.8632643317532313, 0.8809466971319442, 0.8886369061828598, 0.8960201889301913, 0.895781468471848, 0.8964464754629472, 0.8988507315076902, 0.898253930361832, 0.8982027759779013, 0.9021246120792552, 0.9047675885823415, 0.9080585206152167, 0.9100876445111346, 0.9118268935647785]\n",
            "Training size...  21000\n"
          ],
          "name": "stdout"
        },
        {
          "output_type": "stream",
          "text": [
            "/usr/local/lib/python3.7/dist-packages/sklearn/linear_model/_logistic.py:940: ConvergenceWarning: lbfgs failed to converge (status=1):\n",
            "STOP: TOTAL NO. of ITERATIONS REACHED LIMIT.\n",
            "\n",
            "Increase the number of iterations (max_iter) or scale the data as shown in:\n",
            "    https://scikit-learn.org/stable/modules/preprocessing.html\n",
            "Please also refer to the documentation for alternative solver options:\n",
            "    https://scikit-learn.org/stable/modules/linear_model.html#logistic-regression\n",
            "  extra_warning_msg=_LOGISTIC_SOLVER_CONVERGENCE_MSG)\n"
          ],
          "name": "stderr"
        },
        {
          "output_type": "stream",
          "text": [
            "--- 4.302178621292114 seconds ---\n",
            "[0.7291204856256182, 0.782457456604031, 0.8068922006615967, 0.8138662483374826, 0.8190157896531732, 0.8422057770350919, 0.8632643317532313, 0.8809466971319442, 0.8886369061828598, 0.8960201889301913, 0.895781468471848, 0.8964464754629472, 0.8988507315076902, 0.898253930361832, 0.8982027759779013, 0.9021246120792552, 0.9047675885823415, 0.9080585206152167, 0.9100876445111346, 0.9118268935647785, 0.9118268935647785]\n",
            "Training size...  22000\n"
          ],
          "name": "stdout"
        },
        {
          "output_type": "stream",
          "text": [
            "/usr/local/lib/python3.7/dist-packages/sklearn/linear_model/_logistic.py:940: ConvergenceWarning: lbfgs failed to converge (status=1):\n",
            "STOP: TOTAL NO. of ITERATIONS REACHED LIMIT.\n",
            "\n",
            "Increase the number of iterations (max_iter) or scale the data as shown in:\n",
            "    https://scikit-learn.org/stable/modules/preprocessing.html\n",
            "Please also refer to the documentation for alternative solver options:\n",
            "    https://scikit-learn.org/stable/modules/linear_model.html#logistic-regression\n",
            "  extra_warning_msg=_LOGISTIC_SOLVER_CONVERGENCE_MSG)\n"
          ],
          "name": "stderr"
        },
        {
          "output_type": "stream",
          "text": [
            "--- 4.309149265289307 seconds ---\n",
            "[0.7291204856256182, 0.782457456604031, 0.8068922006615967, 0.8138662483374826, 0.8190157896531732, 0.8422057770350919, 0.8632643317532313, 0.8809466971319442, 0.8886369061828598, 0.8960201889301913, 0.895781468471848, 0.8964464754629472, 0.8988507315076902, 0.898253930361832, 0.8982027759779013, 0.9021246120792552, 0.9047675885823415, 0.9080585206152167, 0.9100876445111346, 0.9118268935647785, 0.9118268935647785, 0.9118268935647785]\n",
            "Training size...  23000\n"
          ],
          "name": "stdout"
        },
        {
          "output_type": "stream",
          "text": [
            "/usr/local/lib/python3.7/dist-packages/sklearn/linear_model/_logistic.py:940: ConvergenceWarning: lbfgs failed to converge (status=1):\n",
            "STOP: TOTAL NO. of ITERATIONS REACHED LIMIT.\n",
            "\n",
            "Increase the number of iterations (max_iter) or scale the data as shown in:\n",
            "    https://scikit-learn.org/stable/modules/preprocessing.html\n",
            "Please also refer to the documentation for alternative solver options:\n",
            "    https://scikit-learn.org/stable/modules/linear_model.html#logistic-regression\n",
            "  extra_warning_msg=_LOGISTIC_SOLVER_CONVERGENCE_MSG)\n"
          ],
          "name": "stderr"
        },
        {
          "output_type": "stream",
          "text": [
            "--- 4.363243103027344 seconds ---\n",
            "[0.7291204856256182, 0.782457456604031, 0.8068922006615967, 0.8138662483374826, 0.8190157896531732, 0.8422057770350919, 0.8632643317532313, 0.8809466971319442, 0.8886369061828598, 0.8960201889301913, 0.895781468471848, 0.8964464754629472, 0.8988507315076902, 0.898253930361832, 0.8982027759779013, 0.9021246120792552, 0.9047675885823415, 0.9080585206152167, 0.9100876445111346, 0.9118268935647785, 0.9118268935647785, 0.9118268935647785, 0.9118268935647785]\n",
            "Training size...  24000\n"
          ],
          "name": "stdout"
        },
        {
          "output_type": "stream",
          "text": [
            "/usr/local/lib/python3.7/dist-packages/sklearn/linear_model/_logistic.py:940: ConvergenceWarning: lbfgs failed to converge (status=1):\n",
            "STOP: TOTAL NO. of ITERATIONS REACHED LIMIT.\n",
            "\n",
            "Increase the number of iterations (max_iter) or scale the data as shown in:\n",
            "    https://scikit-learn.org/stable/modules/preprocessing.html\n",
            "Please also refer to the documentation for alternative solver options:\n",
            "    https://scikit-learn.org/stable/modules/linear_model.html#logistic-regression\n",
            "  extra_warning_msg=_LOGISTIC_SOLVER_CONVERGENCE_MSG)\n"
          ],
          "name": "stderr"
        },
        {
          "output_type": "stream",
          "text": [
            "--- 4.338599920272827 seconds ---\n",
            "[0.7291204856256182, 0.782457456604031, 0.8068922006615967, 0.8138662483374826, 0.8190157896531732, 0.8422057770350919, 0.8632643317532313, 0.8809466971319442, 0.8886369061828598, 0.8960201889301913, 0.895781468471848, 0.8964464754629472, 0.8988507315076902, 0.898253930361832, 0.8982027759779013, 0.9021246120792552, 0.9047675885823415, 0.9080585206152167, 0.9100876445111346, 0.9118268935647785, 0.9118268935647785, 0.9118268935647785, 0.9118268935647785, 0.9118268935647785]\n",
            "Training size...  25000\n"
          ],
          "name": "stdout"
        },
        {
          "output_type": "stream",
          "text": [
            "/usr/local/lib/python3.7/dist-packages/sklearn/linear_model/_logistic.py:940: ConvergenceWarning: lbfgs failed to converge (status=1):\n",
            "STOP: TOTAL NO. of ITERATIONS REACHED LIMIT.\n",
            "\n",
            "Increase the number of iterations (max_iter) or scale the data as shown in:\n",
            "    https://scikit-learn.org/stable/modules/preprocessing.html\n",
            "Please also refer to the documentation for alternative solver options:\n",
            "    https://scikit-learn.org/stable/modules/linear_model.html#logistic-regression\n",
            "  extra_warning_msg=_LOGISTIC_SOLVER_CONVERGENCE_MSG)\n"
          ],
          "name": "stderr"
        },
        {
          "output_type": "stream",
          "text": [
            "--- 4.354833126068115 seconds ---\n",
            "[0.7291204856256182, 0.782457456604031, 0.8068922006615967, 0.8138662483374826, 0.8190157896531732, 0.8422057770350919, 0.8632643317532313, 0.8809466971319442, 0.8886369061828598, 0.8960201889301913, 0.895781468471848, 0.8964464754629472, 0.8988507315076902, 0.898253930361832, 0.8982027759779013, 0.9021246120792552, 0.9047675885823415, 0.9080585206152167, 0.9100876445111346, 0.9118268935647785, 0.9118268935647785, 0.9118268935647785, 0.9118268935647785, 0.9118268935647785, 0.9118268935647785]\n",
            "Training size...  26000\n"
          ],
          "name": "stdout"
        },
        {
          "output_type": "stream",
          "text": [
            "/usr/local/lib/python3.7/dist-packages/sklearn/linear_model/_logistic.py:940: ConvergenceWarning: lbfgs failed to converge (status=1):\n",
            "STOP: TOTAL NO. of ITERATIONS REACHED LIMIT.\n",
            "\n",
            "Increase the number of iterations (max_iter) or scale the data as shown in:\n",
            "    https://scikit-learn.org/stable/modules/preprocessing.html\n",
            "Please also refer to the documentation for alternative solver options:\n",
            "    https://scikit-learn.org/stable/modules/linear_model.html#logistic-regression\n",
            "  extra_warning_msg=_LOGISTIC_SOLVER_CONVERGENCE_MSG)\n"
          ],
          "name": "stderr"
        },
        {
          "output_type": "stream",
          "text": [
            "--- 4.328252077102661 seconds ---\n",
            "[0.7291204856256182, 0.782457456604031, 0.8068922006615967, 0.8138662483374826, 0.8190157896531732, 0.8422057770350919, 0.8632643317532313, 0.8809466971319442, 0.8886369061828598, 0.8960201889301913, 0.895781468471848, 0.8964464754629472, 0.8988507315076902, 0.898253930361832, 0.8982027759779013, 0.9021246120792552, 0.9047675885823415, 0.9080585206152167, 0.9100876445111346, 0.9118268935647785, 0.9118268935647785, 0.9118268935647785, 0.9118268935647785, 0.9118268935647785, 0.9118268935647785, 0.9118268935647785]\n",
            "Training size...  27000\n"
          ],
          "name": "stdout"
        },
        {
          "output_type": "stream",
          "text": [
            "/usr/local/lib/python3.7/dist-packages/sklearn/linear_model/_logistic.py:940: ConvergenceWarning: lbfgs failed to converge (status=1):\n",
            "STOP: TOTAL NO. of ITERATIONS REACHED LIMIT.\n",
            "\n",
            "Increase the number of iterations (max_iter) or scale the data as shown in:\n",
            "    https://scikit-learn.org/stable/modules/preprocessing.html\n",
            "Please also refer to the documentation for alternative solver options:\n",
            "    https://scikit-learn.org/stable/modules/linear_model.html#logistic-regression\n",
            "  extra_warning_msg=_LOGISTIC_SOLVER_CONVERGENCE_MSG)\n"
          ],
          "name": "stderr"
        },
        {
          "output_type": "stream",
          "text": [
            "--- 4.431606292724609 seconds ---\n",
            "[0.7291204856256182, 0.782457456604031, 0.8068922006615967, 0.8138662483374826, 0.8190157896531732, 0.8422057770350919, 0.8632643317532313, 0.8809466971319442, 0.8886369061828598, 0.8960201889301913, 0.895781468471848, 0.8964464754629472, 0.8988507315076902, 0.898253930361832, 0.8982027759779013, 0.9021246120792552, 0.9047675885823415, 0.9080585206152167, 0.9100876445111346, 0.9118268935647785, 0.9118268935647785, 0.9118268935647785, 0.9118268935647785, 0.9118268935647785, 0.9118268935647785, 0.9118268935647785, 0.9118268935647785]\n",
            "Training size...  28000\n"
          ],
          "name": "stdout"
        },
        {
          "output_type": "stream",
          "text": [
            "/usr/local/lib/python3.7/dist-packages/sklearn/linear_model/_logistic.py:940: ConvergenceWarning: lbfgs failed to converge (status=1):\n",
            "STOP: TOTAL NO. of ITERATIONS REACHED LIMIT.\n",
            "\n",
            "Increase the number of iterations (max_iter) or scale the data as shown in:\n",
            "    https://scikit-learn.org/stable/modules/preprocessing.html\n",
            "Please also refer to the documentation for alternative solver options:\n",
            "    https://scikit-learn.org/stable/modules/linear_model.html#logistic-regression\n",
            "  extra_warning_msg=_LOGISTIC_SOLVER_CONVERGENCE_MSG)\n"
          ],
          "name": "stderr"
        },
        {
          "output_type": "stream",
          "text": [
            "--- 4.317156791687012 seconds ---\n",
            "[0.7291204856256182, 0.782457456604031, 0.8068922006615967, 0.8138662483374826, 0.8190157896531732, 0.8422057770350919, 0.8632643317532313, 0.8809466971319442, 0.8886369061828598, 0.8960201889301913, 0.895781468471848, 0.8964464754629472, 0.8988507315076902, 0.898253930361832, 0.8982027759779013, 0.9021246120792552, 0.9047675885823415, 0.9080585206152167, 0.9100876445111346, 0.9118268935647785, 0.9118268935647785, 0.9118268935647785, 0.9118268935647785, 0.9118268935647785, 0.9118268935647785, 0.9118268935647785, 0.9118268935647785, 0.9118268935647785]\n",
            "Training size...  29000\n"
          ],
          "name": "stdout"
        },
        {
          "output_type": "stream",
          "text": [
            "/usr/local/lib/python3.7/dist-packages/sklearn/linear_model/_logistic.py:940: ConvergenceWarning: lbfgs failed to converge (status=1):\n",
            "STOP: TOTAL NO. of ITERATIONS REACHED LIMIT.\n",
            "\n",
            "Increase the number of iterations (max_iter) or scale the data as shown in:\n",
            "    https://scikit-learn.org/stable/modules/preprocessing.html\n",
            "Please also refer to the documentation for alternative solver options:\n",
            "    https://scikit-learn.org/stable/modules/linear_model.html#logistic-regression\n",
            "  extra_warning_msg=_LOGISTIC_SOLVER_CONVERGENCE_MSG)\n"
          ],
          "name": "stderr"
        },
        {
          "output_type": "stream",
          "text": [
            "--- 4.343125343322754 seconds ---\n",
            "[0.7291204856256182, 0.782457456604031, 0.8068922006615967, 0.8138662483374826, 0.8190157896531732, 0.8422057770350919, 0.8632643317532313, 0.8809466971319442, 0.8886369061828598, 0.8960201889301913, 0.895781468471848, 0.8964464754629472, 0.8988507315076902, 0.898253930361832, 0.8982027759779013, 0.9021246120792552, 0.9047675885823415, 0.9080585206152167, 0.9100876445111346, 0.9118268935647785, 0.9118268935647785, 0.9118268935647785, 0.9118268935647785, 0.9118268935647785, 0.9118268935647785, 0.9118268935647785, 0.9118268935647785, 0.9118268935647785, 0.9118268935647785]\n",
            "Training size...  30000\n"
          ],
          "name": "stdout"
        },
        {
          "output_type": "stream",
          "text": [
            "/usr/local/lib/python3.7/dist-packages/sklearn/linear_model/_logistic.py:940: ConvergenceWarning: lbfgs failed to converge (status=1):\n",
            "STOP: TOTAL NO. of ITERATIONS REACHED LIMIT.\n",
            "\n",
            "Increase the number of iterations (max_iter) or scale the data as shown in:\n",
            "    https://scikit-learn.org/stable/modules/preprocessing.html\n",
            "Please also refer to the documentation for alternative solver options:\n",
            "    https://scikit-learn.org/stable/modules/linear_model.html#logistic-regression\n",
            "  extra_warning_msg=_LOGISTIC_SOLVER_CONVERGENCE_MSG)\n"
          ],
          "name": "stderr"
        },
        {
          "output_type": "stream",
          "text": [
            "--- 4.37568473815918 seconds ---\n",
            "[0.7291204856256182, 0.782457456604031, 0.8068922006615967, 0.8138662483374826, 0.8190157896531732, 0.8422057770350919, 0.8632643317532313, 0.8809466971319442, 0.8886369061828598, 0.8960201889301913, 0.895781468471848, 0.8964464754629472, 0.8988507315076902, 0.898253930361832, 0.8982027759779013, 0.9021246120792552, 0.9047675885823415, 0.9080585206152167, 0.9100876445111346, 0.9118268935647785, 0.9118268935647785, 0.9118268935647785, 0.9118268935647785, 0.9118268935647785, 0.9118268935647785, 0.9118268935647785, 0.9118268935647785, 0.9118268935647785, 0.9118268935647785, 0.9118268935647785]\n",
            "Training size...  31000\n"
          ],
          "name": "stdout"
        },
        {
          "output_type": "stream",
          "text": [
            "/usr/local/lib/python3.7/dist-packages/sklearn/linear_model/_logistic.py:940: ConvergenceWarning: lbfgs failed to converge (status=1):\n",
            "STOP: TOTAL NO. of ITERATIONS REACHED LIMIT.\n",
            "\n",
            "Increase the number of iterations (max_iter) or scale the data as shown in:\n",
            "    https://scikit-learn.org/stable/modules/preprocessing.html\n",
            "Please also refer to the documentation for alternative solver options:\n",
            "    https://scikit-learn.org/stable/modules/linear_model.html#logistic-regression\n",
            "  extra_warning_msg=_LOGISTIC_SOLVER_CONVERGENCE_MSG)\n"
          ],
          "name": "stderr"
        },
        {
          "output_type": "stream",
          "text": [
            "--- 4.326858282089233 seconds ---\n",
            "[0.7291204856256182, 0.782457456604031, 0.8068922006615967, 0.8138662483374826, 0.8190157896531732, 0.8422057770350919, 0.8632643317532313, 0.8809466971319442, 0.8886369061828598, 0.8960201889301913, 0.895781468471848, 0.8964464754629472, 0.8988507315076902, 0.898253930361832, 0.8982027759779013, 0.9021246120792552, 0.9047675885823415, 0.9080585206152167, 0.9100876445111346, 0.9118268935647785, 0.9118268935647785, 0.9118268935647785, 0.9118268935647785, 0.9118268935647785, 0.9118268935647785, 0.9118268935647785, 0.9118268935647785, 0.9118268935647785, 0.9118268935647785, 0.9118268935647785, 0.9118268935647785]\n",
            "Training size...  32000\n"
          ],
          "name": "stdout"
        },
        {
          "output_type": "stream",
          "text": [
            "/usr/local/lib/python3.7/dist-packages/sklearn/linear_model/_logistic.py:940: ConvergenceWarning: lbfgs failed to converge (status=1):\n",
            "STOP: TOTAL NO. of ITERATIONS REACHED LIMIT.\n",
            "\n",
            "Increase the number of iterations (max_iter) or scale the data as shown in:\n",
            "    https://scikit-learn.org/stable/modules/preprocessing.html\n",
            "Please also refer to the documentation for alternative solver options:\n",
            "    https://scikit-learn.org/stable/modules/linear_model.html#logistic-regression\n",
            "  extra_warning_msg=_LOGISTIC_SOLVER_CONVERGENCE_MSG)\n"
          ],
          "name": "stderr"
        },
        {
          "output_type": "stream",
          "text": [
            "--- 4.3728187084198 seconds ---\n",
            "[0.7291204856256182, 0.782457456604031, 0.8068922006615967, 0.8138662483374826, 0.8190157896531732, 0.8422057770350919, 0.8632643317532313, 0.8809466971319442, 0.8886369061828598, 0.8960201889301913, 0.895781468471848, 0.8964464754629472, 0.8988507315076902, 0.898253930361832, 0.8982027759779013, 0.9021246120792552, 0.9047675885823415, 0.9080585206152167, 0.9100876445111346, 0.9118268935647785, 0.9118268935647785, 0.9118268935647785, 0.9118268935647785, 0.9118268935647785, 0.9118268935647785, 0.9118268935647785, 0.9118268935647785, 0.9118268935647785, 0.9118268935647785, 0.9118268935647785, 0.9118268935647785, 0.9118268935647785]\n",
            "Training size...  33000\n"
          ],
          "name": "stdout"
        },
        {
          "output_type": "stream",
          "text": [
            "/usr/local/lib/python3.7/dist-packages/sklearn/linear_model/_logistic.py:940: ConvergenceWarning: lbfgs failed to converge (status=1):\n",
            "STOP: TOTAL NO. of ITERATIONS REACHED LIMIT.\n",
            "\n",
            "Increase the number of iterations (max_iter) or scale the data as shown in:\n",
            "    https://scikit-learn.org/stable/modules/preprocessing.html\n",
            "Please also refer to the documentation for alternative solver options:\n",
            "    https://scikit-learn.org/stable/modules/linear_model.html#logistic-regression\n",
            "  extra_warning_msg=_LOGISTIC_SOLVER_CONVERGENCE_MSG)\n"
          ],
          "name": "stderr"
        },
        {
          "output_type": "stream",
          "text": [
            "--- 4.333938360214233 seconds ---\n",
            "[0.7291204856256182, 0.782457456604031, 0.8068922006615967, 0.8138662483374826, 0.8190157896531732, 0.8422057770350919, 0.8632643317532313, 0.8809466971319442, 0.8886369061828598, 0.8960201889301913, 0.895781468471848, 0.8964464754629472, 0.8988507315076902, 0.898253930361832, 0.8982027759779013, 0.9021246120792552, 0.9047675885823415, 0.9080585206152167, 0.9100876445111346, 0.9118268935647785, 0.9118268935647785, 0.9118268935647785, 0.9118268935647785, 0.9118268935647785, 0.9118268935647785, 0.9118268935647785, 0.9118268935647785, 0.9118268935647785, 0.9118268935647785, 0.9118268935647785, 0.9118268935647785, 0.9118268935647785, 0.9118268935647785]\n",
            "Training size...  34000\n"
          ],
          "name": "stdout"
        },
        {
          "output_type": "stream",
          "text": [
            "/usr/local/lib/python3.7/dist-packages/sklearn/linear_model/_logistic.py:940: ConvergenceWarning: lbfgs failed to converge (status=1):\n",
            "STOP: TOTAL NO. of ITERATIONS REACHED LIMIT.\n",
            "\n",
            "Increase the number of iterations (max_iter) or scale the data as shown in:\n",
            "    https://scikit-learn.org/stable/modules/preprocessing.html\n",
            "Please also refer to the documentation for alternative solver options:\n",
            "    https://scikit-learn.org/stable/modules/linear_model.html#logistic-regression\n",
            "  extra_warning_msg=_LOGISTIC_SOLVER_CONVERGENCE_MSG)\n"
          ],
          "name": "stderr"
        },
        {
          "output_type": "stream",
          "text": [
            "--- 4.3471360206604 seconds ---\n",
            "[0.7291204856256182, 0.782457456604031, 0.8068922006615967, 0.8138662483374826, 0.8190157896531732, 0.8422057770350919, 0.8632643317532313, 0.8809466971319442, 0.8886369061828598, 0.8960201889301913, 0.895781468471848, 0.8964464754629472, 0.8988507315076902, 0.898253930361832, 0.8982027759779013, 0.9021246120792552, 0.9047675885823415, 0.9080585206152167, 0.9100876445111346, 0.9118268935647785, 0.9118268935647785, 0.9118268935647785, 0.9118268935647785, 0.9118268935647785, 0.9118268935647785, 0.9118268935647785, 0.9118268935647785, 0.9118268935647785, 0.9118268935647785, 0.9118268935647785, 0.9118268935647785, 0.9118268935647785, 0.9118268935647785, 0.9118268935647785]\n",
            "Training size...  35000\n"
          ],
          "name": "stdout"
        },
        {
          "output_type": "stream",
          "text": [
            "/usr/local/lib/python3.7/dist-packages/sklearn/linear_model/_logistic.py:940: ConvergenceWarning: lbfgs failed to converge (status=1):\n",
            "STOP: TOTAL NO. of ITERATIONS REACHED LIMIT.\n",
            "\n",
            "Increase the number of iterations (max_iter) or scale the data as shown in:\n",
            "    https://scikit-learn.org/stable/modules/preprocessing.html\n",
            "Please also refer to the documentation for alternative solver options:\n",
            "    https://scikit-learn.org/stable/modules/linear_model.html#logistic-regression\n",
            "  extra_warning_msg=_LOGISTIC_SOLVER_CONVERGENCE_MSG)\n"
          ],
          "name": "stderr"
        },
        {
          "output_type": "stream",
          "text": [
            "--- 4.3355584144592285 seconds ---\n",
            "[0.7291204856256182, 0.782457456604031, 0.8068922006615967, 0.8138662483374826, 0.8190157896531732, 0.8422057770350919, 0.8632643317532313, 0.8809466971319442, 0.8886369061828598, 0.8960201889301913, 0.895781468471848, 0.8964464754629472, 0.8988507315076902, 0.898253930361832, 0.8982027759779013, 0.9021246120792552, 0.9047675885823415, 0.9080585206152167, 0.9100876445111346, 0.9118268935647785, 0.9118268935647785, 0.9118268935647785, 0.9118268935647785, 0.9118268935647785, 0.9118268935647785, 0.9118268935647785, 0.9118268935647785, 0.9118268935647785, 0.9118268935647785, 0.9118268935647785, 0.9118268935647785, 0.9118268935647785, 0.9118268935647785, 0.9118268935647785, 0.9118268935647785]\n",
            "Training size...  36000\n"
          ],
          "name": "stdout"
        },
        {
          "output_type": "stream",
          "text": [
            "/usr/local/lib/python3.7/dist-packages/sklearn/linear_model/_logistic.py:940: ConvergenceWarning: lbfgs failed to converge (status=1):\n",
            "STOP: TOTAL NO. of ITERATIONS REACHED LIMIT.\n",
            "\n",
            "Increase the number of iterations (max_iter) or scale the data as shown in:\n",
            "    https://scikit-learn.org/stable/modules/preprocessing.html\n",
            "Please also refer to the documentation for alternative solver options:\n",
            "    https://scikit-learn.org/stable/modules/linear_model.html#logistic-regression\n",
            "  extra_warning_msg=_LOGISTIC_SOLVER_CONVERGENCE_MSG)\n"
          ],
          "name": "stderr"
        },
        {
          "output_type": "stream",
          "text": [
            "--- 4.331855773925781 seconds ---\n",
            "[0.7291204856256182, 0.782457456604031, 0.8068922006615967, 0.8138662483374826, 0.8190157896531732, 0.8422057770350919, 0.8632643317532313, 0.8809466971319442, 0.8886369061828598, 0.8960201889301913, 0.895781468471848, 0.8964464754629472, 0.8988507315076902, 0.898253930361832, 0.8982027759779013, 0.9021246120792552, 0.9047675885823415, 0.9080585206152167, 0.9100876445111346, 0.9118268935647785, 0.9118268935647785, 0.9118268935647785, 0.9118268935647785, 0.9118268935647785, 0.9118268935647785, 0.9118268935647785, 0.9118268935647785, 0.9118268935647785, 0.9118268935647785, 0.9118268935647785, 0.9118268935647785, 0.9118268935647785, 0.9118268935647785, 0.9118268935647785, 0.9118268935647785, 0.9118268935647785]\n",
            "Training size...  37000\n"
          ],
          "name": "stdout"
        },
        {
          "output_type": "stream",
          "text": [
            "/usr/local/lib/python3.7/dist-packages/sklearn/linear_model/_logistic.py:940: ConvergenceWarning: lbfgs failed to converge (status=1):\n",
            "STOP: TOTAL NO. of ITERATIONS REACHED LIMIT.\n",
            "\n",
            "Increase the number of iterations (max_iter) or scale the data as shown in:\n",
            "    https://scikit-learn.org/stable/modules/preprocessing.html\n",
            "Please also refer to the documentation for alternative solver options:\n",
            "    https://scikit-learn.org/stable/modules/linear_model.html#logistic-regression\n",
            "  extra_warning_msg=_LOGISTIC_SOLVER_CONVERGENCE_MSG)\n"
          ],
          "name": "stderr"
        },
        {
          "output_type": "stream",
          "text": [
            "--- 4.328009128570557 seconds ---\n",
            "[0.7291204856256182, 0.782457456604031, 0.8068922006615967, 0.8138662483374826, 0.8190157896531732, 0.8422057770350919, 0.8632643317532313, 0.8809466971319442, 0.8886369061828598, 0.8960201889301913, 0.895781468471848, 0.8964464754629472, 0.8988507315076902, 0.898253930361832, 0.8982027759779013, 0.9021246120792552, 0.9047675885823415, 0.9080585206152167, 0.9100876445111346, 0.9118268935647785, 0.9118268935647785, 0.9118268935647785, 0.9118268935647785, 0.9118268935647785, 0.9118268935647785, 0.9118268935647785, 0.9118268935647785, 0.9118268935647785, 0.9118268935647785, 0.9118268935647785, 0.9118268935647785, 0.9118268935647785, 0.9118268935647785, 0.9118268935647785, 0.9118268935647785, 0.9118268935647785, 0.9118268935647785]\n",
            "Training size...  38000\n"
          ],
          "name": "stdout"
        },
        {
          "output_type": "stream",
          "text": [
            "/usr/local/lib/python3.7/dist-packages/sklearn/linear_model/_logistic.py:940: ConvergenceWarning: lbfgs failed to converge (status=1):\n",
            "STOP: TOTAL NO. of ITERATIONS REACHED LIMIT.\n",
            "\n",
            "Increase the number of iterations (max_iter) or scale the data as shown in:\n",
            "    https://scikit-learn.org/stable/modules/preprocessing.html\n",
            "Please also refer to the documentation for alternative solver options:\n",
            "    https://scikit-learn.org/stable/modules/linear_model.html#logistic-regression\n",
            "  extra_warning_msg=_LOGISTIC_SOLVER_CONVERGENCE_MSG)\n"
          ],
          "name": "stderr"
        },
        {
          "output_type": "stream",
          "text": [
            "--- 4.330899953842163 seconds ---\n",
            "[0.7291204856256182, 0.782457456604031, 0.8068922006615967, 0.8138662483374826, 0.8190157896531732, 0.8422057770350919, 0.8632643317532313, 0.8809466971319442, 0.8886369061828598, 0.8960201889301913, 0.895781468471848, 0.8964464754629472, 0.8988507315076902, 0.898253930361832, 0.8982027759779013, 0.9021246120792552, 0.9047675885823415, 0.9080585206152167, 0.9100876445111346, 0.9118268935647785, 0.9118268935647785, 0.9118268935647785, 0.9118268935647785, 0.9118268935647785, 0.9118268935647785, 0.9118268935647785, 0.9118268935647785, 0.9118268935647785, 0.9118268935647785, 0.9118268935647785, 0.9118268935647785, 0.9118268935647785, 0.9118268935647785, 0.9118268935647785, 0.9118268935647785, 0.9118268935647785, 0.9118268935647785, 0.9118268935647785]\n",
            "Training size...  39000\n"
          ],
          "name": "stdout"
        },
        {
          "output_type": "stream",
          "text": [
            "/usr/local/lib/python3.7/dist-packages/sklearn/linear_model/_logistic.py:940: ConvergenceWarning: lbfgs failed to converge (status=1):\n",
            "STOP: TOTAL NO. of ITERATIONS REACHED LIMIT.\n",
            "\n",
            "Increase the number of iterations (max_iter) or scale the data as shown in:\n",
            "    https://scikit-learn.org/stable/modules/preprocessing.html\n",
            "Please also refer to the documentation for alternative solver options:\n",
            "    https://scikit-learn.org/stable/modules/linear_model.html#logistic-regression\n",
            "  extra_warning_msg=_LOGISTIC_SOLVER_CONVERGENCE_MSG)\n"
          ],
          "name": "stderr"
        },
        {
          "output_type": "stream",
          "text": [
            "--- 4.439048528671265 seconds ---\n",
            "[0.7291204856256182, 0.782457456604031, 0.8068922006615967, 0.8138662483374826, 0.8190157896531732, 0.8422057770350919, 0.8632643317532313, 0.8809466971319442, 0.8886369061828598, 0.8960201889301913, 0.895781468471848, 0.8964464754629472, 0.8988507315076902, 0.898253930361832, 0.8982027759779013, 0.9021246120792552, 0.9047675885823415, 0.9080585206152167, 0.9100876445111346, 0.9118268935647785, 0.9118268935647785, 0.9118268935647785, 0.9118268935647785, 0.9118268935647785, 0.9118268935647785, 0.9118268935647785, 0.9118268935647785, 0.9118268935647785, 0.9118268935647785, 0.9118268935647785, 0.9118268935647785, 0.9118268935647785, 0.9118268935647785, 0.9118268935647785, 0.9118268935647785, 0.9118268935647785, 0.9118268935647785, 0.9118268935647785, 0.9118268935647785]\n",
            "Training size...  40000\n"
          ],
          "name": "stdout"
        },
        {
          "output_type": "stream",
          "text": [
            "/usr/local/lib/python3.7/dist-packages/sklearn/linear_model/_logistic.py:940: ConvergenceWarning: lbfgs failed to converge (status=1):\n",
            "STOP: TOTAL NO. of ITERATIONS REACHED LIMIT.\n",
            "\n",
            "Increase the number of iterations (max_iter) or scale the data as shown in:\n",
            "    https://scikit-learn.org/stable/modules/preprocessing.html\n",
            "Please also refer to the documentation for alternative solver options:\n",
            "    https://scikit-learn.org/stable/modules/linear_model.html#logistic-regression\n",
            "  extra_warning_msg=_LOGISTIC_SOLVER_CONVERGENCE_MSG)\n"
          ],
          "name": "stderr"
        },
        {
          "output_type": "stream",
          "text": [
            "--- 4.358752250671387 seconds ---\n",
            "[0.7291204856256182, 0.782457456604031, 0.8068922006615967, 0.8138662483374826, 0.8190157896531732, 0.8422057770350919, 0.8632643317532313, 0.8809466971319442, 0.8886369061828598, 0.8960201889301913, 0.895781468471848, 0.8964464754629472, 0.8988507315076902, 0.898253930361832, 0.8982027759779013, 0.9021246120792552, 0.9047675885823415, 0.9080585206152167, 0.9100876445111346, 0.9118268935647785, 0.9118268935647785, 0.9118268935647785, 0.9118268935647785, 0.9118268935647785, 0.9118268935647785, 0.9118268935647785, 0.9118268935647785, 0.9118268935647785, 0.9118268935647785, 0.9118268935647785, 0.9118268935647785, 0.9118268935647785, 0.9118268935647785, 0.9118268935647785, 0.9118268935647785, 0.9118268935647785, 0.9118268935647785, 0.9118268935647785, 0.9118268935647785, 0.9118268935647785]\n",
            "Training size...  41000\n"
          ],
          "name": "stdout"
        },
        {
          "output_type": "stream",
          "text": [
            "/usr/local/lib/python3.7/dist-packages/sklearn/linear_model/_logistic.py:940: ConvergenceWarning: lbfgs failed to converge (status=1):\n",
            "STOP: TOTAL NO. of ITERATIONS REACHED LIMIT.\n",
            "\n",
            "Increase the number of iterations (max_iter) or scale the data as shown in:\n",
            "    https://scikit-learn.org/stable/modules/preprocessing.html\n",
            "Please also refer to the documentation for alternative solver options:\n",
            "    https://scikit-learn.org/stable/modules/linear_model.html#logistic-regression\n",
            "  extra_warning_msg=_LOGISTIC_SOLVER_CONVERGENCE_MSG)\n"
          ],
          "name": "stderr"
        },
        {
          "output_type": "stream",
          "text": [
            "--- 4.3619678020477295 seconds ---\n",
            "[0.7291204856256182, 0.782457456604031, 0.8068922006615967, 0.8138662483374826, 0.8190157896531732, 0.8422057770350919, 0.8632643317532313, 0.8809466971319442, 0.8886369061828598, 0.8960201889301913, 0.895781468471848, 0.8964464754629472, 0.8988507315076902, 0.898253930361832, 0.8982027759779013, 0.9021246120792552, 0.9047675885823415, 0.9080585206152167, 0.9100876445111346, 0.9118268935647785, 0.9118268935647785, 0.9118268935647785, 0.9118268935647785, 0.9118268935647785, 0.9118268935647785, 0.9118268935647785, 0.9118268935647785, 0.9118268935647785, 0.9118268935647785, 0.9118268935647785, 0.9118268935647785, 0.9118268935647785, 0.9118268935647785, 0.9118268935647785, 0.9118268935647785, 0.9118268935647785, 0.9118268935647785, 0.9118268935647785, 0.9118268935647785, 0.9118268935647785, 0.9118268935647785]\n",
            "Training size...  42000\n"
          ],
          "name": "stdout"
        },
        {
          "output_type": "stream",
          "text": [
            "/usr/local/lib/python3.7/dist-packages/sklearn/linear_model/_logistic.py:940: ConvergenceWarning: lbfgs failed to converge (status=1):\n",
            "STOP: TOTAL NO. of ITERATIONS REACHED LIMIT.\n",
            "\n",
            "Increase the number of iterations (max_iter) or scale the data as shown in:\n",
            "    https://scikit-learn.org/stable/modules/preprocessing.html\n",
            "Please also refer to the documentation for alternative solver options:\n",
            "    https://scikit-learn.org/stable/modules/linear_model.html#logistic-regression\n",
            "  extra_warning_msg=_LOGISTIC_SOLVER_CONVERGENCE_MSG)\n"
          ],
          "name": "stderr"
        },
        {
          "output_type": "stream",
          "text": [
            "--- 4.365647077560425 seconds ---\n",
            "[0.7291204856256182, 0.782457456604031, 0.8068922006615967, 0.8138662483374826, 0.8190157896531732, 0.8422057770350919, 0.8632643317532313, 0.8809466971319442, 0.8886369061828598, 0.8960201889301913, 0.895781468471848, 0.8964464754629472, 0.8988507315076902, 0.898253930361832, 0.8982027759779013, 0.9021246120792552, 0.9047675885823415, 0.9080585206152167, 0.9100876445111346, 0.9118268935647785, 0.9118268935647785, 0.9118268935647785, 0.9118268935647785, 0.9118268935647785, 0.9118268935647785, 0.9118268935647785, 0.9118268935647785, 0.9118268935647785, 0.9118268935647785, 0.9118268935647785, 0.9118268935647785, 0.9118268935647785, 0.9118268935647785, 0.9118268935647785, 0.9118268935647785, 0.9118268935647785, 0.9118268935647785, 0.9118268935647785, 0.9118268935647785, 0.9118268935647785, 0.9118268935647785, 0.9118268935647785]\n",
            "Training size...  43000\n"
          ],
          "name": "stdout"
        },
        {
          "output_type": "stream",
          "text": [
            "/usr/local/lib/python3.7/dist-packages/sklearn/linear_model/_logistic.py:940: ConvergenceWarning: lbfgs failed to converge (status=1):\n",
            "STOP: TOTAL NO. of ITERATIONS REACHED LIMIT.\n",
            "\n",
            "Increase the number of iterations (max_iter) or scale the data as shown in:\n",
            "    https://scikit-learn.org/stable/modules/preprocessing.html\n",
            "Please also refer to the documentation for alternative solver options:\n",
            "    https://scikit-learn.org/stable/modules/linear_model.html#logistic-regression\n",
            "  extra_warning_msg=_LOGISTIC_SOLVER_CONVERGENCE_MSG)\n"
          ],
          "name": "stderr"
        },
        {
          "output_type": "stream",
          "text": [
            "--- 4.370912551879883 seconds ---\n",
            "[0.7291204856256182, 0.782457456604031, 0.8068922006615967, 0.8138662483374826, 0.8190157896531732, 0.8422057770350919, 0.8632643317532313, 0.8809466971319442, 0.8886369061828598, 0.8960201889301913, 0.895781468471848, 0.8964464754629472, 0.8988507315076902, 0.898253930361832, 0.8982027759779013, 0.9021246120792552, 0.9047675885823415, 0.9080585206152167, 0.9100876445111346, 0.9118268935647785, 0.9118268935647785, 0.9118268935647785, 0.9118268935647785, 0.9118268935647785, 0.9118268935647785, 0.9118268935647785, 0.9118268935647785, 0.9118268935647785, 0.9118268935647785, 0.9118268935647785, 0.9118268935647785, 0.9118268935647785, 0.9118268935647785, 0.9118268935647785, 0.9118268935647785, 0.9118268935647785, 0.9118268935647785, 0.9118268935647785, 0.9118268935647785, 0.9118268935647785, 0.9118268935647785, 0.9118268935647785, 0.9118268935647785]\n",
            "Training size...  44000\n"
          ],
          "name": "stdout"
        },
        {
          "output_type": "stream",
          "text": [
            "/usr/local/lib/python3.7/dist-packages/sklearn/linear_model/_logistic.py:940: ConvergenceWarning: lbfgs failed to converge (status=1):\n",
            "STOP: TOTAL NO. of ITERATIONS REACHED LIMIT.\n",
            "\n",
            "Increase the number of iterations (max_iter) or scale the data as shown in:\n",
            "    https://scikit-learn.org/stable/modules/preprocessing.html\n",
            "Please also refer to the documentation for alternative solver options:\n",
            "    https://scikit-learn.org/stable/modules/linear_model.html#logistic-regression\n",
            "  extra_warning_msg=_LOGISTIC_SOLVER_CONVERGENCE_MSG)\n"
          ],
          "name": "stderr"
        },
        {
          "output_type": "stream",
          "text": [
            "--- 4.3912036418914795 seconds ---\n",
            "[0.7291204856256182, 0.782457456604031, 0.8068922006615967, 0.8138662483374826, 0.8190157896531732, 0.8422057770350919, 0.8632643317532313, 0.8809466971319442, 0.8886369061828598, 0.8960201889301913, 0.895781468471848, 0.8964464754629472, 0.8988507315076902, 0.898253930361832, 0.8982027759779013, 0.9021246120792552, 0.9047675885823415, 0.9080585206152167, 0.9100876445111346, 0.9118268935647785, 0.9118268935647785, 0.9118268935647785, 0.9118268935647785, 0.9118268935647785, 0.9118268935647785, 0.9118268935647785, 0.9118268935647785, 0.9118268935647785, 0.9118268935647785, 0.9118268935647785, 0.9118268935647785, 0.9118268935647785, 0.9118268935647785, 0.9118268935647785, 0.9118268935647785, 0.9118268935647785, 0.9118268935647785, 0.9118268935647785, 0.9118268935647785, 0.9118268935647785, 0.9118268935647785, 0.9118268935647785, 0.9118268935647785, 0.9118268935647785]\n",
            "Training size...  45000\n"
          ],
          "name": "stdout"
        },
        {
          "output_type": "stream",
          "text": [
            "/usr/local/lib/python3.7/dist-packages/sklearn/linear_model/_logistic.py:940: ConvergenceWarning: lbfgs failed to converge (status=1):\n",
            "STOP: TOTAL NO. of ITERATIONS REACHED LIMIT.\n",
            "\n",
            "Increase the number of iterations (max_iter) or scale the data as shown in:\n",
            "    https://scikit-learn.org/stable/modules/preprocessing.html\n",
            "Please also refer to the documentation for alternative solver options:\n",
            "    https://scikit-learn.org/stable/modules/linear_model.html#logistic-regression\n",
            "  extra_warning_msg=_LOGISTIC_SOLVER_CONVERGENCE_MSG)\n"
          ],
          "name": "stderr"
        },
        {
          "output_type": "stream",
          "text": [
            "--- 4.38847279548645 seconds ---\n",
            "[0.7291204856256182, 0.782457456604031, 0.8068922006615967, 0.8138662483374826, 0.8190157896531732, 0.8422057770350919, 0.8632643317532313, 0.8809466971319442, 0.8886369061828598, 0.8960201889301913, 0.895781468471848, 0.8964464754629472, 0.8988507315076902, 0.898253930361832, 0.8982027759779013, 0.9021246120792552, 0.9047675885823415, 0.9080585206152167, 0.9100876445111346, 0.9118268935647785, 0.9118268935647785, 0.9118268935647785, 0.9118268935647785, 0.9118268935647785, 0.9118268935647785, 0.9118268935647785, 0.9118268935647785, 0.9118268935647785, 0.9118268935647785, 0.9118268935647785, 0.9118268935647785, 0.9118268935647785, 0.9118268935647785, 0.9118268935647785, 0.9118268935647785, 0.9118268935647785, 0.9118268935647785, 0.9118268935647785, 0.9118268935647785, 0.9118268935647785, 0.9118268935647785, 0.9118268935647785, 0.9118268935647785, 0.9118268935647785, 0.9118268935647785]\n",
            "Training size...  46000\n"
          ],
          "name": "stdout"
        },
        {
          "output_type": "stream",
          "text": [
            "/usr/local/lib/python3.7/dist-packages/sklearn/linear_model/_logistic.py:940: ConvergenceWarning: lbfgs failed to converge (status=1):\n",
            "STOP: TOTAL NO. of ITERATIONS REACHED LIMIT.\n",
            "\n",
            "Increase the number of iterations (max_iter) or scale the data as shown in:\n",
            "    https://scikit-learn.org/stable/modules/preprocessing.html\n",
            "Please also refer to the documentation for alternative solver options:\n",
            "    https://scikit-learn.org/stable/modules/linear_model.html#logistic-regression\n",
            "  extra_warning_msg=_LOGISTIC_SOLVER_CONVERGENCE_MSG)\n"
          ],
          "name": "stderr"
        },
        {
          "output_type": "stream",
          "text": [
            "--- 4.33337664604187 seconds ---\n",
            "[0.7291204856256182, 0.782457456604031, 0.8068922006615967, 0.8138662483374826, 0.8190157896531732, 0.8422057770350919, 0.8632643317532313, 0.8809466971319442, 0.8886369061828598, 0.8960201889301913, 0.895781468471848, 0.8964464754629472, 0.8988507315076902, 0.898253930361832, 0.8982027759779013, 0.9021246120792552, 0.9047675885823415, 0.9080585206152167, 0.9100876445111346, 0.9118268935647785, 0.9118268935647785, 0.9118268935647785, 0.9118268935647785, 0.9118268935647785, 0.9118268935647785, 0.9118268935647785, 0.9118268935647785, 0.9118268935647785, 0.9118268935647785, 0.9118268935647785, 0.9118268935647785, 0.9118268935647785, 0.9118268935647785, 0.9118268935647785, 0.9118268935647785, 0.9118268935647785, 0.9118268935647785, 0.9118268935647785, 0.9118268935647785, 0.9118268935647785, 0.9118268935647785, 0.9118268935647785, 0.9118268935647785, 0.9118268935647785, 0.9118268935647785, 0.9118268935647785]\n",
            "Training size...  47000\n"
          ],
          "name": "stdout"
        },
        {
          "output_type": "stream",
          "text": [
            "/usr/local/lib/python3.7/dist-packages/sklearn/linear_model/_logistic.py:940: ConvergenceWarning: lbfgs failed to converge (status=1):\n",
            "STOP: TOTAL NO. of ITERATIONS REACHED LIMIT.\n",
            "\n",
            "Increase the number of iterations (max_iter) or scale the data as shown in:\n",
            "    https://scikit-learn.org/stable/modules/preprocessing.html\n",
            "Please also refer to the documentation for alternative solver options:\n",
            "    https://scikit-learn.org/stable/modules/linear_model.html#logistic-regression\n",
            "  extra_warning_msg=_LOGISTIC_SOLVER_CONVERGENCE_MSG)\n"
          ],
          "name": "stderr"
        },
        {
          "output_type": "stream",
          "text": [
            "--- 4.314489841461182 seconds ---\n",
            "[0.7291204856256182, 0.782457456604031, 0.8068922006615967, 0.8138662483374826, 0.8190157896531732, 0.8422057770350919, 0.8632643317532313, 0.8809466971319442, 0.8886369061828598, 0.8960201889301913, 0.895781468471848, 0.8964464754629472, 0.8988507315076902, 0.898253930361832, 0.8982027759779013, 0.9021246120792552, 0.9047675885823415, 0.9080585206152167, 0.9100876445111346, 0.9118268935647785, 0.9118268935647785, 0.9118268935647785, 0.9118268935647785, 0.9118268935647785, 0.9118268935647785, 0.9118268935647785, 0.9118268935647785, 0.9118268935647785, 0.9118268935647785, 0.9118268935647785, 0.9118268935647785, 0.9118268935647785, 0.9118268935647785, 0.9118268935647785, 0.9118268935647785, 0.9118268935647785, 0.9118268935647785, 0.9118268935647785, 0.9118268935647785, 0.9118268935647785, 0.9118268935647785, 0.9118268935647785, 0.9118268935647785, 0.9118268935647785, 0.9118268935647785, 0.9118268935647785, 0.9118268935647785]\n",
            "Training size...  48000\n"
          ],
          "name": "stdout"
        },
        {
          "output_type": "stream",
          "text": [
            "/usr/local/lib/python3.7/dist-packages/sklearn/linear_model/_logistic.py:940: ConvergenceWarning: lbfgs failed to converge (status=1):\n",
            "STOP: TOTAL NO. of ITERATIONS REACHED LIMIT.\n",
            "\n",
            "Increase the number of iterations (max_iter) or scale the data as shown in:\n",
            "    https://scikit-learn.org/stable/modules/preprocessing.html\n",
            "Please also refer to the documentation for alternative solver options:\n",
            "    https://scikit-learn.org/stable/modules/linear_model.html#logistic-regression\n",
            "  extra_warning_msg=_LOGISTIC_SOLVER_CONVERGENCE_MSG)\n"
          ],
          "name": "stderr"
        },
        {
          "output_type": "stream",
          "text": [
            "--- 4.31335186958313 seconds ---\n",
            "[0.7291204856256182, 0.782457456604031, 0.8068922006615967, 0.8138662483374826, 0.8190157896531732, 0.8422057770350919, 0.8632643317532313, 0.8809466971319442, 0.8886369061828598, 0.8960201889301913, 0.895781468471848, 0.8964464754629472, 0.8988507315076902, 0.898253930361832, 0.8982027759779013, 0.9021246120792552, 0.9047675885823415, 0.9080585206152167, 0.9100876445111346, 0.9118268935647785, 0.9118268935647785, 0.9118268935647785, 0.9118268935647785, 0.9118268935647785, 0.9118268935647785, 0.9118268935647785, 0.9118268935647785, 0.9118268935647785, 0.9118268935647785, 0.9118268935647785, 0.9118268935647785, 0.9118268935647785, 0.9118268935647785, 0.9118268935647785, 0.9118268935647785, 0.9118268935647785, 0.9118268935647785, 0.9118268935647785, 0.9118268935647785, 0.9118268935647785, 0.9118268935647785, 0.9118268935647785, 0.9118268935647785, 0.9118268935647785, 0.9118268935647785, 0.9118268935647785, 0.9118268935647785, 0.9118268935647785]\n",
            "Training size...  49000\n"
          ],
          "name": "stdout"
        },
        {
          "output_type": "stream",
          "text": [
            "/usr/local/lib/python3.7/dist-packages/sklearn/linear_model/_logistic.py:940: ConvergenceWarning: lbfgs failed to converge (status=1):\n",
            "STOP: TOTAL NO. of ITERATIONS REACHED LIMIT.\n",
            "\n",
            "Increase the number of iterations (max_iter) or scale the data as shown in:\n",
            "    https://scikit-learn.org/stable/modules/preprocessing.html\n",
            "Please also refer to the documentation for alternative solver options:\n",
            "    https://scikit-learn.org/stable/modules/linear_model.html#logistic-regression\n",
            "  extra_warning_msg=_LOGISTIC_SOLVER_CONVERGENCE_MSG)\n"
          ],
          "name": "stderr"
        },
        {
          "output_type": "stream",
          "text": [
            "--- 4.330669403076172 seconds ---\n",
            "[0.7291204856256182, 0.782457456604031, 0.8068922006615967, 0.8138662483374826, 0.8190157896531732, 0.8422057770350919, 0.8632643317532313, 0.8809466971319442, 0.8886369061828598, 0.8960201889301913, 0.895781468471848, 0.8964464754629472, 0.8988507315076902, 0.898253930361832, 0.8982027759779013, 0.9021246120792552, 0.9047675885823415, 0.9080585206152167, 0.9100876445111346, 0.9118268935647785, 0.9118268935647785, 0.9118268935647785, 0.9118268935647785, 0.9118268935647785, 0.9118268935647785, 0.9118268935647785, 0.9118268935647785, 0.9118268935647785, 0.9118268935647785, 0.9118268935647785, 0.9118268935647785, 0.9118268935647785, 0.9118268935647785, 0.9118268935647785, 0.9118268935647785, 0.9118268935647785, 0.9118268935647785, 0.9118268935647785, 0.9118268935647785, 0.9118268935647785, 0.9118268935647785, 0.9118268935647785, 0.9118268935647785, 0.9118268935647785, 0.9118268935647785, 0.9118268935647785, 0.9118268935647785, 0.9118268935647785, 0.9118268935647785]\n",
            "Training size...  50000\n"
          ],
          "name": "stdout"
        },
        {
          "output_type": "stream",
          "text": [
            "/usr/local/lib/python3.7/dist-packages/sklearn/linear_model/_logistic.py:940: ConvergenceWarning: lbfgs failed to converge (status=1):\n",
            "STOP: TOTAL NO. of ITERATIONS REACHED LIMIT.\n",
            "\n",
            "Increase the number of iterations (max_iter) or scale the data as shown in:\n",
            "    https://scikit-learn.org/stable/modules/preprocessing.html\n",
            "Please also refer to the documentation for alternative solver options:\n",
            "    https://scikit-learn.org/stable/modules/linear_model.html#logistic-regression\n",
            "  extra_warning_msg=_LOGISTIC_SOLVER_CONVERGENCE_MSG)\n"
          ],
          "name": "stderr"
        },
        {
          "output_type": "stream",
          "text": [
            "--- 4.287410259246826 seconds ---\n",
            "[0.7291204856256182, 0.782457456604031, 0.8068922006615967, 0.8138662483374826, 0.8190157896531732, 0.8422057770350919, 0.8632643317532313, 0.8809466971319442, 0.8886369061828598, 0.8960201889301913, 0.895781468471848, 0.8964464754629472, 0.8988507315076902, 0.898253930361832, 0.8982027759779013, 0.9021246120792552, 0.9047675885823415, 0.9080585206152167, 0.9100876445111346, 0.9118268935647785, 0.9118268935647785, 0.9118268935647785, 0.9118268935647785, 0.9118268935647785, 0.9118268935647785, 0.9118268935647785, 0.9118268935647785, 0.9118268935647785, 0.9118268935647785, 0.9118268935647785, 0.9118268935647785, 0.9118268935647785, 0.9118268935647785, 0.9118268935647785, 0.9118268935647785, 0.9118268935647785, 0.9118268935647785, 0.9118268935647785, 0.9118268935647785, 0.9118268935647785, 0.9118268935647785, 0.9118268935647785, 0.9118268935647785, 0.9118268935647785, 0.9118268935647785, 0.9118268935647785, 0.9118268935647785, 0.9118268935647785, 0.9118268935647785, 0.9118268935647785]\n",
            "Training size...  51000\n"
          ],
          "name": "stdout"
        },
        {
          "output_type": "stream",
          "text": [
            "/usr/local/lib/python3.7/dist-packages/sklearn/linear_model/_logistic.py:940: ConvergenceWarning: lbfgs failed to converge (status=1):\n",
            "STOP: TOTAL NO. of ITERATIONS REACHED LIMIT.\n",
            "\n",
            "Increase the number of iterations (max_iter) or scale the data as shown in:\n",
            "    https://scikit-learn.org/stable/modules/preprocessing.html\n",
            "Please also refer to the documentation for alternative solver options:\n",
            "    https://scikit-learn.org/stable/modules/linear_model.html#logistic-regression\n",
            "  extra_warning_msg=_LOGISTIC_SOLVER_CONVERGENCE_MSG)\n"
          ],
          "name": "stderr"
        },
        {
          "output_type": "stream",
          "text": [
            "--- 4.366285085678101 seconds ---\n",
            "[0.7291204856256182, 0.782457456604031, 0.8068922006615967, 0.8138662483374826, 0.8190157896531732, 0.8422057770350919, 0.8632643317532313, 0.8809466971319442, 0.8886369061828598, 0.8960201889301913, 0.895781468471848, 0.8964464754629472, 0.8988507315076902, 0.898253930361832, 0.8982027759779013, 0.9021246120792552, 0.9047675885823415, 0.9080585206152167, 0.9100876445111346, 0.9118268935647785, 0.9118268935647785, 0.9118268935647785, 0.9118268935647785, 0.9118268935647785, 0.9118268935647785, 0.9118268935647785, 0.9118268935647785, 0.9118268935647785, 0.9118268935647785, 0.9118268935647785, 0.9118268935647785, 0.9118268935647785, 0.9118268935647785, 0.9118268935647785, 0.9118268935647785, 0.9118268935647785, 0.9118268935647785, 0.9118268935647785, 0.9118268935647785, 0.9118268935647785, 0.9118268935647785, 0.9118268935647785, 0.9118268935647785, 0.9118268935647785, 0.9118268935647785, 0.9118268935647785, 0.9118268935647785, 0.9118268935647785, 0.9118268935647785, 0.9118268935647785, 0.9118268935647785]\n",
            "Training size...  52000\n"
          ],
          "name": "stdout"
        },
        {
          "output_type": "stream",
          "text": [
            "/usr/local/lib/python3.7/dist-packages/sklearn/linear_model/_logistic.py:940: ConvergenceWarning: lbfgs failed to converge (status=1):\n",
            "STOP: TOTAL NO. of ITERATIONS REACHED LIMIT.\n",
            "\n",
            "Increase the number of iterations (max_iter) or scale the data as shown in:\n",
            "    https://scikit-learn.org/stable/modules/preprocessing.html\n",
            "Please also refer to the documentation for alternative solver options:\n",
            "    https://scikit-learn.org/stable/modules/linear_model.html#logistic-regression\n",
            "  extra_warning_msg=_LOGISTIC_SOLVER_CONVERGENCE_MSG)\n"
          ],
          "name": "stderr"
        },
        {
          "output_type": "stream",
          "text": [
            "--- 4.323490381240845 seconds ---\n",
            "[0.7291204856256182, 0.782457456604031, 0.8068922006615967, 0.8138662483374826, 0.8190157896531732, 0.8422057770350919, 0.8632643317532313, 0.8809466971319442, 0.8886369061828598, 0.8960201889301913, 0.895781468471848, 0.8964464754629472, 0.8988507315076902, 0.898253930361832, 0.8982027759779013, 0.9021246120792552, 0.9047675885823415, 0.9080585206152167, 0.9100876445111346, 0.9118268935647785, 0.9118268935647785, 0.9118268935647785, 0.9118268935647785, 0.9118268935647785, 0.9118268935647785, 0.9118268935647785, 0.9118268935647785, 0.9118268935647785, 0.9118268935647785, 0.9118268935647785, 0.9118268935647785, 0.9118268935647785, 0.9118268935647785, 0.9118268935647785, 0.9118268935647785, 0.9118268935647785, 0.9118268935647785, 0.9118268935647785, 0.9118268935647785, 0.9118268935647785, 0.9118268935647785, 0.9118268935647785, 0.9118268935647785, 0.9118268935647785, 0.9118268935647785, 0.9118268935647785, 0.9118268935647785, 0.9118268935647785, 0.9118268935647785, 0.9118268935647785, 0.9118268935647785, 0.9118268935647785]\n",
            "Training size...  53000\n"
          ],
          "name": "stdout"
        },
        {
          "output_type": "stream",
          "text": [
            "/usr/local/lib/python3.7/dist-packages/sklearn/linear_model/_logistic.py:940: ConvergenceWarning: lbfgs failed to converge (status=1):\n",
            "STOP: TOTAL NO. of ITERATIONS REACHED LIMIT.\n",
            "\n",
            "Increase the number of iterations (max_iter) or scale the data as shown in:\n",
            "    https://scikit-learn.org/stable/modules/preprocessing.html\n",
            "Please also refer to the documentation for alternative solver options:\n",
            "    https://scikit-learn.org/stable/modules/linear_model.html#logistic-regression\n",
            "  extra_warning_msg=_LOGISTIC_SOLVER_CONVERGENCE_MSG)\n"
          ],
          "name": "stderr"
        },
        {
          "output_type": "stream",
          "text": [
            "--- 4.311502456665039 seconds ---\n",
            "[0.7291204856256182, 0.782457456604031, 0.8068922006615967, 0.8138662483374826, 0.8190157896531732, 0.8422057770350919, 0.8632643317532313, 0.8809466971319442, 0.8886369061828598, 0.8960201889301913, 0.895781468471848, 0.8964464754629472, 0.8988507315076902, 0.898253930361832, 0.8982027759779013, 0.9021246120792552, 0.9047675885823415, 0.9080585206152167, 0.9100876445111346, 0.9118268935647785, 0.9118268935647785, 0.9118268935647785, 0.9118268935647785, 0.9118268935647785, 0.9118268935647785, 0.9118268935647785, 0.9118268935647785, 0.9118268935647785, 0.9118268935647785, 0.9118268935647785, 0.9118268935647785, 0.9118268935647785, 0.9118268935647785, 0.9118268935647785, 0.9118268935647785, 0.9118268935647785, 0.9118268935647785, 0.9118268935647785, 0.9118268935647785, 0.9118268935647785, 0.9118268935647785, 0.9118268935647785, 0.9118268935647785, 0.9118268935647785, 0.9118268935647785, 0.9118268935647785, 0.9118268935647785, 0.9118268935647785, 0.9118268935647785, 0.9118268935647785, 0.9118268935647785, 0.9118268935647785, 0.9118268935647785]\n",
            "Training size...  54000\n"
          ],
          "name": "stdout"
        },
        {
          "output_type": "stream",
          "text": [
            "/usr/local/lib/python3.7/dist-packages/sklearn/linear_model/_logistic.py:940: ConvergenceWarning: lbfgs failed to converge (status=1):\n",
            "STOP: TOTAL NO. of ITERATIONS REACHED LIMIT.\n",
            "\n",
            "Increase the number of iterations (max_iter) or scale the data as shown in:\n",
            "    https://scikit-learn.org/stable/modules/preprocessing.html\n",
            "Please also refer to the documentation for alternative solver options:\n",
            "    https://scikit-learn.org/stable/modules/linear_model.html#logistic-regression\n",
            "  extra_warning_msg=_LOGISTIC_SOLVER_CONVERGENCE_MSG)\n"
          ],
          "name": "stderr"
        },
        {
          "output_type": "stream",
          "text": [
            "--- 4.338156461715698 seconds ---\n",
            "[0.7291204856256182, 0.782457456604031, 0.8068922006615967, 0.8138662483374826, 0.8190157896531732, 0.8422057770350919, 0.8632643317532313, 0.8809466971319442, 0.8886369061828598, 0.8960201889301913, 0.895781468471848, 0.8964464754629472, 0.8988507315076902, 0.898253930361832, 0.8982027759779013, 0.9021246120792552, 0.9047675885823415, 0.9080585206152167, 0.9100876445111346, 0.9118268935647785, 0.9118268935647785, 0.9118268935647785, 0.9118268935647785, 0.9118268935647785, 0.9118268935647785, 0.9118268935647785, 0.9118268935647785, 0.9118268935647785, 0.9118268935647785, 0.9118268935647785, 0.9118268935647785, 0.9118268935647785, 0.9118268935647785, 0.9118268935647785, 0.9118268935647785, 0.9118268935647785, 0.9118268935647785, 0.9118268935647785, 0.9118268935647785, 0.9118268935647785, 0.9118268935647785, 0.9118268935647785, 0.9118268935647785, 0.9118268935647785, 0.9118268935647785, 0.9118268935647785, 0.9118268935647785, 0.9118268935647785, 0.9118268935647785, 0.9118268935647785, 0.9118268935647785, 0.9118268935647785, 0.9118268935647785, 0.9118268935647785]\n",
            "Training size...  55000\n"
          ],
          "name": "stdout"
        },
        {
          "output_type": "stream",
          "text": [
            "/usr/local/lib/python3.7/dist-packages/sklearn/linear_model/_logistic.py:940: ConvergenceWarning: lbfgs failed to converge (status=1):\n",
            "STOP: TOTAL NO. of ITERATIONS REACHED LIMIT.\n",
            "\n",
            "Increase the number of iterations (max_iter) or scale the data as shown in:\n",
            "    https://scikit-learn.org/stable/modules/preprocessing.html\n",
            "Please also refer to the documentation for alternative solver options:\n",
            "    https://scikit-learn.org/stable/modules/linear_model.html#logistic-regression\n",
            "  extra_warning_msg=_LOGISTIC_SOLVER_CONVERGENCE_MSG)\n"
          ],
          "name": "stderr"
        },
        {
          "output_type": "stream",
          "text": [
            "--- 4.332965850830078 seconds ---\n",
            "[0.7291204856256182, 0.782457456604031, 0.8068922006615967, 0.8138662483374826, 0.8190157896531732, 0.8422057770350919, 0.8632643317532313, 0.8809466971319442, 0.8886369061828598, 0.8960201889301913, 0.895781468471848, 0.8964464754629472, 0.8988507315076902, 0.898253930361832, 0.8982027759779013, 0.9021246120792552, 0.9047675885823415, 0.9080585206152167, 0.9100876445111346, 0.9118268935647785, 0.9118268935647785, 0.9118268935647785, 0.9118268935647785, 0.9118268935647785, 0.9118268935647785, 0.9118268935647785, 0.9118268935647785, 0.9118268935647785, 0.9118268935647785, 0.9118268935647785, 0.9118268935647785, 0.9118268935647785, 0.9118268935647785, 0.9118268935647785, 0.9118268935647785, 0.9118268935647785, 0.9118268935647785, 0.9118268935647785, 0.9118268935647785, 0.9118268935647785, 0.9118268935647785, 0.9118268935647785, 0.9118268935647785, 0.9118268935647785, 0.9118268935647785, 0.9118268935647785, 0.9118268935647785, 0.9118268935647785, 0.9118268935647785, 0.9118268935647785, 0.9118268935647785, 0.9118268935647785, 0.9118268935647785, 0.9118268935647785, 0.9118268935647785]\n",
            "Training size...  56000\n"
          ],
          "name": "stdout"
        },
        {
          "output_type": "stream",
          "text": [
            "/usr/local/lib/python3.7/dist-packages/sklearn/linear_model/_logistic.py:940: ConvergenceWarning: lbfgs failed to converge (status=1):\n",
            "STOP: TOTAL NO. of ITERATIONS REACHED LIMIT.\n",
            "\n",
            "Increase the number of iterations (max_iter) or scale the data as shown in:\n",
            "    https://scikit-learn.org/stable/modules/preprocessing.html\n",
            "Please also refer to the documentation for alternative solver options:\n",
            "    https://scikit-learn.org/stable/modules/linear_model.html#logistic-regression\n",
            "  extra_warning_msg=_LOGISTIC_SOLVER_CONVERGENCE_MSG)\n"
          ],
          "name": "stderr"
        },
        {
          "output_type": "stream",
          "text": [
            "--- 4.316487550735474 seconds ---\n",
            "[0.7291204856256182, 0.782457456604031, 0.8068922006615967, 0.8138662483374826, 0.8190157896531732, 0.8422057770350919, 0.8632643317532313, 0.8809466971319442, 0.8886369061828598, 0.8960201889301913, 0.895781468471848, 0.8964464754629472, 0.8988507315076902, 0.898253930361832, 0.8982027759779013, 0.9021246120792552, 0.9047675885823415, 0.9080585206152167, 0.9100876445111346, 0.9118268935647785, 0.9118268935647785, 0.9118268935647785, 0.9118268935647785, 0.9118268935647785, 0.9118268935647785, 0.9118268935647785, 0.9118268935647785, 0.9118268935647785, 0.9118268935647785, 0.9118268935647785, 0.9118268935647785, 0.9118268935647785, 0.9118268935647785, 0.9118268935647785, 0.9118268935647785, 0.9118268935647785, 0.9118268935647785, 0.9118268935647785, 0.9118268935647785, 0.9118268935647785, 0.9118268935647785, 0.9118268935647785, 0.9118268935647785, 0.9118268935647785, 0.9118268935647785, 0.9118268935647785, 0.9118268935647785, 0.9118268935647785, 0.9118268935647785, 0.9118268935647785, 0.9118268935647785, 0.9118268935647785, 0.9118268935647785, 0.9118268935647785, 0.9118268935647785, 0.9118268935647785]\n",
            "Training size...  57000\n"
          ],
          "name": "stdout"
        },
        {
          "output_type": "stream",
          "text": [
            "/usr/local/lib/python3.7/dist-packages/sklearn/linear_model/_logistic.py:940: ConvergenceWarning: lbfgs failed to converge (status=1):\n",
            "STOP: TOTAL NO. of ITERATIONS REACHED LIMIT.\n",
            "\n",
            "Increase the number of iterations (max_iter) or scale the data as shown in:\n",
            "    https://scikit-learn.org/stable/modules/preprocessing.html\n",
            "Please also refer to the documentation for alternative solver options:\n",
            "    https://scikit-learn.org/stable/modules/linear_model.html#logistic-regression\n",
            "  extra_warning_msg=_LOGISTIC_SOLVER_CONVERGENCE_MSG)\n"
          ],
          "name": "stderr"
        },
        {
          "output_type": "stream",
          "text": [
            "--- 4.3466455936431885 seconds ---\n",
            "[0.7291204856256182, 0.782457456604031, 0.8068922006615967, 0.8138662483374826, 0.8190157896531732, 0.8422057770350919, 0.8632643317532313, 0.8809466971319442, 0.8886369061828598, 0.8960201889301913, 0.895781468471848, 0.8964464754629472, 0.8988507315076902, 0.898253930361832, 0.8982027759779013, 0.9021246120792552, 0.9047675885823415, 0.9080585206152167, 0.9100876445111346, 0.9118268935647785, 0.9118268935647785, 0.9118268935647785, 0.9118268935647785, 0.9118268935647785, 0.9118268935647785, 0.9118268935647785, 0.9118268935647785, 0.9118268935647785, 0.9118268935647785, 0.9118268935647785, 0.9118268935647785, 0.9118268935647785, 0.9118268935647785, 0.9118268935647785, 0.9118268935647785, 0.9118268935647785, 0.9118268935647785, 0.9118268935647785, 0.9118268935647785, 0.9118268935647785, 0.9118268935647785, 0.9118268935647785, 0.9118268935647785, 0.9118268935647785, 0.9118268935647785, 0.9118268935647785, 0.9118268935647785, 0.9118268935647785, 0.9118268935647785, 0.9118268935647785, 0.9118268935647785, 0.9118268935647785, 0.9118268935647785, 0.9118268935647785, 0.9118268935647785, 0.9118268935647785, 0.9118268935647785]\n",
            "Training size...  58000\n",
            "--- 4.338685989379883 seconds ---\n",
            "[0.7291204856256182, 0.782457456604031, 0.8068922006615967, 0.8138662483374826, 0.8190157896531732, 0.8422057770350919, 0.8632643317532313, 0.8809466971319442, 0.8886369061828598, 0.8960201889301913, 0.895781468471848, 0.8964464754629472, 0.8988507315076902, 0.898253930361832, 0.8982027759779013, 0.9021246120792552, 0.9047675885823415, 0.9080585206152167, 0.9100876445111346, 0.9118268935647785, 0.9118268935647785, 0.9118268935647785, 0.9118268935647785, 0.9118268935647785, 0.9118268935647785, 0.9118268935647785, 0.9118268935647785, 0.9118268935647785, 0.9118268935647785, 0.9118268935647785, 0.9118268935647785, 0.9118268935647785, 0.9118268935647785, 0.9118268935647785, 0.9118268935647785, 0.9118268935647785, 0.9118268935647785, 0.9118268935647785, 0.9118268935647785, 0.9118268935647785, 0.9118268935647785, 0.9118268935647785, 0.9118268935647785, 0.9118268935647785, 0.9118268935647785, 0.9118268935647785, 0.9118268935647785, 0.9118268935647785, 0.9118268935647785, 0.9118268935647785, 0.9118268935647785, 0.9118268935647785, 0.9118268935647785, 0.9118268935647785, 0.9118268935647785, 0.9118268935647785, 0.9118268935647785, 0.9118268935647785]\n"
          ],
          "name": "stdout"
        },
        {
          "output_type": "stream",
          "text": [
            "/usr/local/lib/python3.7/dist-packages/sklearn/linear_model/_logistic.py:940: ConvergenceWarning: lbfgs failed to converge (status=1):\n",
            "STOP: TOTAL NO. of ITERATIONS REACHED LIMIT.\n",
            "\n",
            "Increase the number of iterations (max_iter) or scale the data as shown in:\n",
            "    https://scikit-learn.org/stable/modules/preprocessing.html\n",
            "Please also refer to the documentation for alternative solver options:\n",
            "    https://scikit-learn.org/stable/modules/linear_model.html#logistic-regression\n",
            "  extra_warning_msg=_LOGISTIC_SOLVER_CONVERGENCE_MSG)\n"
          ],
          "name": "stderr"
        }
      ]
    },
    {
      "cell_type": "code",
      "metadata": {
        "colab": {
          "base_uri": "https://localhost:8080/"
        },
        "id": "cOTuoY_rahmw",
        "outputId": "d1002a73-b9c7-4bba-f34d-641f90f9719d"
      },
      "source": [
        "######################### repete tudo do bloco anterior, agora para o próximo classificador e assim por diante #########\n",
        "batchsize = 1000\n",
        "ini = 0\n",
        "end = batchsize\n",
        "\n",
        "historyGNB = []\n",
        "while(end <= 58646 ):\n",
        "  xt = X_train[0:end]\n",
        "  yt = y_train[0:end]\n",
        "  print (\"Training size... \", end)\t \n",
        "  start_time = time.time()  \n",
        "   \n",
        "  #clf = RandomForestClassifier()\n",
        "  #clfLR = linear_model.LogisticRegression() \n",
        "  clfGNB = GaussianNB()\n",
        "  #clfLDA = LinearDiscriminantAnalysis()\n",
        "  #clfPtron = Perceptron(max_iter=100)\n",
        "   \n",
        "  X_train_dense = xt.toarray()\n",
        "  clfGNB.fit(X_train_dense, yt)\n",
        "  X_test_dense = X_test.toarray()\n",
        "  y_pred = clfGNB.predict(X_test_dense) \n",
        "   \n",
        "  # mostra o resultado do classificador na base de teste\n",
        "  historyGNB.append(clfGNB.score(X_test_dense, y_test))\n",
        "   \n",
        "  print(\"--- %s seconds ---\" % (time.time() - start_time))\n",
        "  end = end + batchsize\n",
        "  print (historyGNB)"
      ],
      "execution_count": 33,
      "outputs": [
        {
          "output_type": "stream",
          "text": [
            "Training size...  1000\n",
            "--- 1.0523395538330078 seconds ---\n",
            "[0.6743511918971455]\n",
            "Training size...  2000\n",
            "--- 0.9433872699737549 seconds ---\n",
            "[0.6743511918971455, 0.7820141186099648]\n",
            "Training size...  3000\n",
            "--- 0.9282069206237793 seconds ---\n",
            "[0.6743511918971455, 0.7820141186099648, 0.8384203526242199]\n",
            "Training size...  4000\n",
            "--- 0.9314916133880615 seconds ---\n",
            "[0.6743511918971455, 0.7820141186099648, 0.8384203526242199, 0.8448999079221089]\n",
            "Training size...  5000\n",
            "--- 0.9286909103393555 seconds ---\n",
            "[0.6743511918971455, 0.7820141186099648, 0.8384203526242199, 0.8448999079221089, 0.855096681785629]\n",
            "Training size...  6000\n",
            "--- 0.9412586688995361 seconds ---\n",
            "[0.6743511918971455, 0.7820141186099648, 0.8384203526242199, 0.8448999079221089, 0.855096681785629, 0.8693517034409849]\n",
            "Training size...  7000\n",
            "--- 0.9380886554718018 seconds ---\n",
            "[0.6743511918971455, 0.7820141186099648, 0.8384203526242199, 0.8448999079221089, 0.855096681785629, 0.8693517034409849, 0.8742454728370221]\n",
            "Training size...  8000\n",
            "--- 0.9535877704620361 seconds ---\n",
            "[0.6743511918971455, 0.7820141186099648, 0.8384203526242199, 0.8448999079221089, 0.855096681785629, 0.8693517034409849, 0.8742454728370221, 0.8824813286498653]\n",
            "Training size...  9000\n",
            "--- 0.9372496604919434 seconds ---\n",
            "[0.6743511918971455, 0.7820141186099648, 0.8384203526242199, 0.8448999079221089, 0.855096681785629, 0.8693517034409849, 0.8742454728370221, 0.8824813286498653, 0.8873580465845923]\n",
            "Training size...  10000\n",
            "--- 0.9515767097473145 seconds ---\n",
            "[0.6743511918971455, 0.7820141186099648, 0.8384203526242199, 0.8448999079221089, 0.855096681785629, 0.8693517034409849, 0.8742454728370221, 0.8824813286498653, 0.8873580465845923, 0.889080244176926]\n",
            "Training size...  11000\n",
            "--- 0.9635322093963623 seconds ---\n",
            "[0.6743511918971455, 0.7820141186099648, 0.8384203526242199, 0.8448999079221089, 0.855096681785629, 0.8693517034409849, 0.8742454728370221, 0.8824813286498653, 0.8873580465845923, 0.889080244176926, 0.887409200968523]\n",
            "Training size...  12000\n",
            "--- 0.954848051071167 seconds ---\n",
            "[0.6743511918971455, 0.7820141186099648, 0.8384203526242199, 0.8448999079221089, 0.855096681785629, 0.8693517034409849, 0.8742454728370221, 0.8824813286498653, 0.8873580465845923, 0.889080244176926, 0.887409200968523, 0.8863861132899089]\n",
            "Training size...  13000\n",
            "--- 0.9497954845428467 seconds ---\n",
            "[0.6743511918971455, 0.7820141186099648, 0.8384203526242199, 0.8448999079221089, 0.855096681785629, 0.8693517034409849, 0.8742454728370221, 0.8824813286498653, 0.8873580465845923, 0.889080244176926, 0.887409200968523, 0.8863861132899089, 0.8887051120281008]\n",
            "Training size...  14000\n",
            "--- 0.956411600112915 seconds ---\n",
            "[0.6743511918971455, 0.7820141186099648, 0.8384203526242199, 0.8448999079221089, 0.855096681785629, 0.8693517034409849, 0.8742454728370221, 0.8824813286498653, 0.8873580465845923, 0.889080244176926, 0.887409200968523, 0.8863861132899089, 0.8887051120281008, 0.8854653343791563]\n",
            "Training size...  15000\n",
            "--- 0.951678991317749 seconds ---\n",
            "[0.6743511918971455, 0.7820141186099648, 0.8384203526242199, 0.8448999079221089, 0.855096681785629, 0.8693517034409849, 0.8742454728370221, 0.8824813286498653, 0.8873580465845923, 0.889080244176926, 0.887409200968523, 0.8863861132899089, 0.8887051120281008, 0.8854653343791563, 0.884425195239232]\n",
            "Training size...  16000\n",
            "--- 0.9659357070922852 seconds ---\n",
            "[0.6743511918971455, 0.7820141186099648, 0.8384203526242199, 0.8448999079221089, 0.855096681785629, 0.8693517034409849, 0.8742454728370221, 0.8824813286498653, 0.8873580465845923, 0.889080244176926, 0.887409200968523, 0.8863861132899089, 0.8887051120281008, 0.8854653343791563, 0.884425195239232, 0.8858916209119122]\n",
            "Training size...  17000\n",
            "--- 0.9574737548828125 seconds ---\n",
            "[0.6743511918971455, 0.7820141186099648, 0.8384203526242199, 0.8448999079221089, 0.855096681785629, 0.8693517034409849, 0.8742454728370221, 0.8824813286498653, 0.8873580465845923, 0.889080244176926, 0.887409200968523, 0.8863861132899089, 0.8887051120281008, 0.8854653343791563, 0.884425195239232, 0.8858916209119122, 0.8864372676738397]\n",
            "Training size...  18000\n",
            "--- 0.9949362277984619 seconds ---\n",
            "[0.6743511918971455, 0.7820141186099648, 0.8384203526242199, 0.8448999079221089, 0.855096681785629, 0.8693517034409849, 0.8742454728370221, 0.8824813286498653, 0.8873580465845923, 0.889080244176926, 0.887409200968523, 0.8863861132899089, 0.8887051120281008, 0.8854653343791563, 0.884425195239232, 0.8858916209119122, 0.8864372676738397, 0.8880571564983119]\n",
            "Training size...  19000\n",
            "--- 1.0054852962493896 seconds ---\n",
            "[0.6743511918971455, 0.7820141186099648, 0.8384203526242199, 0.8448999079221089, 0.855096681785629, 0.8693517034409849, 0.8742454728370221, 0.8824813286498653, 0.8873580465845923, 0.889080244176926, 0.887409200968523, 0.8863861132899089, 0.8887051120281008, 0.8854653343791563, 0.884425195239232, 0.8858916209119122, 0.8864372676738397, 0.8880571564983119, 0.8885175459536883]\n",
            "Training size...  20000\n",
            "--- 1.005472183227539 seconds ---\n",
            "[0.6743511918971455, 0.7820141186099648, 0.8384203526242199, 0.8448999079221089, 0.855096681785629, 0.8693517034409849, 0.8742454728370221, 0.8824813286498653, 0.8873580465845923, 0.889080244176926, 0.887409200968523, 0.8863861132899089, 0.8887051120281008, 0.8854653343791563, 0.884425195239232, 0.8858916209119122, 0.8864372676738397, 0.8880571564983119, 0.8885175459536883, 0.889080244176926]\n",
            "Training size...  21000\n",
            "--- 0.9645998477935791 seconds ---\n",
            "[0.6743511918971455, 0.7820141186099648, 0.8384203526242199, 0.8448999079221089, 0.855096681785629, 0.8693517034409849, 0.8742454728370221, 0.8824813286498653, 0.8873580465845923, 0.889080244176926, 0.887409200968523, 0.8863861132899089, 0.8887051120281008, 0.8854653343791563, 0.884425195239232, 0.8858916209119122, 0.8864372676738397, 0.8880571564983119, 0.8885175459536883, 0.889080244176926, 0.889080244176926]\n",
            "Training size...  22000\n",
            "--- 0.9827346801757812 seconds ---\n",
            "[0.6743511918971455, 0.7820141186099648, 0.8384203526242199, 0.8448999079221089, 0.855096681785629, 0.8693517034409849, 0.8742454728370221, 0.8824813286498653, 0.8873580465845923, 0.889080244176926, 0.887409200968523, 0.8863861132899089, 0.8887051120281008, 0.8854653343791563, 0.884425195239232, 0.8858916209119122, 0.8864372676738397, 0.8880571564983119, 0.8885175459536883, 0.889080244176926, 0.889080244176926, 0.889080244176926]\n",
            "Training size...  23000\n",
            "--- 0.9682517051696777 seconds ---\n",
            "[0.6743511918971455, 0.7820141186099648, 0.8384203526242199, 0.8448999079221089, 0.855096681785629, 0.8693517034409849, 0.8742454728370221, 0.8824813286498653, 0.8873580465845923, 0.889080244176926, 0.887409200968523, 0.8863861132899089, 0.8887051120281008, 0.8854653343791563, 0.884425195239232, 0.8858916209119122, 0.8864372676738397, 0.8880571564983119, 0.8885175459536883, 0.889080244176926, 0.889080244176926, 0.889080244176926, 0.889080244176926]\n",
            "Training size...  24000\n",
            "--- 0.9833724498748779 seconds ---\n",
            "[0.6743511918971455, 0.7820141186099648, 0.8384203526242199, 0.8448999079221089, 0.855096681785629, 0.8693517034409849, 0.8742454728370221, 0.8824813286498653, 0.8873580465845923, 0.889080244176926, 0.887409200968523, 0.8863861132899089, 0.8887051120281008, 0.8854653343791563, 0.884425195239232, 0.8858916209119122, 0.8864372676738397, 0.8880571564983119, 0.8885175459536883, 0.889080244176926, 0.889080244176926, 0.889080244176926, 0.889080244176926, 0.889080244176926]\n",
            "Training size...  25000\n",
            "--- 0.9674496650695801 seconds ---\n",
            "[0.6743511918971455, 0.7820141186099648, 0.8384203526242199, 0.8448999079221089, 0.855096681785629, 0.8693517034409849, 0.8742454728370221, 0.8824813286498653, 0.8873580465845923, 0.889080244176926, 0.887409200968523, 0.8863861132899089, 0.8887051120281008, 0.8854653343791563, 0.884425195239232, 0.8858916209119122, 0.8864372676738397, 0.8880571564983119, 0.8885175459536883, 0.889080244176926, 0.889080244176926, 0.889080244176926, 0.889080244176926, 0.889080244176926, 0.889080244176926]\n",
            "Training size...  26000\n",
            "--- 0.9794607162475586 seconds ---\n",
            "[0.6743511918971455, 0.7820141186099648, 0.8384203526242199, 0.8448999079221089, 0.855096681785629, 0.8693517034409849, 0.8742454728370221, 0.8824813286498653, 0.8873580465845923, 0.889080244176926, 0.887409200968523, 0.8863861132899089, 0.8887051120281008, 0.8854653343791563, 0.884425195239232, 0.8858916209119122, 0.8864372676738397, 0.8880571564983119, 0.8885175459536883, 0.889080244176926, 0.889080244176926, 0.889080244176926, 0.889080244176926, 0.889080244176926, 0.889080244176926, 0.889080244176926]\n",
            "Training size...  27000\n",
            "--- 0.9788174629211426 seconds ---\n",
            "[0.6743511918971455, 0.7820141186099648, 0.8384203526242199, 0.8448999079221089, 0.855096681785629, 0.8693517034409849, 0.8742454728370221, 0.8824813286498653, 0.8873580465845923, 0.889080244176926, 0.887409200968523, 0.8863861132899089, 0.8887051120281008, 0.8854653343791563, 0.884425195239232, 0.8858916209119122, 0.8864372676738397, 0.8880571564983119, 0.8885175459536883, 0.889080244176926, 0.889080244176926, 0.889080244176926, 0.889080244176926, 0.889080244176926, 0.889080244176926, 0.889080244176926, 0.889080244176926]\n",
            "Training size...  28000\n",
            "--- 0.9876120090484619 seconds ---\n",
            "[0.6743511918971455, 0.7820141186099648, 0.8384203526242199, 0.8448999079221089, 0.855096681785629, 0.8693517034409849, 0.8742454728370221, 0.8824813286498653, 0.8873580465845923, 0.889080244176926, 0.887409200968523, 0.8863861132899089, 0.8887051120281008, 0.8854653343791563, 0.884425195239232, 0.8858916209119122, 0.8864372676738397, 0.8880571564983119, 0.8885175459536883, 0.889080244176926, 0.889080244176926, 0.889080244176926, 0.889080244176926, 0.889080244176926, 0.889080244176926, 0.889080244176926, 0.889080244176926, 0.889080244176926]\n",
            "Training size...  29000\n",
            "--- 0.9700281620025635 seconds ---\n",
            "[0.6743511918971455, 0.7820141186099648, 0.8384203526242199, 0.8448999079221089, 0.855096681785629, 0.8693517034409849, 0.8742454728370221, 0.8824813286498653, 0.8873580465845923, 0.889080244176926, 0.887409200968523, 0.8863861132899089, 0.8887051120281008, 0.8854653343791563, 0.884425195239232, 0.8858916209119122, 0.8864372676738397, 0.8880571564983119, 0.8885175459536883, 0.889080244176926, 0.889080244176926, 0.889080244176926, 0.889080244176926, 0.889080244176926, 0.889080244176926, 0.889080244176926, 0.889080244176926, 0.889080244176926, 0.889080244176926]\n",
            "Training size...  30000\n",
            "--- 0.9951982498168945 seconds ---\n",
            "[0.6743511918971455, 0.7820141186099648, 0.8384203526242199, 0.8448999079221089, 0.855096681785629, 0.8693517034409849, 0.8742454728370221, 0.8824813286498653, 0.8873580465845923, 0.889080244176926, 0.887409200968523, 0.8863861132899089, 0.8887051120281008, 0.8854653343791563, 0.884425195239232, 0.8858916209119122, 0.8864372676738397, 0.8880571564983119, 0.8885175459536883, 0.889080244176926, 0.889080244176926, 0.889080244176926, 0.889080244176926, 0.889080244176926, 0.889080244176926, 0.889080244176926, 0.889080244176926, 0.889080244176926, 0.889080244176926, 0.889080244176926]\n",
            "Training size...  31000\n",
            "--- 0.981548547744751 seconds ---\n",
            "[0.6743511918971455, 0.7820141186099648, 0.8384203526242199, 0.8448999079221089, 0.855096681785629, 0.8693517034409849, 0.8742454728370221, 0.8824813286498653, 0.8873580465845923, 0.889080244176926, 0.887409200968523, 0.8863861132899089, 0.8887051120281008, 0.8854653343791563, 0.884425195239232, 0.8858916209119122, 0.8864372676738397, 0.8880571564983119, 0.8885175459536883, 0.889080244176926, 0.889080244176926, 0.889080244176926, 0.889080244176926, 0.889080244176926, 0.889080244176926, 0.889080244176926, 0.889080244176926, 0.889080244176926, 0.889080244176926, 0.889080244176926, 0.889080244176926]\n",
            "Training size...  32000\n",
            "--- 0.9858534336090088 seconds ---\n",
            "[0.6743511918971455, 0.7820141186099648, 0.8384203526242199, 0.8448999079221089, 0.855096681785629, 0.8693517034409849, 0.8742454728370221, 0.8824813286498653, 0.8873580465845923, 0.889080244176926, 0.887409200968523, 0.8863861132899089, 0.8887051120281008, 0.8854653343791563, 0.884425195239232, 0.8858916209119122, 0.8864372676738397, 0.8880571564983119, 0.8885175459536883, 0.889080244176926, 0.889080244176926, 0.889080244176926, 0.889080244176926, 0.889080244176926, 0.889080244176926, 0.889080244176926, 0.889080244176926, 0.889080244176926, 0.889080244176926, 0.889080244176926, 0.889080244176926, 0.889080244176926]\n",
            "Training size...  33000\n",
            "--- 0.9763360023498535 seconds ---\n",
            "[0.6743511918971455, 0.7820141186099648, 0.8384203526242199, 0.8448999079221089, 0.855096681785629, 0.8693517034409849, 0.8742454728370221, 0.8824813286498653, 0.8873580465845923, 0.889080244176926, 0.887409200968523, 0.8863861132899089, 0.8887051120281008, 0.8854653343791563, 0.884425195239232, 0.8858916209119122, 0.8864372676738397, 0.8880571564983119, 0.8885175459536883, 0.889080244176926, 0.889080244176926, 0.889080244176926, 0.889080244176926, 0.889080244176926, 0.889080244176926, 0.889080244176926, 0.889080244176926, 0.889080244176926, 0.889080244176926, 0.889080244176926, 0.889080244176926, 0.889080244176926, 0.889080244176926]\n",
            "Training size...  34000\n",
            "--- 0.9838063716888428 seconds ---\n",
            "[0.6743511918971455, 0.7820141186099648, 0.8384203526242199, 0.8448999079221089, 0.855096681785629, 0.8693517034409849, 0.8742454728370221, 0.8824813286498653, 0.8873580465845923, 0.889080244176926, 0.887409200968523, 0.8863861132899089, 0.8887051120281008, 0.8854653343791563, 0.884425195239232, 0.8858916209119122, 0.8864372676738397, 0.8880571564983119, 0.8885175459536883, 0.889080244176926, 0.889080244176926, 0.889080244176926, 0.889080244176926, 0.889080244176926, 0.889080244176926, 0.889080244176926, 0.889080244176926, 0.889080244176926, 0.889080244176926, 0.889080244176926, 0.889080244176926, 0.889080244176926, 0.889080244176926, 0.889080244176926]\n",
            "Training size...  35000\n",
            "--- 0.9768905639648438 seconds ---\n",
            "[0.6743511918971455, 0.7820141186099648, 0.8384203526242199, 0.8448999079221089, 0.855096681785629, 0.8693517034409849, 0.8742454728370221, 0.8824813286498653, 0.8873580465845923, 0.889080244176926, 0.887409200968523, 0.8863861132899089, 0.8887051120281008, 0.8854653343791563, 0.884425195239232, 0.8858916209119122, 0.8864372676738397, 0.8880571564983119, 0.8885175459536883, 0.889080244176926, 0.889080244176926, 0.889080244176926, 0.889080244176926, 0.889080244176926, 0.889080244176926, 0.889080244176926, 0.889080244176926, 0.889080244176926, 0.889080244176926, 0.889080244176926, 0.889080244176926, 0.889080244176926, 0.889080244176926, 0.889080244176926, 0.889080244176926]\n",
            "Training size...  36000\n",
            "--- 0.9819474220275879 seconds ---\n",
            "[0.6743511918971455, 0.7820141186099648, 0.8384203526242199, 0.8448999079221089, 0.855096681785629, 0.8693517034409849, 0.8742454728370221, 0.8824813286498653, 0.8873580465845923, 0.889080244176926, 0.887409200968523, 0.8863861132899089, 0.8887051120281008, 0.8854653343791563, 0.884425195239232, 0.8858916209119122, 0.8864372676738397, 0.8880571564983119, 0.8885175459536883, 0.889080244176926, 0.889080244176926, 0.889080244176926, 0.889080244176926, 0.889080244176926, 0.889080244176926, 0.889080244176926, 0.889080244176926, 0.889080244176926, 0.889080244176926, 0.889080244176926, 0.889080244176926, 0.889080244176926, 0.889080244176926, 0.889080244176926, 0.889080244176926, 0.889080244176926]\n",
            "Training size...  37000\n",
            "--- 0.9794857501983643 seconds ---\n",
            "[0.6743511918971455, 0.7820141186099648, 0.8384203526242199, 0.8448999079221089, 0.855096681785629, 0.8693517034409849, 0.8742454728370221, 0.8824813286498653, 0.8873580465845923, 0.889080244176926, 0.887409200968523, 0.8863861132899089, 0.8887051120281008, 0.8854653343791563, 0.884425195239232, 0.8858916209119122, 0.8864372676738397, 0.8880571564983119, 0.8885175459536883, 0.889080244176926, 0.889080244176926, 0.889080244176926, 0.889080244176926, 0.889080244176926, 0.889080244176926, 0.889080244176926, 0.889080244176926, 0.889080244176926, 0.889080244176926, 0.889080244176926, 0.889080244176926, 0.889080244176926, 0.889080244176926, 0.889080244176926, 0.889080244176926, 0.889080244176926, 0.889080244176926]\n",
            "Training size...  38000\n",
            "--- 0.9770634174346924 seconds ---\n",
            "[0.6743511918971455, 0.7820141186099648, 0.8384203526242199, 0.8448999079221089, 0.855096681785629, 0.8693517034409849, 0.8742454728370221, 0.8824813286498653, 0.8873580465845923, 0.889080244176926, 0.887409200968523, 0.8863861132899089, 0.8887051120281008, 0.8854653343791563, 0.884425195239232, 0.8858916209119122, 0.8864372676738397, 0.8880571564983119, 0.8885175459536883, 0.889080244176926, 0.889080244176926, 0.889080244176926, 0.889080244176926, 0.889080244176926, 0.889080244176926, 0.889080244176926, 0.889080244176926, 0.889080244176926, 0.889080244176926, 0.889080244176926, 0.889080244176926, 0.889080244176926, 0.889080244176926, 0.889080244176926, 0.889080244176926, 0.889080244176926, 0.889080244176926, 0.889080244176926]\n",
            "Training size...  39000\n",
            "--- 0.9718525409698486 seconds ---\n",
            "[0.6743511918971455, 0.7820141186099648, 0.8384203526242199, 0.8448999079221089, 0.855096681785629, 0.8693517034409849, 0.8742454728370221, 0.8824813286498653, 0.8873580465845923, 0.889080244176926, 0.887409200968523, 0.8863861132899089, 0.8887051120281008, 0.8854653343791563, 0.884425195239232, 0.8858916209119122, 0.8864372676738397, 0.8880571564983119, 0.8885175459536883, 0.889080244176926, 0.889080244176926, 0.889080244176926, 0.889080244176926, 0.889080244176926, 0.889080244176926, 0.889080244176926, 0.889080244176926, 0.889080244176926, 0.889080244176926, 0.889080244176926, 0.889080244176926, 0.889080244176926, 0.889080244176926, 0.889080244176926, 0.889080244176926, 0.889080244176926, 0.889080244176926, 0.889080244176926, 0.889080244176926]\n",
            "Training size...  40000\n",
            "--- 0.98093581199646 seconds ---\n",
            "[0.6743511918971455, 0.7820141186099648, 0.8384203526242199, 0.8448999079221089, 0.855096681785629, 0.8693517034409849, 0.8742454728370221, 0.8824813286498653, 0.8873580465845923, 0.889080244176926, 0.887409200968523, 0.8863861132899089, 0.8887051120281008, 0.8854653343791563, 0.884425195239232, 0.8858916209119122, 0.8864372676738397, 0.8880571564983119, 0.8885175459536883, 0.889080244176926, 0.889080244176926, 0.889080244176926, 0.889080244176926, 0.889080244176926, 0.889080244176926, 0.889080244176926, 0.889080244176926, 0.889080244176926, 0.889080244176926, 0.889080244176926, 0.889080244176926, 0.889080244176926, 0.889080244176926, 0.889080244176926, 0.889080244176926, 0.889080244176926, 0.889080244176926, 0.889080244176926, 0.889080244176926, 0.889080244176926]\n",
            "Training size...  41000\n",
            "--- 0.9697821140289307 seconds ---\n",
            "[0.6743511918971455, 0.7820141186099648, 0.8384203526242199, 0.8448999079221089, 0.855096681785629, 0.8693517034409849, 0.8742454728370221, 0.8824813286498653, 0.8873580465845923, 0.889080244176926, 0.887409200968523, 0.8863861132899089, 0.8887051120281008, 0.8854653343791563, 0.884425195239232, 0.8858916209119122, 0.8864372676738397, 0.8880571564983119, 0.8885175459536883, 0.889080244176926, 0.889080244176926, 0.889080244176926, 0.889080244176926, 0.889080244176926, 0.889080244176926, 0.889080244176926, 0.889080244176926, 0.889080244176926, 0.889080244176926, 0.889080244176926, 0.889080244176926, 0.889080244176926, 0.889080244176926, 0.889080244176926, 0.889080244176926, 0.889080244176926, 0.889080244176926, 0.889080244176926, 0.889080244176926, 0.889080244176926, 0.889080244176926]\n",
            "Training size...  42000\n",
            "--- 0.9985287189483643 seconds ---\n",
            "[0.6743511918971455, 0.7820141186099648, 0.8384203526242199, 0.8448999079221089, 0.855096681785629, 0.8693517034409849, 0.8742454728370221, 0.8824813286498653, 0.8873580465845923, 0.889080244176926, 0.887409200968523, 0.8863861132899089, 0.8887051120281008, 0.8854653343791563, 0.884425195239232, 0.8858916209119122, 0.8864372676738397, 0.8880571564983119, 0.8885175459536883, 0.889080244176926, 0.889080244176926, 0.889080244176926, 0.889080244176926, 0.889080244176926, 0.889080244176926, 0.889080244176926, 0.889080244176926, 0.889080244176926, 0.889080244176926, 0.889080244176926, 0.889080244176926, 0.889080244176926, 0.889080244176926, 0.889080244176926, 0.889080244176926, 0.889080244176926, 0.889080244176926, 0.889080244176926, 0.889080244176926, 0.889080244176926, 0.889080244176926, 0.889080244176926]\n",
            "Training size...  43000\n",
            "--- 0.9717285633087158 seconds ---\n",
            "[0.6743511918971455, 0.7820141186099648, 0.8384203526242199, 0.8448999079221089, 0.855096681785629, 0.8693517034409849, 0.8742454728370221, 0.8824813286498653, 0.8873580465845923, 0.889080244176926, 0.887409200968523, 0.8863861132899089, 0.8887051120281008, 0.8854653343791563, 0.884425195239232, 0.8858916209119122, 0.8864372676738397, 0.8880571564983119, 0.8885175459536883, 0.889080244176926, 0.889080244176926, 0.889080244176926, 0.889080244176926, 0.889080244176926, 0.889080244176926, 0.889080244176926, 0.889080244176926, 0.889080244176926, 0.889080244176926, 0.889080244176926, 0.889080244176926, 0.889080244176926, 0.889080244176926, 0.889080244176926, 0.889080244176926, 0.889080244176926, 0.889080244176926, 0.889080244176926, 0.889080244176926, 0.889080244176926, 0.889080244176926, 0.889080244176926, 0.889080244176926]\n",
            "Training size...  44000\n",
            "--- 0.9770975112915039 seconds ---\n",
            "[0.6743511918971455, 0.7820141186099648, 0.8384203526242199, 0.8448999079221089, 0.855096681785629, 0.8693517034409849, 0.8742454728370221, 0.8824813286498653, 0.8873580465845923, 0.889080244176926, 0.887409200968523, 0.8863861132899089, 0.8887051120281008, 0.8854653343791563, 0.884425195239232, 0.8858916209119122, 0.8864372676738397, 0.8880571564983119, 0.8885175459536883, 0.889080244176926, 0.889080244176926, 0.889080244176926, 0.889080244176926, 0.889080244176926, 0.889080244176926, 0.889080244176926, 0.889080244176926, 0.889080244176926, 0.889080244176926, 0.889080244176926, 0.889080244176926, 0.889080244176926, 0.889080244176926, 0.889080244176926, 0.889080244176926, 0.889080244176926, 0.889080244176926, 0.889080244176926, 0.889080244176926, 0.889080244176926, 0.889080244176926, 0.889080244176926, 0.889080244176926, 0.889080244176926]\n",
            "Training size...  45000\n",
            "--- 0.9693410396575928 seconds ---\n",
            "[0.6743511918971455, 0.7820141186099648, 0.8384203526242199, 0.8448999079221089, 0.855096681785629, 0.8693517034409849, 0.8742454728370221, 0.8824813286498653, 0.8873580465845923, 0.889080244176926, 0.887409200968523, 0.8863861132899089, 0.8887051120281008, 0.8854653343791563, 0.884425195239232, 0.8858916209119122, 0.8864372676738397, 0.8880571564983119, 0.8885175459536883, 0.889080244176926, 0.889080244176926, 0.889080244176926, 0.889080244176926, 0.889080244176926, 0.889080244176926, 0.889080244176926, 0.889080244176926, 0.889080244176926, 0.889080244176926, 0.889080244176926, 0.889080244176926, 0.889080244176926, 0.889080244176926, 0.889080244176926, 0.889080244176926, 0.889080244176926, 0.889080244176926, 0.889080244176926, 0.889080244176926, 0.889080244176926, 0.889080244176926, 0.889080244176926, 0.889080244176926, 0.889080244176926, 0.889080244176926]\n",
            "Training size...  46000\n",
            "--- 0.9795210361480713 seconds ---\n",
            "[0.6743511918971455, 0.7820141186099648, 0.8384203526242199, 0.8448999079221089, 0.855096681785629, 0.8693517034409849, 0.8742454728370221, 0.8824813286498653, 0.8873580465845923, 0.889080244176926, 0.887409200968523, 0.8863861132899089, 0.8887051120281008, 0.8854653343791563, 0.884425195239232, 0.8858916209119122, 0.8864372676738397, 0.8880571564983119, 0.8885175459536883, 0.889080244176926, 0.889080244176926, 0.889080244176926, 0.889080244176926, 0.889080244176926, 0.889080244176926, 0.889080244176926, 0.889080244176926, 0.889080244176926, 0.889080244176926, 0.889080244176926, 0.889080244176926, 0.889080244176926, 0.889080244176926, 0.889080244176926, 0.889080244176926, 0.889080244176926, 0.889080244176926, 0.889080244176926, 0.889080244176926, 0.889080244176926, 0.889080244176926, 0.889080244176926, 0.889080244176926, 0.889080244176926, 0.889080244176926, 0.889080244176926]\n",
            "Training size...  47000\n",
            "--- 0.9699974060058594 seconds ---\n",
            "[0.6743511918971455, 0.7820141186099648, 0.8384203526242199, 0.8448999079221089, 0.855096681785629, 0.8693517034409849, 0.8742454728370221, 0.8824813286498653, 0.8873580465845923, 0.889080244176926, 0.887409200968523, 0.8863861132899089, 0.8887051120281008, 0.8854653343791563, 0.884425195239232, 0.8858916209119122, 0.8864372676738397, 0.8880571564983119, 0.8885175459536883, 0.889080244176926, 0.889080244176926, 0.889080244176926, 0.889080244176926, 0.889080244176926, 0.889080244176926, 0.889080244176926, 0.889080244176926, 0.889080244176926, 0.889080244176926, 0.889080244176926, 0.889080244176926, 0.889080244176926, 0.889080244176926, 0.889080244176926, 0.889080244176926, 0.889080244176926, 0.889080244176926, 0.889080244176926, 0.889080244176926, 0.889080244176926, 0.889080244176926, 0.889080244176926, 0.889080244176926, 0.889080244176926, 0.889080244176926, 0.889080244176926, 0.889080244176926]\n",
            "Training size...  48000\n",
            "--- 0.9876670837402344 seconds ---\n",
            "[0.6743511918971455, 0.7820141186099648, 0.8384203526242199, 0.8448999079221089, 0.855096681785629, 0.8693517034409849, 0.8742454728370221, 0.8824813286498653, 0.8873580465845923, 0.889080244176926, 0.887409200968523, 0.8863861132899089, 0.8887051120281008, 0.8854653343791563, 0.884425195239232, 0.8858916209119122, 0.8864372676738397, 0.8880571564983119, 0.8885175459536883, 0.889080244176926, 0.889080244176926, 0.889080244176926, 0.889080244176926, 0.889080244176926, 0.889080244176926, 0.889080244176926, 0.889080244176926, 0.889080244176926, 0.889080244176926, 0.889080244176926, 0.889080244176926, 0.889080244176926, 0.889080244176926, 0.889080244176926, 0.889080244176926, 0.889080244176926, 0.889080244176926, 0.889080244176926, 0.889080244176926, 0.889080244176926, 0.889080244176926, 0.889080244176926, 0.889080244176926, 0.889080244176926, 0.889080244176926, 0.889080244176926, 0.889080244176926, 0.889080244176926]\n",
            "Training size...  49000\n",
            "--- 0.978163480758667 seconds ---\n",
            "[0.6743511918971455, 0.7820141186099648, 0.8384203526242199, 0.8448999079221089, 0.855096681785629, 0.8693517034409849, 0.8742454728370221, 0.8824813286498653, 0.8873580465845923, 0.889080244176926, 0.887409200968523, 0.8863861132899089, 0.8887051120281008, 0.8854653343791563, 0.884425195239232, 0.8858916209119122, 0.8864372676738397, 0.8880571564983119, 0.8885175459536883, 0.889080244176926, 0.889080244176926, 0.889080244176926, 0.889080244176926, 0.889080244176926, 0.889080244176926, 0.889080244176926, 0.889080244176926, 0.889080244176926, 0.889080244176926, 0.889080244176926, 0.889080244176926, 0.889080244176926, 0.889080244176926, 0.889080244176926, 0.889080244176926, 0.889080244176926, 0.889080244176926, 0.889080244176926, 0.889080244176926, 0.889080244176926, 0.889080244176926, 0.889080244176926, 0.889080244176926, 0.889080244176926, 0.889080244176926, 0.889080244176926, 0.889080244176926, 0.889080244176926, 0.889080244176926]\n",
            "Training size...  50000\n",
            "--- 0.9807050228118896 seconds ---\n",
            "[0.6743511918971455, 0.7820141186099648, 0.8384203526242199, 0.8448999079221089, 0.855096681785629, 0.8693517034409849, 0.8742454728370221, 0.8824813286498653, 0.8873580465845923, 0.889080244176926, 0.887409200968523, 0.8863861132899089, 0.8887051120281008, 0.8854653343791563, 0.884425195239232, 0.8858916209119122, 0.8864372676738397, 0.8880571564983119, 0.8885175459536883, 0.889080244176926, 0.889080244176926, 0.889080244176926, 0.889080244176926, 0.889080244176926, 0.889080244176926, 0.889080244176926, 0.889080244176926, 0.889080244176926, 0.889080244176926, 0.889080244176926, 0.889080244176926, 0.889080244176926, 0.889080244176926, 0.889080244176926, 0.889080244176926, 0.889080244176926, 0.889080244176926, 0.889080244176926, 0.889080244176926, 0.889080244176926, 0.889080244176926, 0.889080244176926, 0.889080244176926, 0.889080244176926, 0.889080244176926, 0.889080244176926, 0.889080244176926, 0.889080244176926, 0.889080244176926, 0.889080244176926]\n",
            "Training size...  51000\n",
            "--- 0.966810941696167 seconds ---\n",
            "[0.6743511918971455, 0.7820141186099648, 0.8384203526242199, 0.8448999079221089, 0.855096681785629, 0.8693517034409849, 0.8742454728370221, 0.8824813286498653, 0.8873580465845923, 0.889080244176926, 0.887409200968523, 0.8863861132899089, 0.8887051120281008, 0.8854653343791563, 0.884425195239232, 0.8858916209119122, 0.8864372676738397, 0.8880571564983119, 0.8885175459536883, 0.889080244176926, 0.889080244176926, 0.889080244176926, 0.889080244176926, 0.889080244176926, 0.889080244176926, 0.889080244176926, 0.889080244176926, 0.889080244176926, 0.889080244176926, 0.889080244176926, 0.889080244176926, 0.889080244176926, 0.889080244176926, 0.889080244176926, 0.889080244176926, 0.889080244176926, 0.889080244176926, 0.889080244176926, 0.889080244176926, 0.889080244176926, 0.889080244176926, 0.889080244176926, 0.889080244176926, 0.889080244176926, 0.889080244176926, 0.889080244176926, 0.889080244176926, 0.889080244176926, 0.889080244176926, 0.889080244176926, 0.889080244176926]\n",
            "Training size...  52000\n",
            "--- 0.9706935882568359 seconds ---\n",
            "[0.6743511918971455, 0.7820141186099648, 0.8384203526242199, 0.8448999079221089, 0.855096681785629, 0.8693517034409849, 0.8742454728370221, 0.8824813286498653, 0.8873580465845923, 0.889080244176926, 0.887409200968523, 0.8863861132899089, 0.8887051120281008, 0.8854653343791563, 0.884425195239232, 0.8858916209119122, 0.8864372676738397, 0.8880571564983119, 0.8885175459536883, 0.889080244176926, 0.889080244176926, 0.889080244176926, 0.889080244176926, 0.889080244176926, 0.889080244176926, 0.889080244176926, 0.889080244176926, 0.889080244176926, 0.889080244176926, 0.889080244176926, 0.889080244176926, 0.889080244176926, 0.889080244176926, 0.889080244176926, 0.889080244176926, 0.889080244176926, 0.889080244176926, 0.889080244176926, 0.889080244176926, 0.889080244176926, 0.889080244176926, 0.889080244176926, 0.889080244176926, 0.889080244176926, 0.889080244176926, 0.889080244176926, 0.889080244176926, 0.889080244176926, 0.889080244176926, 0.889080244176926, 0.889080244176926, 0.889080244176926]\n",
            "Training size...  53000\n",
            "--- 0.992372989654541 seconds ---\n",
            "[0.6743511918971455, 0.7820141186099648, 0.8384203526242199, 0.8448999079221089, 0.855096681785629, 0.8693517034409849, 0.8742454728370221, 0.8824813286498653, 0.8873580465845923, 0.889080244176926, 0.887409200968523, 0.8863861132899089, 0.8887051120281008, 0.8854653343791563, 0.884425195239232, 0.8858916209119122, 0.8864372676738397, 0.8880571564983119, 0.8885175459536883, 0.889080244176926, 0.889080244176926, 0.889080244176926, 0.889080244176926, 0.889080244176926, 0.889080244176926, 0.889080244176926, 0.889080244176926, 0.889080244176926, 0.889080244176926, 0.889080244176926, 0.889080244176926, 0.889080244176926, 0.889080244176926, 0.889080244176926, 0.889080244176926, 0.889080244176926, 0.889080244176926, 0.889080244176926, 0.889080244176926, 0.889080244176926, 0.889080244176926, 0.889080244176926, 0.889080244176926, 0.889080244176926, 0.889080244176926, 0.889080244176926, 0.889080244176926, 0.889080244176926, 0.889080244176926, 0.889080244176926, 0.889080244176926, 0.889080244176926, 0.889080244176926]\n",
            "Training size...  54000\n",
            "--- 0.978257417678833 seconds ---\n",
            "[0.6743511918971455, 0.7820141186099648, 0.8384203526242199, 0.8448999079221089, 0.855096681785629, 0.8693517034409849, 0.8742454728370221, 0.8824813286498653, 0.8873580465845923, 0.889080244176926, 0.887409200968523, 0.8863861132899089, 0.8887051120281008, 0.8854653343791563, 0.884425195239232, 0.8858916209119122, 0.8864372676738397, 0.8880571564983119, 0.8885175459536883, 0.889080244176926, 0.889080244176926, 0.889080244176926, 0.889080244176926, 0.889080244176926, 0.889080244176926, 0.889080244176926, 0.889080244176926, 0.889080244176926, 0.889080244176926, 0.889080244176926, 0.889080244176926, 0.889080244176926, 0.889080244176926, 0.889080244176926, 0.889080244176926, 0.889080244176926, 0.889080244176926, 0.889080244176926, 0.889080244176926, 0.889080244176926, 0.889080244176926, 0.889080244176926, 0.889080244176926, 0.889080244176926, 0.889080244176926, 0.889080244176926, 0.889080244176926, 0.889080244176926, 0.889080244176926, 0.889080244176926, 0.889080244176926, 0.889080244176926, 0.889080244176926, 0.889080244176926]\n",
            "Training size...  55000\n",
            "--- 0.9755573272705078 seconds ---\n",
            "[0.6743511918971455, 0.7820141186099648, 0.8384203526242199, 0.8448999079221089, 0.855096681785629, 0.8693517034409849, 0.8742454728370221, 0.8824813286498653, 0.8873580465845923, 0.889080244176926, 0.887409200968523, 0.8863861132899089, 0.8887051120281008, 0.8854653343791563, 0.884425195239232, 0.8858916209119122, 0.8864372676738397, 0.8880571564983119, 0.8885175459536883, 0.889080244176926, 0.889080244176926, 0.889080244176926, 0.889080244176926, 0.889080244176926, 0.889080244176926, 0.889080244176926, 0.889080244176926, 0.889080244176926, 0.889080244176926, 0.889080244176926, 0.889080244176926, 0.889080244176926, 0.889080244176926, 0.889080244176926, 0.889080244176926, 0.889080244176926, 0.889080244176926, 0.889080244176926, 0.889080244176926, 0.889080244176926, 0.889080244176926, 0.889080244176926, 0.889080244176926, 0.889080244176926, 0.889080244176926, 0.889080244176926, 0.889080244176926, 0.889080244176926, 0.889080244176926, 0.889080244176926, 0.889080244176926, 0.889080244176926, 0.889080244176926, 0.889080244176926, 0.889080244176926]\n",
            "Training size...  56000\n",
            "--- 0.9695351123809814 seconds ---\n",
            "[0.6743511918971455, 0.7820141186099648, 0.8384203526242199, 0.8448999079221089, 0.855096681785629, 0.8693517034409849, 0.8742454728370221, 0.8824813286498653, 0.8873580465845923, 0.889080244176926, 0.887409200968523, 0.8863861132899089, 0.8887051120281008, 0.8854653343791563, 0.884425195239232, 0.8858916209119122, 0.8864372676738397, 0.8880571564983119, 0.8885175459536883, 0.889080244176926, 0.889080244176926, 0.889080244176926, 0.889080244176926, 0.889080244176926, 0.889080244176926, 0.889080244176926, 0.889080244176926, 0.889080244176926, 0.889080244176926, 0.889080244176926, 0.889080244176926, 0.889080244176926, 0.889080244176926, 0.889080244176926, 0.889080244176926, 0.889080244176926, 0.889080244176926, 0.889080244176926, 0.889080244176926, 0.889080244176926, 0.889080244176926, 0.889080244176926, 0.889080244176926, 0.889080244176926, 0.889080244176926, 0.889080244176926, 0.889080244176926, 0.889080244176926, 0.889080244176926, 0.889080244176926, 0.889080244176926, 0.889080244176926, 0.889080244176926, 0.889080244176926, 0.889080244176926, 0.889080244176926]\n",
            "Training size...  57000\n",
            "--- 0.984950065612793 seconds ---\n",
            "[0.6743511918971455, 0.7820141186099648, 0.8384203526242199, 0.8448999079221089, 0.855096681785629, 0.8693517034409849, 0.8742454728370221, 0.8824813286498653, 0.8873580465845923, 0.889080244176926, 0.887409200968523, 0.8863861132899089, 0.8887051120281008, 0.8854653343791563, 0.884425195239232, 0.8858916209119122, 0.8864372676738397, 0.8880571564983119, 0.8885175459536883, 0.889080244176926, 0.889080244176926, 0.889080244176926, 0.889080244176926, 0.889080244176926, 0.889080244176926, 0.889080244176926, 0.889080244176926, 0.889080244176926, 0.889080244176926, 0.889080244176926, 0.889080244176926, 0.889080244176926, 0.889080244176926, 0.889080244176926, 0.889080244176926, 0.889080244176926, 0.889080244176926, 0.889080244176926, 0.889080244176926, 0.889080244176926, 0.889080244176926, 0.889080244176926, 0.889080244176926, 0.889080244176926, 0.889080244176926, 0.889080244176926, 0.889080244176926, 0.889080244176926, 0.889080244176926, 0.889080244176926, 0.889080244176926, 0.889080244176926, 0.889080244176926, 0.889080244176926, 0.889080244176926, 0.889080244176926, 0.889080244176926]\n",
            "Training size...  58000\n",
            "--- 0.9852664470672607 seconds ---\n",
            "[0.6743511918971455, 0.7820141186099648, 0.8384203526242199, 0.8448999079221089, 0.855096681785629, 0.8693517034409849, 0.8742454728370221, 0.8824813286498653, 0.8873580465845923, 0.889080244176926, 0.887409200968523, 0.8863861132899089, 0.8887051120281008, 0.8854653343791563, 0.884425195239232, 0.8858916209119122, 0.8864372676738397, 0.8880571564983119, 0.8885175459536883, 0.889080244176926, 0.889080244176926, 0.889080244176926, 0.889080244176926, 0.889080244176926, 0.889080244176926, 0.889080244176926, 0.889080244176926, 0.889080244176926, 0.889080244176926, 0.889080244176926, 0.889080244176926, 0.889080244176926, 0.889080244176926, 0.889080244176926, 0.889080244176926, 0.889080244176926, 0.889080244176926, 0.889080244176926, 0.889080244176926, 0.889080244176926, 0.889080244176926, 0.889080244176926, 0.889080244176926, 0.889080244176926, 0.889080244176926, 0.889080244176926, 0.889080244176926, 0.889080244176926, 0.889080244176926, 0.889080244176926, 0.889080244176926, 0.889080244176926, 0.889080244176926, 0.889080244176926, 0.889080244176926, 0.889080244176926, 0.889080244176926, 0.889080244176926]\n"
          ],
          "name": "stdout"
        }
      ]
    },
    {
      "cell_type": "code",
      "metadata": {
        "colab": {
          "base_uri": "https://localhost:8080/"
        },
        "id": "vulRv5Fba3PY",
        "outputId": "bd4fae6c-a913-473c-eb97-5dbcc9243149"
      },
      "source": [
        "batchsize = 1000\n",
        "ini = 0\n",
        "end = batchsize\n",
        "\n",
        "historyLDA = []\n",
        "while(end <= 58646   ):\n",
        "  xt = X_train[0:end]\n",
        "  yt = y_train[0:end]\n",
        "  print (\"Training size... \", end)\t \n",
        "  start_time = time.time()  \n",
        "   \n",
        "  #clf = RandomForestClassifier()\n",
        "  #clfLR = linear_model.LogisticRegression() \n",
        "  #clfGNB = GaussianNB()\n",
        "  clfLDA = LinearDiscriminantAnalysis()\n",
        "  #clfPtron = Perceptron(max_iter=100)\n",
        "   \n",
        "  X_train_dense = xt.toarray()\n",
        "  clfLDA.fit(X_train_dense, yt)\n",
        "  X_test_dense = X_test.toarray()\n",
        "  y_pred = clfLDA.predict(X_test_dense) \n",
        "   \n",
        "  # mostra o resultado do classificador na base de teste\n",
        "  historyLDA.append(clfLDA.score(X_test_dense, y_test))\n",
        "   \n",
        "  print(\"--- %s seconds ---\" % (time.time() - start_time))\n",
        "  end = end + batchsize\n",
        "  print (historyLDA)"
      ],
      "execution_count": 34,
      "outputs": [
        {
          "output_type": "stream",
          "text": [
            "Training size...  1000\n",
            "--- 0.19664645195007324 seconds ---\n",
            "[0.7873171230774477]\n",
            "Training size...  2000\n",
            "--- 0.24530291557312012 seconds ---\n",
            "[0.7873171230774477, 0.8732735395423388]\n",
            "Training size...  3000\n",
            "--- 0.29091691970825195 seconds ---\n",
            "[0.7873171230774477, 0.8732735395423388, 0.8935477270402074]\n",
            "Training size...  4000\n",
            "--- 0.2985515594482422 seconds ---\n",
            "[0.7873171230774477, 0.8732735395423388, 0.8935477270402074, 0.8853630256112949]\n",
            "Training size...  5000\n",
            "--- 0.36018967628479004 seconds ---\n",
            "[0.7873171230774477, 0.8732735395423388, 0.8935477270402074, 0.8853630256112949, 0.8905296183882959]\n",
            "Training size...  6000\n",
            "--- 0.37554407119750977 seconds ---\n",
            "[0.7873171230774477, 0.8732735395423388, 0.8935477270402074, 0.8853630256112949, 0.8905296183882959, 0.9025167956893906]\n",
            "Training size...  7000\n",
            "--- 0.37862563133239746 seconds ---\n",
            "[0.7873171230774477, 0.8732735395423388, 0.8935477270402074, 0.8853630256112949, 0.8905296183882959, 0.9025167956893906, 0.9124407461719469]\n",
            "Training size...  8000\n",
            "--- 0.4024031162261963 seconds ---\n",
            "[0.7873171230774477, 0.8732735395423388, 0.8935477270402074, 0.8853630256112949, 0.8905296183882959, 0.9025167956893906, 0.9124407461719469, 0.9207618592913412]\n",
            "Training size...  9000\n",
            "--- 0.4520750045776367 seconds ---\n",
            "[0.7873171230774477, 0.8732735395423388, 0.8935477270402074, 0.8853630256112949, 0.8905296183882959, 0.9025167956893906, 0.9124407461719469, 0.9207618592913412, 0.9237117620980118]\n",
            "Training size...  10000\n",
            "--- 0.4695315361022949 seconds ---\n",
            "[0.7873171230774477, 0.8732735395423388, 0.8935477270402074, 0.8853630256112949, 0.8905296183882959, 0.9025167956893906, 0.9124407461719469, 0.9207618592913412, 0.9237117620980118, 0.9278552671963988]\n",
            "Training size...  11000\n",
            "--- 0.49306654930114746 seconds ---\n",
            "[0.7873171230774477, 0.8732735395423388, 0.8935477270402074, 0.8853630256112949, 0.8905296183882959, 0.9025167956893906, 0.9124407461719469, 0.9207618592913412, 0.9237117620980118, 0.9278552671963988, 0.9260648637588241]\n",
            "Training size...  12000\n",
            "--- 0.5198087692260742 seconds ---\n",
            "[0.7873171230774477, 0.8732735395423388, 0.8935477270402074, 0.8853630256112949, 0.8905296183882959, 0.9025167956893906, 0.9124407461719469, 0.9207618592913412, 0.9237117620980118, 0.9278552671963988, 0.9260648637588241, 0.9245472837022133]\n",
            "Training size...  13000\n",
            "--- 0.5399496555328369 seconds ---\n",
            "[0.7873171230774477, 0.8732735395423388, 0.8935477270402074, 0.8853630256112949, 0.8905296183882959, 0.9025167956893906, 0.9124407461719469, 0.9207618592913412, 0.9237117620980118, 0.9278552671963988, 0.9260648637588241, 0.9245472837022133, 0.9242233059373188]\n",
            "Training size...  14000\n",
            "--- 0.5616967678070068 seconds ---\n",
            "[0.7873171230774477, 0.8732735395423388, 0.8935477270402074, 0.8853630256112949, 0.8905296183882959, 0.9025167956893906, 0.9124407461719469, 0.9207618592913412, 0.9237117620980118, 0.9278552671963988, 0.9260648637588241, 0.9245472837022133, 0.9242233059373188, 0.9220407188896088]\n",
            "Training size...  15000\n",
            "--- 0.5850403308868408 seconds ---\n",
            "[0.7873171230774477, 0.8732735395423388, 0.8935477270402074, 0.8853630256112949, 0.8905296183882959, 0.9025167956893906, 0.9124407461719469, 0.9207618592913412, 0.9237117620980118, 0.9278552671963988, 0.9260648637588241, 0.9245472837022133, 0.9242233059373188, 0.9220407188896088, 0.9208300651365822]\n",
            "Training size...  16000\n",
            "--- 0.6183948516845703 seconds ---\n",
            "[0.7873171230774477, 0.8732735395423388, 0.8935477270402074, 0.8853630256112949, 0.8905296183882959, 0.9025167956893906, 0.9124407461719469, 0.9207618592913412, 0.9237117620980118, 0.9278552671963988, 0.9260648637588241, 0.9245472837022133, 0.9242233059373188, 0.9220407188896088, 0.9208300651365822, 0.9210517341336153]\n",
            "Training size...  17000\n",
            "--- 0.6332964897155762 seconds ---\n",
            "[0.7873171230774477, 0.8732735395423388, 0.8935477270402074, 0.8853630256112949, 0.8905296183882959, 0.9025167956893906, 0.9124407461719469, 0.9207618592913412, 0.9237117620980118, 0.9278552671963988, 0.9260648637588241, 0.9245472837022133, 0.9242233059373188, 0.9220407188896088, 0.9208300651365822, 0.9210517341336153, 0.923149063874774]\n",
            "Training size...  18000\n",
            "--- 0.6994791030883789 seconds ---\n",
            "[0.7873171230774477, 0.8732735395423388, 0.8935477270402074, 0.8853630256112949, 0.8905296183882959, 0.9025167956893906, 0.9124407461719469, 0.9207618592913412, 0.9237117620980118, 0.9278552671963988, 0.9260648637588241, 0.9245472837022133, 0.9242233059373188, 0.9220407188896088, 0.9208300651365822, 0.9210517341336153, 0.923149063874774, 0.9250588275415204]\n",
            "Training size...  19000\n",
            "--- 0.6995339393615723 seconds ---\n",
            "[0.7873171230774477, 0.8732735395423388, 0.8935477270402074, 0.8853630256112949, 0.8905296183882959, 0.9025167956893906, 0.9124407461719469, 0.9207618592913412, 0.9237117620980118, 0.9278552671963988, 0.9260648637588241, 0.9245472837022133, 0.9242233059373188, 0.9220407188896088, 0.9208300651365822, 0.9210517341336153, 0.923149063874774, 0.9250588275415204, 0.9264229444463391]\n",
            "Training size...  20000\n",
            "--- 0.7420744895935059 seconds ---\n",
            "[0.7873171230774477, 0.8732735395423388, 0.8935477270402074, 0.8853630256112949, 0.8905296183882959, 0.9025167956893906, 0.9124407461719469, 0.9207618592913412, 0.9237117620980118, 0.9278552671963988, 0.9260648637588241, 0.9245472837022133, 0.9242233059373188, 0.9220407188896088, 0.9208300651365822, 0.9210517341336153, 0.923149063874774, 0.9250588275415204, 0.9264229444463391, 0.9278552671963988]\n",
            "Training size...  21000\n",
            "--- 0.7461898326873779 seconds ---\n",
            "[0.7873171230774477, 0.8732735395423388, 0.8935477270402074, 0.8853630256112949, 0.8905296183882959, 0.9025167956893906, 0.9124407461719469, 0.9207618592913412, 0.9237117620980118, 0.9278552671963988, 0.9260648637588241, 0.9245472837022133, 0.9242233059373188, 0.9220407188896088, 0.9208300651365822, 0.9210517341336153, 0.923149063874774, 0.9250588275415204, 0.9264229444463391, 0.9278552671963988, 0.9278552671963988]\n",
            "Training size...  22000\n",
            "--- 0.741417407989502 seconds ---\n",
            "[0.7873171230774477, 0.8732735395423388, 0.8935477270402074, 0.8853630256112949, 0.8905296183882959, 0.9025167956893906, 0.9124407461719469, 0.9207618592913412, 0.9237117620980118, 0.9278552671963988, 0.9260648637588241, 0.9245472837022133, 0.9242233059373188, 0.9220407188896088, 0.9208300651365822, 0.9210517341336153, 0.923149063874774, 0.9250588275415204, 0.9264229444463391, 0.9278552671963988, 0.9278552671963988, 0.9278552671963988]\n",
            "Training size...  23000\n",
            "--- 0.7468981742858887 seconds ---\n",
            "[0.7873171230774477, 0.8732735395423388, 0.8935477270402074, 0.8853630256112949, 0.8905296183882959, 0.9025167956893906, 0.9124407461719469, 0.9207618592913412, 0.9237117620980118, 0.9278552671963988, 0.9260648637588241, 0.9245472837022133, 0.9242233059373188, 0.9220407188896088, 0.9208300651365822, 0.9210517341336153, 0.923149063874774, 0.9250588275415204, 0.9264229444463391, 0.9278552671963988, 0.9278552671963988, 0.9278552671963988, 0.9278552671963988]\n",
            "Training size...  24000\n",
            "--- 0.7267594337463379 seconds ---\n",
            "[0.7873171230774477, 0.8732735395423388, 0.8935477270402074, 0.8853630256112949, 0.8905296183882959, 0.9025167956893906, 0.9124407461719469, 0.9207618592913412, 0.9237117620980118, 0.9278552671963988, 0.9260648637588241, 0.9245472837022133, 0.9242233059373188, 0.9220407188896088, 0.9208300651365822, 0.9210517341336153, 0.923149063874774, 0.9250588275415204, 0.9264229444463391, 0.9278552671963988, 0.9278552671963988, 0.9278552671963988, 0.9278552671963988, 0.9278552671963988]\n",
            "Training size...  25000\n",
            "--- 0.7461240291595459 seconds ---\n",
            "[0.7873171230774477, 0.8732735395423388, 0.8935477270402074, 0.8853630256112949, 0.8905296183882959, 0.9025167956893906, 0.9124407461719469, 0.9207618592913412, 0.9237117620980118, 0.9278552671963988, 0.9260648637588241, 0.9245472837022133, 0.9242233059373188, 0.9220407188896088, 0.9208300651365822, 0.9210517341336153, 0.923149063874774, 0.9250588275415204, 0.9264229444463391, 0.9278552671963988, 0.9278552671963988, 0.9278552671963988, 0.9278552671963988, 0.9278552671963988, 0.9278552671963988]\n",
            "Training size...  26000\n",
            "--- 0.7438030242919922 seconds ---\n",
            "[0.7873171230774477, 0.8732735395423388, 0.8935477270402074, 0.8853630256112949, 0.8905296183882959, 0.9025167956893906, 0.9124407461719469, 0.9207618592913412, 0.9237117620980118, 0.9278552671963988, 0.9260648637588241, 0.9245472837022133, 0.9242233059373188, 0.9220407188896088, 0.9208300651365822, 0.9210517341336153, 0.923149063874774, 0.9250588275415204, 0.9264229444463391, 0.9278552671963988, 0.9278552671963988, 0.9278552671963988, 0.9278552671963988, 0.9278552671963988, 0.9278552671963988, 0.9278552671963988]\n",
            "Training size...  27000\n",
            "--- 0.7417421340942383 seconds ---\n",
            "[0.7873171230774477, 0.8732735395423388, 0.8935477270402074, 0.8853630256112949, 0.8905296183882959, 0.9025167956893906, 0.9124407461719469, 0.9207618592913412, 0.9237117620980118, 0.9278552671963988, 0.9260648637588241, 0.9245472837022133, 0.9242233059373188, 0.9220407188896088, 0.9208300651365822, 0.9210517341336153, 0.923149063874774, 0.9250588275415204, 0.9264229444463391, 0.9278552671963988, 0.9278552671963988, 0.9278552671963988, 0.9278552671963988, 0.9278552671963988, 0.9278552671963988, 0.9278552671963988, 0.9278552671963988]\n",
            "Training size...  28000\n",
            "--- 0.7403275966644287 seconds ---\n",
            "[0.7873171230774477, 0.8732735395423388, 0.8935477270402074, 0.8853630256112949, 0.8905296183882959, 0.9025167956893906, 0.9124407461719469, 0.9207618592913412, 0.9237117620980118, 0.9278552671963988, 0.9260648637588241, 0.9245472837022133, 0.9242233059373188, 0.9220407188896088, 0.9208300651365822, 0.9210517341336153, 0.923149063874774, 0.9250588275415204, 0.9264229444463391, 0.9278552671963988, 0.9278552671963988, 0.9278552671963988, 0.9278552671963988, 0.9278552671963988, 0.9278552671963988, 0.9278552671963988, 0.9278552671963988, 0.9278552671963988]\n",
            "Training size...  29000\n",
            "--- 0.7342355251312256 seconds ---\n",
            "[0.7873171230774477, 0.8732735395423388, 0.8935477270402074, 0.8853630256112949, 0.8905296183882959, 0.9025167956893906, 0.9124407461719469, 0.9207618592913412, 0.9237117620980118, 0.9278552671963988, 0.9260648637588241, 0.9245472837022133, 0.9242233059373188, 0.9220407188896088, 0.9208300651365822, 0.9210517341336153, 0.923149063874774, 0.9250588275415204, 0.9264229444463391, 0.9278552671963988, 0.9278552671963988, 0.9278552671963988, 0.9278552671963988, 0.9278552671963988, 0.9278552671963988, 0.9278552671963988, 0.9278552671963988, 0.9278552671963988, 0.9278552671963988]\n",
            "Training size...  30000\n",
            "--- 0.7332148551940918 seconds ---\n",
            "[0.7873171230774477, 0.8732735395423388, 0.8935477270402074, 0.8853630256112949, 0.8905296183882959, 0.9025167956893906, 0.9124407461719469, 0.9207618592913412, 0.9237117620980118, 0.9278552671963988, 0.9260648637588241, 0.9245472837022133, 0.9242233059373188, 0.9220407188896088, 0.9208300651365822, 0.9210517341336153, 0.923149063874774, 0.9250588275415204, 0.9264229444463391, 0.9278552671963988, 0.9278552671963988, 0.9278552671963988, 0.9278552671963988, 0.9278552671963988, 0.9278552671963988, 0.9278552671963988, 0.9278552671963988, 0.9278552671963988, 0.9278552671963988, 0.9278552671963988]\n",
            "Training size...  31000\n",
            "--- 0.7450222969055176 seconds ---\n",
            "[0.7873171230774477, 0.8732735395423388, 0.8935477270402074, 0.8853630256112949, 0.8905296183882959, 0.9025167956893906, 0.9124407461719469, 0.9207618592913412, 0.9237117620980118, 0.9278552671963988, 0.9260648637588241, 0.9245472837022133, 0.9242233059373188, 0.9220407188896088, 0.9208300651365822, 0.9210517341336153, 0.923149063874774, 0.9250588275415204, 0.9264229444463391, 0.9278552671963988, 0.9278552671963988, 0.9278552671963988, 0.9278552671963988, 0.9278552671963988, 0.9278552671963988, 0.9278552671963988, 0.9278552671963988, 0.9278552671963988, 0.9278552671963988, 0.9278552671963988, 0.9278552671963988]\n",
            "Training size...  32000\n",
            "--- 0.7303175926208496 seconds ---\n",
            "[0.7873171230774477, 0.8732735395423388, 0.8935477270402074, 0.8853630256112949, 0.8905296183882959, 0.9025167956893906, 0.9124407461719469, 0.9207618592913412, 0.9237117620980118, 0.9278552671963988, 0.9260648637588241, 0.9245472837022133, 0.9242233059373188, 0.9220407188896088, 0.9208300651365822, 0.9210517341336153, 0.923149063874774, 0.9250588275415204, 0.9264229444463391, 0.9278552671963988, 0.9278552671963988, 0.9278552671963988, 0.9278552671963988, 0.9278552671963988, 0.9278552671963988, 0.9278552671963988, 0.9278552671963988, 0.9278552671963988, 0.9278552671963988, 0.9278552671963988, 0.9278552671963988, 0.9278552671963988]\n",
            "Training size...  33000\n",
            "--- 0.7391171455383301 seconds ---\n",
            "[0.7873171230774477, 0.8732735395423388, 0.8935477270402074, 0.8853630256112949, 0.8905296183882959, 0.9025167956893906, 0.9124407461719469, 0.9207618592913412, 0.9237117620980118, 0.9278552671963988, 0.9260648637588241, 0.9245472837022133, 0.9242233059373188, 0.9220407188896088, 0.9208300651365822, 0.9210517341336153, 0.923149063874774, 0.9250588275415204, 0.9264229444463391, 0.9278552671963988, 0.9278552671963988, 0.9278552671963988, 0.9278552671963988, 0.9278552671963988, 0.9278552671963988, 0.9278552671963988, 0.9278552671963988, 0.9278552671963988, 0.9278552671963988, 0.9278552671963988, 0.9278552671963988, 0.9278552671963988, 0.9278552671963988]\n",
            "Training size...  34000\n",
            "--- 0.7424192428588867 seconds ---\n",
            "[0.7873171230774477, 0.8732735395423388, 0.8935477270402074, 0.8853630256112949, 0.8905296183882959, 0.9025167956893906, 0.9124407461719469, 0.9207618592913412, 0.9237117620980118, 0.9278552671963988, 0.9260648637588241, 0.9245472837022133, 0.9242233059373188, 0.9220407188896088, 0.9208300651365822, 0.9210517341336153, 0.923149063874774, 0.9250588275415204, 0.9264229444463391, 0.9278552671963988, 0.9278552671963988, 0.9278552671963988, 0.9278552671963988, 0.9278552671963988, 0.9278552671963988, 0.9278552671963988, 0.9278552671963988, 0.9278552671963988, 0.9278552671963988, 0.9278552671963988, 0.9278552671963988, 0.9278552671963988, 0.9278552671963988, 0.9278552671963988]\n",
            "Training size...  35000\n",
            "--- 0.7580418586730957 seconds ---\n",
            "[0.7873171230774477, 0.8732735395423388, 0.8935477270402074, 0.8853630256112949, 0.8905296183882959, 0.9025167956893906, 0.9124407461719469, 0.9207618592913412, 0.9237117620980118, 0.9278552671963988, 0.9260648637588241, 0.9245472837022133, 0.9242233059373188, 0.9220407188896088, 0.9208300651365822, 0.9210517341336153, 0.923149063874774, 0.9250588275415204, 0.9264229444463391, 0.9278552671963988, 0.9278552671963988, 0.9278552671963988, 0.9278552671963988, 0.9278552671963988, 0.9278552671963988, 0.9278552671963988, 0.9278552671963988, 0.9278552671963988, 0.9278552671963988, 0.9278552671963988, 0.9278552671963988, 0.9278552671963988, 0.9278552671963988, 0.9278552671963988, 0.9278552671963988]\n",
            "Training size...  36000\n",
            "--- 0.7670879364013672 seconds ---\n",
            "[0.7873171230774477, 0.8732735395423388, 0.8935477270402074, 0.8853630256112949, 0.8905296183882959, 0.9025167956893906, 0.9124407461719469, 0.9207618592913412, 0.9237117620980118, 0.9278552671963988, 0.9260648637588241, 0.9245472837022133, 0.9242233059373188, 0.9220407188896088, 0.9208300651365822, 0.9210517341336153, 0.923149063874774, 0.9250588275415204, 0.9264229444463391, 0.9278552671963988, 0.9278552671963988, 0.9278552671963988, 0.9278552671963988, 0.9278552671963988, 0.9278552671963988, 0.9278552671963988, 0.9278552671963988, 0.9278552671963988, 0.9278552671963988, 0.9278552671963988, 0.9278552671963988, 0.9278552671963988, 0.9278552671963988, 0.9278552671963988, 0.9278552671963988, 0.9278552671963988]\n",
            "Training size...  37000\n",
            "--- 0.7265317440032959 seconds ---\n",
            "[0.7873171230774477, 0.8732735395423388, 0.8935477270402074, 0.8853630256112949, 0.8905296183882959, 0.9025167956893906, 0.9124407461719469, 0.9207618592913412, 0.9237117620980118, 0.9278552671963988, 0.9260648637588241, 0.9245472837022133, 0.9242233059373188, 0.9220407188896088, 0.9208300651365822, 0.9210517341336153, 0.923149063874774, 0.9250588275415204, 0.9264229444463391, 0.9278552671963988, 0.9278552671963988, 0.9278552671963988, 0.9278552671963988, 0.9278552671963988, 0.9278552671963988, 0.9278552671963988, 0.9278552671963988, 0.9278552671963988, 0.9278552671963988, 0.9278552671963988, 0.9278552671963988, 0.9278552671963988, 0.9278552671963988, 0.9278552671963988, 0.9278552671963988, 0.9278552671963988, 0.9278552671963988]\n",
            "Training size...  38000\n",
            "--- 0.7253503799438477 seconds ---\n",
            "[0.7873171230774477, 0.8732735395423388, 0.8935477270402074, 0.8853630256112949, 0.8905296183882959, 0.9025167956893906, 0.9124407461719469, 0.9207618592913412, 0.9237117620980118, 0.9278552671963988, 0.9260648637588241, 0.9245472837022133, 0.9242233059373188, 0.9220407188896088, 0.9208300651365822, 0.9210517341336153, 0.923149063874774, 0.9250588275415204, 0.9264229444463391, 0.9278552671963988, 0.9278552671963988, 0.9278552671963988, 0.9278552671963988, 0.9278552671963988, 0.9278552671963988, 0.9278552671963988, 0.9278552671963988, 0.9278552671963988, 0.9278552671963988, 0.9278552671963988, 0.9278552671963988, 0.9278552671963988, 0.9278552671963988, 0.9278552671963988, 0.9278552671963988, 0.9278552671963988, 0.9278552671963988, 0.9278552671963988]\n",
            "Training size...  39000\n",
            "--- 0.759758472442627 seconds ---\n",
            "[0.7873171230774477, 0.8732735395423388, 0.8935477270402074, 0.8853630256112949, 0.8905296183882959, 0.9025167956893906, 0.9124407461719469, 0.9207618592913412, 0.9237117620980118, 0.9278552671963988, 0.9260648637588241, 0.9245472837022133, 0.9242233059373188, 0.9220407188896088, 0.9208300651365822, 0.9210517341336153, 0.923149063874774, 0.9250588275415204, 0.9264229444463391, 0.9278552671963988, 0.9278552671963988, 0.9278552671963988, 0.9278552671963988, 0.9278552671963988, 0.9278552671963988, 0.9278552671963988, 0.9278552671963988, 0.9278552671963988, 0.9278552671963988, 0.9278552671963988, 0.9278552671963988, 0.9278552671963988, 0.9278552671963988, 0.9278552671963988, 0.9278552671963988, 0.9278552671963988, 0.9278552671963988, 0.9278552671963988, 0.9278552671963988]\n",
            "Training size...  40000\n",
            "--- 0.740570068359375 seconds ---\n",
            "[0.7873171230774477, 0.8732735395423388, 0.8935477270402074, 0.8853630256112949, 0.8905296183882959, 0.9025167956893906, 0.9124407461719469, 0.9207618592913412, 0.9237117620980118, 0.9278552671963988, 0.9260648637588241, 0.9245472837022133, 0.9242233059373188, 0.9220407188896088, 0.9208300651365822, 0.9210517341336153, 0.923149063874774, 0.9250588275415204, 0.9264229444463391, 0.9278552671963988, 0.9278552671963988, 0.9278552671963988, 0.9278552671963988, 0.9278552671963988, 0.9278552671963988, 0.9278552671963988, 0.9278552671963988, 0.9278552671963988, 0.9278552671963988, 0.9278552671963988, 0.9278552671963988, 0.9278552671963988, 0.9278552671963988, 0.9278552671963988, 0.9278552671963988, 0.9278552671963988, 0.9278552671963988, 0.9278552671963988, 0.9278552671963988, 0.9278552671963988]\n",
            "Training size...  41000\n",
            "--- 0.7336723804473877 seconds ---\n",
            "[0.7873171230774477, 0.8732735395423388, 0.8935477270402074, 0.8853630256112949, 0.8905296183882959, 0.9025167956893906, 0.9124407461719469, 0.9207618592913412, 0.9237117620980118, 0.9278552671963988, 0.9260648637588241, 0.9245472837022133, 0.9242233059373188, 0.9220407188896088, 0.9208300651365822, 0.9210517341336153, 0.923149063874774, 0.9250588275415204, 0.9264229444463391, 0.9278552671963988, 0.9278552671963988, 0.9278552671963988, 0.9278552671963988, 0.9278552671963988, 0.9278552671963988, 0.9278552671963988, 0.9278552671963988, 0.9278552671963988, 0.9278552671963988, 0.9278552671963988, 0.9278552671963988, 0.9278552671963988, 0.9278552671963988, 0.9278552671963988, 0.9278552671963988, 0.9278552671963988, 0.9278552671963988, 0.9278552671963988, 0.9278552671963988, 0.9278552671963988, 0.9278552671963988]\n",
            "Training size...  42000\n",
            "--- 0.7454688549041748 seconds ---\n",
            "[0.7873171230774477, 0.8732735395423388, 0.8935477270402074, 0.8853630256112949, 0.8905296183882959, 0.9025167956893906, 0.9124407461719469, 0.9207618592913412, 0.9237117620980118, 0.9278552671963988, 0.9260648637588241, 0.9245472837022133, 0.9242233059373188, 0.9220407188896088, 0.9208300651365822, 0.9210517341336153, 0.923149063874774, 0.9250588275415204, 0.9264229444463391, 0.9278552671963988, 0.9278552671963988, 0.9278552671963988, 0.9278552671963988, 0.9278552671963988, 0.9278552671963988, 0.9278552671963988, 0.9278552671963988, 0.9278552671963988, 0.9278552671963988, 0.9278552671963988, 0.9278552671963988, 0.9278552671963988, 0.9278552671963988, 0.9278552671963988, 0.9278552671963988, 0.9278552671963988, 0.9278552671963988, 0.9278552671963988, 0.9278552671963988, 0.9278552671963988, 0.9278552671963988, 0.9278552671963988]\n",
            "Training size...  43000\n",
            "--- 0.7286169528961182 seconds ---\n",
            "[0.7873171230774477, 0.8732735395423388, 0.8935477270402074, 0.8853630256112949, 0.8905296183882959, 0.9025167956893906, 0.9124407461719469, 0.9207618592913412, 0.9237117620980118, 0.9278552671963988, 0.9260648637588241, 0.9245472837022133, 0.9242233059373188, 0.9220407188896088, 0.9208300651365822, 0.9210517341336153, 0.923149063874774, 0.9250588275415204, 0.9264229444463391, 0.9278552671963988, 0.9278552671963988, 0.9278552671963988, 0.9278552671963988, 0.9278552671963988, 0.9278552671963988, 0.9278552671963988, 0.9278552671963988, 0.9278552671963988, 0.9278552671963988, 0.9278552671963988, 0.9278552671963988, 0.9278552671963988, 0.9278552671963988, 0.9278552671963988, 0.9278552671963988, 0.9278552671963988, 0.9278552671963988, 0.9278552671963988, 0.9278552671963988, 0.9278552671963988, 0.9278552671963988, 0.9278552671963988, 0.9278552671963988]\n",
            "Training size...  44000\n",
            "--- 0.7297153472900391 seconds ---\n",
            "[0.7873171230774477, 0.8732735395423388, 0.8935477270402074, 0.8853630256112949, 0.8905296183882959, 0.9025167956893906, 0.9124407461719469, 0.9207618592913412, 0.9237117620980118, 0.9278552671963988, 0.9260648637588241, 0.9245472837022133, 0.9242233059373188, 0.9220407188896088, 0.9208300651365822, 0.9210517341336153, 0.923149063874774, 0.9250588275415204, 0.9264229444463391, 0.9278552671963988, 0.9278552671963988, 0.9278552671963988, 0.9278552671963988, 0.9278552671963988, 0.9278552671963988, 0.9278552671963988, 0.9278552671963988, 0.9278552671963988, 0.9278552671963988, 0.9278552671963988, 0.9278552671963988, 0.9278552671963988, 0.9278552671963988, 0.9278552671963988, 0.9278552671963988, 0.9278552671963988, 0.9278552671963988, 0.9278552671963988, 0.9278552671963988, 0.9278552671963988, 0.9278552671963988, 0.9278552671963988, 0.9278552671963988, 0.9278552671963988]\n",
            "Training size...  45000\n",
            "--- 0.7387962341308594 seconds ---\n",
            "[0.7873171230774477, 0.8732735395423388, 0.8935477270402074, 0.8853630256112949, 0.8905296183882959, 0.9025167956893906, 0.9124407461719469, 0.9207618592913412, 0.9237117620980118, 0.9278552671963988, 0.9260648637588241, 0.9245472837022133, 0.9242233059373188, 0.9220407188896088, 0.9208300651365822, 0.9210517341336153, 0.923149063874774, 0.9250588275415204, 0.9264229444463391, 0.9278552671963988, 0.9278552671963988, 0.9278552671963988, 0.9278552671963988, 0.9278552671963988, 0.9278552671963988, 0.9278552671963988, 0.9278552671963988, 0.9278552671963988, 0.9278552671963988, 0.9278552671963988, 0.9278552671963988, 0.9278552671963988, 0.9278552671963988, 0.9278552671963988, 0.9278552671963988, 0.9278552671963988, 0.9278552671963988, 0.9278552671963988, 0.9278552671963988, 0.9278552671963988, 0.9278552671963988, 0.9278552671963988, 0.9278552671963988, 0.9278552671963988, 0.9278552671963988]\n",
            "Training size...  46000\n",
            "--- 0.767176628112793 seconds ---\n",
            "[0.7873171230774477, 0.8732735395423388, 0.8935477270402074, 0.8853630256112949, 0.8905296183882959, 0.9025167956893906, 0.9124407461719469, 0.9207618592913412, 0.9237117620980118, 0.9278552671963988, 0.9260648637588241, 0.9245472837022133, 0.9242233059373188, 0.9220407188896088, 0.9208300651365822, 0.9210517341336153, 0.923149063874774, 0.9250588275415204, 0.9264229444463391, 0.9278552671963988, 0.9278552671963988, 0.9278552671963988, 0.9278552671963988, 0.9278552671963988, 0.9278552671963988, 0.9278552671963988, 0.9278552671963988, 0.9278552671963988, 0.9278552671963988, 0.9278552671963988, 0.9278552671963988, 0.9278552671963988, 0.9278552671963988, 0.9278552671963988, 0.9278552671963988, 0.9278552671963988, 0.9278552671963988, 0.9278552671963988, 0.9278552671963988, 0.9278552671963988, 0.9278552671963988, 0.9278552671963988, 0.9278552671963988, 0.9278552671963988, 0.9278552671963988, 0.9278552671963988]\n",
            "Training size...  47000\n",
            "--- 0.7197418212890625 seconds ---\n",
            "[0.7873171230774477, 0.8732735395423388, 0.8935477270402074, 0.8853630256112949, 0.8905296183882959, 0.9025167956893906, 0.9124407461719469, 0.9207618592913412, 0.9237117620980118, 0.9278552671963988, 0.9260648637588241, 0.9245472837022133, 0.9242233059373188, 0.9220407188896088, 0.9208300651365822, 0.9210517341336153, 0.923149063874774, 0.9250588275415204, 0.9264229444463391, 0.9278552671963988, 0.9278552671963988, 0.9278552671963988, 0.9278552671963988, 0.9278552671963988, 0.9278552671963988, 0.9278552671963988, 0.9278552671963988, 0.9278552671963988, 0.9278552671963988, 0.9278552671963988, 0.9278552671963988, 0.9278552671963988, 0.9278552671963988, 0.9278552671963988, 0.9278552671963988, 0.9278552671963988, 0.9278552671963988, 0.9278552671963988, 0.9278552671963988, 0.9278552671963988, 0.9278552671963988, 0.9278552671963988, 0.9278552671963988, 0.9278552671963988, 0.9278552671963988, 0.9278552671963988, 0.9278552671963988]\n",
            "Training size...  48000\n",
            "--- 0.7434632778167725 seconds ---\n",
            "[0.7873171230774477, 0.8732735395423388, 0.8935477270402074, 0.8853630256112949, 0.8905296183882959, 0.9025167956893906, 0.9124407461719469, 0.9207618592913412, 0.9237117620980118, 0.9278552671963988, 0.9260648637588241, 0.9245472837022133, 0.9242233059373188, 0.9220407188896088, 0.9208300651365822, 0.9210517341336153, 0.923149063874774, 0.9250588275415204, 0.9264229444463391, 0.9278552671963988, 0.9278552671963988, 0.9278552671963988, 0.9278552671963988, 0.9278552671963988, 0.9278552671963988, 0.9278552671963988, 0.9278552671963988, 0.9278552671963988, 0.9278552671963988, 0.9278552671963988, 0.9278552671963988, 0.9278552671963988, 0.9278552671963988, 0.9278552671963988, 0.9278552671963988, 0.9278552671963988, 0.9278552671963988, 0.9278552671963988, 0.9278552671963988, 0.9278552671963988, 0.9278552671963988, 0.9278552671963988, 0.9278552671963988, 0.9278552671963988, 0.9278552671963988, 0.9278552671963988, 0.9278552671963988, 0.9278552671963988]\n",
            "Training size...  49000\n",
            "--- 0.7406883239746094 seconds ---\n",
            "[0.7873171230774477, 0.8732735395423388, 0.8935477270402074, 0.8853630256112949, 0.8905296183882959, 0.9025167956893906, 0.9124407461719469, 0.9207618592913412, 0.9237117620980118, 0.9278552671963988, 0.9260648637588241, 0.9245472837022133, 0.9242233059373188, 0.9220407188896088, 0.9208300651365822, 0.9210517341336153, 0.923149063874774, 0.9250588275415204, 0.9264229444463391, 0.9278552671963988, 0.9278552671963988, 0.9278552671963988, 0.9278552671963988, 0.9278552671963988, 0.9278552671963988, 0.9278552671963988, 0.9278552671963988, 0.9278552671963988, 0.9278552671963988, 0.9278552671963988, 0.9278552671963988, 0.9278552671963988, 0.9278552671963988, 0.9278552671963988, 0.9278552671963988, 0.9278552671963988, 0.9278552671963988, 0.9278552671963988, 0.9278552671963988, 0.9278552671963988, 0.9278552671963988, 0.9278552671963988, 0.9278552671963988, 0.9278552671963988, 0.9278552671963988, 0.9278552671963988, 0.9278552671963988, 0.9278552671963988, 0.9278552671963988]\n",
            "Training size...  50000\n",
            "--- 0.7577483654022217 seconds ---\n",
            "[0.7873171230774477, 0.8732735395423388, 0.8935477270402074, 0.8853630256112949, 0.8905296183882959, 0.9025167956893906, 0.9124407461719469, 0.9207618592913412, 0.9237117620980118, 0.9278552671963988, 0.9260648637588241, 0.9245472837022133, 0.9242233059373188, 0.9220407188896088, 0.9208300651365822, 0.9210517341336153, 0.923149063874774, 0.9250588275415204, 0.9264229444463391, 0.9278552671963988, 0.9278552671963988, 0.9278552671963988, 0.9278552671963988, 0.9278552671963988, 0.9278552671963988, 0.9278552671963988, 0.9278552671963988, 0.9278552671963988, 0.9278552671963988, 0.9278552671963988, 0.9278552671963988, 0.9278552671963988, 0.9278552671963988, 0.9278552671963988, 0.9278552671963988, 0.9278552671963988, 0.9278552671963988, 0.9278552671963988, 0.9278552671963988, 0.9278552671963988, 0.9278552671963988, 0.9278552671963988, 0.9278552671963988, 0.9278552671963988, 0.9278552671963988, 0.9278552671963988, 0.9278552671963988, 0.9278552671963988, 0.9278552671963988, 0.9278552671963988]\n",
            "Training size...  51000\n",
            "--- 0.7267084121704102 seconds ---\n",
            "[0.7873171230774477, 0.8732735395423388, 0.8935477270402074, 0.8853630256112949, 0.8905296183882959, 0.9025167956893906, 0.9124407461719469, 0.9207618592913412, 0.9237117620980118, 0.9278552671963988, 0.9260648637588241, 0.9245472837022133, 0.9242233059373188, 0.9220407188896088, 0.9208300651365822, 0.9210517341336153, 0.923149063874774, 0.9250588275415204, 0.9264229444463391, 0.9278552671963988, 0.9278552671963988, 0.9278552671963988, 0.9278552671963988, 0.9278552671963988, 0.9278552671963988, 0.9278552671963988, 0.9278552671963988, 0.9278552671963988, 0.9278552671963988, 0.9278552671963988, 0.9278552671963988, 0.9278552671963988, 0.9278552671963988, 0.9278552671963988, 0.9278552671963988, 0.9278552671963988, 0.9278552671963988, 0.9278552671963988, 0.9278552671963988, 0.9278552671963988, 0.9278552671963988, 0.9278552671963988, 0.9278552671963988, 0.9278552671963988, 0.9278552671963988, 0.9278552671963988, 0.9278552671963988, 0.9278552671963988, 0.9278552671963988, 0.9278552671963988, 0.9278552671963988]\n",
            "Training size...  52000\n",
            "--- 0.7442827224731445 seconds ---\n",
            "[0.7873171230774477, 0.8732735395423388, 0.8935477270402074, 0.8853630256112949, 0.8905296183882959, 0.9025167956893906, 0.9124407461719469, 0.9207618592913412, 0.9237117620980118, 0.9278552671963988, 0.9260648637588241, 0.9245472837022133, 0.9242233059373188, 0.9220407188896088, 0.9208300651365822, 0.9210517341336153, 0.923149063874774, 0.9250588275415204, 0.9264229444463391, 0.9278552671963988, 0.9278552671963988, 0.9278552671963988, 0.9278552671963988, 0.9278552671963988, 0.9278552671963988, 0.9278552671963988, 0.9278552671963988, 0.9278552671963988, 0.9278552671963988, 0.9278552671963988, 0.9278552671963988, 0.9278552671963988, 0.9278552671963988, 0.9278552671963988, 0.9278552671963988, 0.9278552671963988, 0.9278552671963988, 0.9278552671963988, 0.9278552671963988, 0.9278552671963988, 0.9278552671963988, 0.9278552671963988, 0.9278552671963988, 0.9278552671963988, 0.9278552671963988, 0.9278552671963988, 0.9278552671963988, 0.9278552671963988, 0.9278552671963988, 0.9278552671963988, 0.9278552671963988, 0.9278552671963988]\n",
            "Training size...  53000\n",
            "--- 0.7388365268707275 seconds ---\n",
            "[0.7873171230774477, 0.8732735395423388, 0.8935477270402074, 0.8853630256112949, 0.8905296183882959, 0.9025167956893906, 0.9124407461719469, 0.9207618592913412, 0.9237117620980118, 0.9278552671963988, 0.9260648637588241, 0.9245472837022133, 0.9242233059373188, 0.9220407188896088, 0.9208300651365822, 0.9210517341336153, 0.923149063874774, 0.9250588275415204, 0.9264229444463391, 0.9278552671963988, 0.9278552671963988, 0.9278552671963988, 0.9278552671963988, 0.9278552671963988, 0.9278552671963988, 0.9278552671963988, 0.9278552671963988, 0.9278552671963988, 0.9278552671963988, 0.9278552671963988, 0.9278552671963988, 0.9278552671963988, 0.9278552671963988, 0.9278552671963988, 0.9278552671963988, 0.9278552671963988, 0.9278552671963988, 0.9278552671963988, 0.9278552671963988, 0.9278552671963988, 0.9278552671963988, 0.9278552671963988, 0.9278552671963988, 0.9278552671963988, 0.9278552671963988, 0.9278552671963988, 0.9278552671963988, 0.9278552671963988, 0.9278552671963988, 0.9278552671963988, 0.9278552671963988, 0.9278552671963988, 0.9278552671963988]\n",
            "Training size...  54000\n",
            "--- 0.7458031177520752 seconds ---\n",
            "[0.7873171230774477, 0.8732735395423388, 0.8935477270402074, 0.8853630256112949, 0.8905296183882959, 0.9025167956893906, 0.9124407461719469, 0.9207618592913412, 0.9237117620980118, 0.9278552671963988, 0.9260648637588241, 0.9245472837022133, 0.9242233059373188, 0.9220407188896088, 0.9208300651365822, 0.9210517341336153, 0.923149063874774, 0.9250588275415204, 0.9264229444463391, 0.9278552671963988, 0.9278552671963988, 0.9278552671963988, 0.9278552671963988, 0.9278552671963988, 0.9278552671963988, 0.9278552671963988, 0.9278552671963988, 0.9278552671963988, 0.9278552671963988, 0.9278552671963988, 0.9278552671963988, 0.9278552671963988, 0.9278552671963988, 0.9278552671963988, 0.9278552671963988, 0.9278552671963988, 0.9278552671963988, 0.9278552671963988, 0.9278552671963988, 0.9278552671963988, 0.9278552671963988, 0.9278552671963988, 0.9278552671963988, 0.9278552671963988, 0.9278552671963988, 0.9278552671963988, 0.9278552671963988, 0.9278552671963988, 0.9278552671963988, 0.9278552671963988, 0.9278552671963988, 0.9278552671963988, 0.9278552671963988, 0.9278552671963988]\n",
            "Training size...  55000\n",
            "--- 0.7226564884185791 seconds ---\n",
            "[0.7873171230774477, 0.8732735395423388, 0.8935477270402074, 0.8853630256112949, 0.8905296183882959, 0.9025167956893906, 0.9124407461719469, 0.9207618592913412, 0.9237117620980118, 0.9278552671963988, 0.9260648637588241, 0.9245472837022133, 0.9242233059373188, 0.9220407188896088, 0.9208300651365822, 0.9210517341336153, 0.923149063874774, 0.9250588275415204, 0.9264229444463391, 0.9278552671963988, 0.9278552671963988, 0.9278552671963988, 0.9278552671963988, 0.9278552671963988, 0.9278552671963988, 0.9278552671963988, 0.9278552671963988, 0.9278552671963988, 0.9278552671963988, 0.9278552671963988, 0.9278552671963988, 0.9278552671963988, 0.9278552671963988, 0.9278552671963988, 0.9278552671963988, 0.9278552671963988, 0.9278552671963988, 0.9278552671963988, 0.9278552671963988, 0.9278552671963988, 0.9278552671963988, 0.9278552671963988, 0.9278552671963988, 0.9278552671963988, 0.9278552671963988, 0.9278552671963988, 0.9278552671963988, 0.9278552671963988, 0.9278552671963988, 0.9278552671963988, 0.9278552671963988, 0.9278552671963988, 0.9278552671963988, 0.9278552671963988, 0.9278552671963988]\n",
            "Training size...  56000\n",
            "--- 0.7383191585540771 seconds ---\n",
            "[0.7873171230774477, 0.8732735395423388, 0.8935477270402074, 0.8853630256112949, 0.8905296183882959, 0.9025167956893906, 0.9124407461719469, 0.9207618592913412, 0.9237117620980118, 0.9278552671963988, 0.9260648637588241, 0.9245472837022133, 0.9242233059373188, 0.9220407188896088, 0.9208300651365822, 0.9210517341336153, 0.923149063874774, 0.9250588275415204, 0.9264229444463391, 0.9278552671963988, 0.9278552671963988, 0.9278552671963988, 0.9278552671963988, 0.9278552671963988, 0.9278552671963988, 0.9278552671963988, 0.9278552671963988, 0.9278552671963988, 0.9278552671963988, 0.9278552671963988, 0.9278552671963988, 0.9278552671963988, 0.9278552671963988, 0.9278552671963988, 0.9278552671963988, 0.9278552671963988, 0.9278552671963988, 0.9278552671963988, 0.9278552671963988, 0.9278552671963988, 0.9278552671963988, 0.9278552671963988, 0.9278552671963988, 0.9278552671963988, 0.9278552671963988, 0.9278552671963988, 0.9278552671963988, 0.9278552671963988, 0.9278552671963988, 0.9278552671963988, 0.9278552671963988, 0.9278552671963988, 0.9278552671963988, 0.9278552671963988, 0.9278552671963988, 0.9278552671963988]\n",
            "Training size...  57000\n",
            "--- 0.7235288619995117 seconds ---\n",
            "[0.7873171230774477, 0.8732735395423388, 0.8935477270402074, 0.8853630256112949, 0.8905296183882959, 0.9025167956893906, 0.9124407461719469, 0.9207618592913412, 0.9237117620980118, 0.9278552671963988, 0.9260648637588241, 0.9245472837022133, 0.9242233059373188, 0.9220407188896088, 0.9208300651365822, 0.9210517341336153, 0.923149063874774, 0.9250588275415204, 0.9264229444463391, 0.9278552671963988, 0.9278552671963988, 0.9278552671963988, 0.9278552671963988, 0.9278552671963988, 0.9278552671963988, 0.9278552671963988, 0.9278552671963988, 0.9278552671963988, 0.9278552671963988, 0.9278552671963988, 0.9278552671963988, 0.9278552671963988, 0.9278552671963988, 0.9278552671963988, 0.9278552671963988, 0.9278552671963988, 0.9278552671963988, 0.9278552671963988, 0.9278552671963988, 0.9278552671963988, 0.9278552671963988, 0.9278552671963988, 0.9278552671963988, 0.9278552671963988, 0.9278552671963988, 0.9278552671963988, 0.9278552671963988, 0.9278552671963988, 0.9278552671963988, 0.9278552671963988, 0.9278552671963988, 0.9278552671963988, 0.9278552671963988, 0.9278552671963988, 0.9278552671963988, 0.9278552671963988, 0.9278552671963988]\n",
            "Training size...  58000\n",
            "--- 0.7619805335998535 seconds ---\n",
            "[0.7873171230774477, 0.8732735395423388, 0.8935477270402074, 0.8853630256112949, 0.8905296183882959, 0.9025167956893906, 0.9124407461719469, 0.9207618592913412, 0.9237117620980118, 0.9278552671963988, 0.9260648637588241, 0.9245472837022133, 0.9242233059373188, 0.9220407188896088, 0.9208300651365822, 0.9210517341336153, 0.923149063874774, 0.9250588275415204, 0.9264229444463391, 0.9278552671963988, 0.9278552671963988, 0.9278552671963988, 0.9278552671963988, 0.9278552671963988, 0.9278552671963988, 0.9278552671963988, 0.9278552671963988, 0.9278552671963988, 0.9278552671963988, 0.9278552671963988, 0.9278552671963988, 0.9278552671963988, 0.9278552671963988, 0.9278552671963988, 0.9278552671963988, 0.9278552671963988, 0.9278552671963988, 0.9278552671963988, 0.9278552671963988, 0.9278552671963988, 0.9278552671963988, 0.9278552671963988, 0.9278552671963988, 0.9278552671963988, 0.9278552671963988, 0.9278552671963988, 0.9278552671963988, 0.9278552671963988, 0.9278552671963988, 0.9278552671963988, 0.9278552671963988, 0.9278552671963988, 0.9278552671963988, 0.9278552671963988, 0.9278552671963988, 0.9278552671963988, 0.9278552671963988, 0.9278552671963988]\n"
          ],
          "name": "stdout"
        }
      ]
    },
    {
      "cell_type": "code",
      "metadata": {
        "colab": {
          "base_uri": "https://localhost:8080/"
        },
        "id": "CcjzSlcCa9dT",
        "outputId": "469e2c57-5ea1-4c6a-f053-25f6dbab7655"
      },
      "source": [
        "batchsize = 1000\n",
        "ini = 0\n",
        "end = batchsize\n",
        "\n",
        "historyPtron = []\n",
        "while(end <= 58646   ):\n",
        "  xt = X_train[0:end]\n",
        "  yt = y_train[0:end]\n",
        "  print (\"Training size... \", end)\t \n",
        "  start_time = time.time()  \n",
        "   \n",
        "  #clf = RandomForestClassifier()\n",
        "  #clfLR = linear_model.LogisticRegression() \n",
        "  #clfGNB = GaussianNB()\n",
        "  #clfLDA = LinearDiscriminantAnalysis()\n",
        "  clfPtron = Perceptron(max_iter=100)\n",
        "   \n",
        "  X_train_dense = xt.toarray()\n",
        "  clfPtron.fit(X_train_dense, yt)\n",
        "  X_test_dense = X_test.toarray()\n",
        "  y_pred = clfPtron.predict(X_test_dense) \n",
        "   \n",
        "  # mostra o resultado do classificador na base de teste\n",
        "  historyPtron.append(clfPtron.score(X_test_dense, y_test))\n",
        "   \n",
        "  print(\"--- %s seconds ---\" % (time.time() - start_time))\n",
        "  end = end + batchsize\n",
        "  print (historyPtron)"
      ],
      "execution_count": 35,
      "outputs": [
        {
          "output_type": "stream",
          "text": [
            "Training size...  1000\n",
            "--- 0.15410399436950684 seconds ---\n",
            "[0.7560788459570985]\n",
            "Training size...  2000\n",
            "--- 0.19620585441589355 seconds ---\n",
            "[0.7560788459570985, 0.8801623299116734]\n",
            "Training size...  3000\n",
            "--- 0.22508001327514648 seconds ---\n",
            "[0.7560788459570985, 0.8801623299116734, 0.8987654742011391]\n",
            "Training size...  4000\n",
            "--- 0.2513155937194824 seconds ---\n",
            "[0.7560788459570985, 0.8801623299116734, 0.8987654742011391, 0.8517545953688231]\n",
            "Training size...  5000\n",
            "--- 0.31339216232299805 seconds ---\n",
            "[0.7560788459570985, 0.8801623299116734, 0.8987654742011391, 0.8517545953688231, 0.8978787982130069]\n",
            "Training size...  6000\n",
            "--- 0.29437851905822754 seconds ---\n",
            "[0.7560788459570985, 0.8801623299116734, 0.8987654742011391, 0.8517545953688231, 0.8978787982130069, 0.8805204105991884]\n",
            "Training size...  7000\n",
            "--- 0.3370492458343506 seconds ---\n",
            "[0.7560788459570985, 0.8801623299116734, 0.8987654742011391, 0.8517545953688231, 0.8978787982130069, 0.8805204105991884, 0.9073594107014972]\n",
            "Training size...  8000\n",
            "--- 0.3724963665008545 seconds ---\n",
            "[0.7560788459570985, 0.8801623299116734, 0.8987654742011391, 0.8517545953688231, 0.8978787982130069, 0.8805204105991884, 0.9073594107014972, 0.890171537700781]\n",
            "Training size...  9000\n",
            "--- 0.4245033264160156 seconds ---\n",
            "[0.7560788459570985, 0.8801623299116734, 0.8987654742011391, 0.8517545953688231, 0.8978787982130069, 0.8805204105991884, 0.9073594107014972, 0.890171537700781, 0.9184940149370802]\n",
            "Training size...  10000\n",
            "--- 0.4171888828277588 seconds ---\n",
            "[0.7560788459570985, 0.8801623299116734, 0.8987654742011391, 0.8517545953688231, 0.8978787982130069, 0.8805204105991884, 0.9073594107014972, 0.890171537700781, 0.9184940149370802, 0.8603485318691811]\n",
            "Training size...  11000\n",
            "--- 0.4927089214324951 seconds ---\n",
            "[0.7560788459570985, 0.8801623299116734, 0.8987654742011391, 0.8517545953688231, 0.8978787982130069, 0.8805204105991884, 0.9073594107014972, 0.890171537700781, 0.9184940149370802, 0.8603485318691811, 0.9384442246700542]\n",
            "Training size...  12000\n",
            "--- 0.5277450084686279 seconds ---\n",
            "[0.7560788459570985, 0.8801623299116734, 0.8987654742011391, 0.8517545953688231, 0.8978787982130069, 0.8805204105991884, 0.9073594107014972, 0.890171537700781, 0.9184940149370802, 0.8603485318691811, 0.9384442246700542, 0.9051768236537872]\n",
            "Training size...  13000\n",
            "--- 0.5079290866851807 seconds ---\n",
            "[0.7560788459570985, 0.8801623299116734, 0.8987654742011391, 0.8517545953688231, 0.8978787982130069, 0.8805204105991884, 0.9073594107014972, 0.890171537700781, 0.9184940149370802, 0.8603485318691811, 0.9384442246700542, 0.9051768236537872, 0.9282474508065341]\n",
            "Training size...  14000\n",
            "--- 0.6155927181243896 seconds ---\n",
            "[0.7560788459570985, 0.8801623299116734, 0.8987654742011391, 0.8517545953688231, 0.8978787982130069, 0.8805204105991884, 0.9073594107014972, 0.890171537700781, 0.9184940149370802, 0.8603485318691811, 0.9384442246700542, 0.9051768236537872, 0.9282474508065341, 0.8981857245165911]\n",
            "Training size...  15000\n",
            "--- 0.730633020401001 seconds ---\n",
            "[0.7560788459570985, 0.8801623299116734, 0.8987654742011391, 0.8517545953688231, 0.8978787982130069, 0.8805204105991884, 0.9073594107014972, 0.890171537700781, 0.9184940149370802, 0.8603485318691811, 0.9384442246700542, 0.9051768236537872, 0.9282474508065341, 0.8981857245165911, 0.9120656140231218]\n",
            "Training size...  16000\n",
            "--- 0.7673122882843018 seconds ---\n",
            "[0.7560788459570985, 0.8801623299116734, 0.8987654742011391, 0.8517545953688231, 0.8978787982130069, 0.8805204105991884, 0.9073594107014972, 0.890171537700781, 0.9184940149370802, 0.8603485318691811, 0.9384442246700542, 0.9051768236537872, 0.9282474508065341, 0.8981857245165911, 0.9120656140231218, 0.906336323022883]\n",
            "Training size...  17000\n",
            "--- 0.7908051013946533 seconds ---\n",
            "[0.7560788459570985, 0.8801623299116734, 0.8987654742011391, 0.8517545953688231, 0.8978787982130069, 0.8805204105991884, 0.9073594107014972, 0.890171537700781, 0.9184940149370802, 0.8603485318691811, 0.9384442246700542, 0.9051768236537872, 0.9282474508065341, 0.8981857245165911, 0.9120656140231218, 0.906336323022883, 0.9353238072502813]\n",
            "Training size...  18000\n",
            "--- 0.8783607482910156 seconds ---\n",
            "[0.7560788459570985, 0.8801623299116734, 0.8987654742011391, 0.8517545953688231, 0.8978787982130069, 0.8805204105991884, 0.9073594107014972, 0.890171537700781, 0.9184940149370802, 0.8603485318691811, 0.9384442246700542, 0.9051768236537872, 0.9282474508065341, 0.8981857245165911, 0.9120656140231218, 0.906336323022883, 0.9353238072502813, 0.9339426388841524]\n",
            "Training size...  19000\n",
            "--- 0.8505384922027588 seconds ---\n",
            "[0.7560788459570985, 0.8801623299116734, 0.8987654742011391, 0.8517545953688231, 0.8978787982130069, 0.8805204105991884, 0.9073594107014972, 0.890171537700781, 0.9184940149370802, 0.8603485318691811, 0.9384442246700542, 0.9051768236537872, 0.9282474508065341, 0.8981857245165911, 0.9120656140231218, 0.906336323022883, 0.9353238072502813, 0.9339426388841524, 0.9223305937318829]\n",
            "Training size...  20000\n",
            "--- 0.9169490337371826 seconds ---\n",
            "[0.7560788459570985, 0.8801623299116734, 0.8987654742011391, 0.8517545953688231, 0.8978787982130069, 0.8805204105991884, 0.9073594107014972, 0.890171537700781, 0.9184940149370802, 0.8603485318691811, 0.9384442246700542, 0.9051768236537872, 0.9282474508065341, 0.8981857245165911, 0.9120656140231218, 0.906336323022883, 0.9353238072502813, 0.9339426388841524, 0.9223305937318829, 0.9269856426695768]\n",
            "Training size...  21000\n",
            "--- 0.9171454906463623 seconds ---\n",
            "[0.7560788459570985, 0.8801623299116734, 0.8987654742011391, 0.8517545953688231, 0.8978787982130069, 0.8805204105991884, 0.9073594107014972, 0.890171537700781, 0.9184940149370802, 0.8603485318691811, 0.9384442246700542, 0.9051768236537872, 0.9282474508065341, 0.8981857245165911, 0.9120656140231218, 0.906336323022883, 0.9353238072502813, 0.9339426388841524, 0.9223305937318829, 0.9269856426695768, 0.9269856426695768]\n",
            "Training size...  22000\n",
            "--- 0.8711147308349609 seconds ---\n",
            "[0.7560788459570985, 0.8801623299116734, 0.8987654742011391, 0.8517545953688231, 0.8978787982130069, 0.8805204105991884, 0.9073594107014972, 0.890171537700781, 0.9184940149370802, 0.8603485318691811, 0.9384442246700542, 0.9051768236537872, 0.9282474508065341, 0.8981857245165911, 0.9120656140231218, 0.906336323022883, 0.9353238072502813, 0.9339426388841524, 0.9223305937318829, 0.9269856426695768, 0.9269856426695768, 0.9269856426695768]\n",
            "Training size...  23000\n",
            "--- 0.8631589412689209 seconds ---\n",
            "[0.7560788459570985, 0.8801623299116734, 0.8987654742011391, 0.8517545953688231, 0.8978787982130069, 0.8805204105991884, 0.9073594107014972, 0.890171537700781, 0.9184940149370802, 0.8603485318691811, 0.9384442246700542, 0.9051768236537872, 0.9282474508065341, 0.8981857245165911, 0.9120656140231218, 0.906336323022883, 0.9353238072502813, 0.9339426388841524, 0.9223305937318829, 0.9269856426695768, 0.9269856426695768, 0.9269856426695768, 0.9269856426695768]\n",
            "Training size...  24000\n",
            "--- 0.8790862560272217 seconds ---\n",
            "[0.7560788459570985, 0.8801623299116734, 0.8987654742011391, 0.8517545953688231, 0.8978787982130069, 0.8805204105991884, 0.9073594107014972, 0.890171537700781, 0.9184940149370802, 0.8603485318691811, 0.9384442246700542, 0.9051768236537872, 0.9282474508065341, 0.8981857245165911, 0.9120656140231218, 0.906336323022883, 0.9353238072502813, 0.9339426388841524, 0.9223305937318829, 0.9269856426695768, 0.9269856426695768, 0.9269856426695768, 0.9269856426695768, 0.9269856426695768]\n",
            "Training size...  25000\n",
            "--- 0.8579459190368652 seconds ---\n",
            "[0.7560788459570985, 0.8801623299116734, 0.8987654742011391, 0.8517545953688231, 0.8978787982130069, 0.8805204105991884, 0.9073594107014972, 0.890171537700781, 0.9184940149370802, 0.8603485318691811, 0.9384442246700542, 0.9051768236537872, 0.9282474508065341, 0.8981857245165911, 0.9120656140231218, 0.906336323022883, 0.9353238072502813, 0.9339426388841524, 0.9223305937318829, 0.9269856426695768, 0.9269856426695768, 0.9269856426695768, 0.9269856426695768, 0.9269856426695768, 0.9269856426695768]\n",
            "Training size...  26000\n",
            "--- 0.8706929683685303 seconds ---\n",
            "[0.7560788459570985, 0.8801623299116734, 0.8987654742011391, 0.8517545953688231, 0.8978787982130069, 0.8805204105991884, 0.9073594107014972, 0.890171537700781, 0.9184940149370802, 0.8603485318691811, 0.9384442246700542, 0.9051768236537872, 0.9282474508065341, 0.8981857245165911, 0.9120656140231218, 0.906336323022883, 0.9353238072502813, 0.9339426388841524, 0.9223305937318829, 0.9269856426695768, 0.9269856426695768, 0.9269856426695768, 0.9269856426695768, 0.9269856426695768, 0.9269856426695768, 0.9269856426695768]\n",
            "Training size...  27000\n",
            "--- 0.8916707038879395 seconds ---\n",
            "[0.7560788459570985, 0.8801623299116734, 0.8987654742011391, 0.8517545953688231, 0.8978787982130069, 0.8805204105991884, 0.9073594107014972, 0.890171537700781, 0.9184940149370802, 0.8603485318691811, 0.9384442246700542, 0.9051768236537872, 0.9282474508065341, 0.8981857245165911, 0.9120656140231218, 0.906336323022883, 0.9353238072502813, 0.9339426388841524, 0.9223305937318829, 0.9269856426695768, 0.9269856426695768, 0.9269856426695768, 0.9269856426695768, 0.9269856426695768, 0.9269856426695768, 0.9269856426695768, 0.9269856426695768]\n",
            "Training size...  28000\n",
            "--- 0.8774640560150146 seconds ---\n",
            "[0.7560788459570985, 0.8801623299116734, 0.8987654742011391, 0.8517545953688231, 0.8978787982130069, 0.8805204105991884, 0.9073594107014972, 0.890171537700781, 0.9184940149370802, 0.8603485318691811, 0.9384442246700542, 0.9051768236537872, 0.9282474508065341, 0.8981857245165911, 0.9120656140231218, 0.906336323022883, 0.9353238072502813, 0.9339426388841524, 0.9223305937318829, 0.9269856426695768, 0.9269856426695768, 0.9269856426695768, 0.9269856426695768, 0.9269856426695768, 0.9269856426695768, 0.9269856426695768, 0.9269856426695768, 0.9269856426695768]\n",
            "Training size...  29000\n",
            "--- 0.8722569942474365 seconds ---\n",
            "[0.7560788459570985, 0.8801623299116734, 0.8987654742011391, 0.8517545953688231, 0.8978787982130069, 0.8805204105991884, 0.9073594107014972, 0.890171537700781, 0.9184940149370802, 0.8603485318691811, 0.9384442246700542, 0.9051768236537872, 0.9282474508065341, 0.8981857245165911, 0.9120656140231218, 0.906336323022883, 0.9353238072502813, 0.9339426388841524, 0.9223305937318829, 0.9269856426695768, 0.9269856426695768, 0.9269856426695768, 0.9269856426695768, 0.9269856426695768, 0.9269856426695768, 0.9269856426695768, 0.9269856426695768, 0.9269856426695768, 0.9269856426695768]\n",
            "Training size...  30000\n",
            "--- 0.8897206783294678 seconds ---\n",
            "[0.7560788459570985, 0.8801623299116734, 0.8987654742011391, 0.8517545953688231, 0.8978787982130069, 0.8805204105991884, 0.9073594107014972, 0.890171537700781, 0.9184940149370802, 0.8603485318691811, 0.9384442246700542, 0.9051768236537872, 0.9282474508065341, 0.8981857245165911, 0.9120656140231218, 0.906336323022883, 0.9353238072502813, 0.9339426388841524, 0.9223305937318829, 0.9269856426695768, 0.9269856426695768, 0.9269856426695768, 0.9269856426695768, 0.9269856426695768, 0.9269856426695768, 0.9269856426695768, 0.9269856426695768, 0.9269856426695768, 0.9269856426695768, 0.9269856426695768]\n",
            "Training size...  31000\n",
            "--- 0.8691866397857666 seconds ---\n",
            "[0.7560788459570985, 0.8801623299116734, 0.8987654742011391, 0.8517545953688231, 0.8978787982130069, 0.8805204105991884, 0.9073594107014972, 0.890171537700781, 0.9184940149370802, 0.8603485318691811, 0.9384442246700542, 0.9051768236537872, 0.9282474508065341, 0.8981857245165911, 0.9120656140231218, 0.906336323022883, 0.9353238072502813, 0.9339426388841524, 0.9223305937318829, 0.9269856426695768, 0.9269856426695768, 0.9269856426695768, 0.9269856426695768, 0.9269856426695768, 0.9269856426695768, 0.9269856426695768, 0.9269856426695768, 0.9269856426695768, 0.9269856426695768, 0.9269856426695768, 0.9269856426695768]\n",
            "Training size...  32000\n",
            "--- 0.8749308586120605 seconds ---\n",
            "[0.7560788459570985, 0.8801623299116734, 0.8987654742011391, 0.8517545953688231, 0.8978787982130069, 0.8805204105991884, 0.9073594107014972, 0.890171537700781, 0.9184940149370802, 0.8603485318691811, 0.9384442246700542, 0.9051768236537872, 0.9282474508065341, 0.8981857245165911, 0.9120656140231218, 0.906336323022883, 0.9353238072502813, 0.9339426388841524, 0.9223305937318829, 0.9269856426695768, 0.9269856426695768, 0.9269856426695768, 0.9269856426695768, 0.9269856426695768, 0.9269856426695768, 0.9269856426695768, 0.9269856426695768, 0.9269856426695768, 0.9269856426695768, 0.9269856426695768, 0.9269856426695768, 0.9269856426695768]\n",
            "Training size...  33000\n",
            "--- 0.8757872581481934 seconds ---\n",
            "[0.7560788459570985, 0.8801623299116734, 0.8987654742011391, 0.8517545953688231, 0.8978787982130069, 0.8805204105991884, 0.9073594107014972, 0.890171537700781, 0.9184940149370802, 0.8603485318691811, 0.9384442246700542, 0.9051768236537872, 0.9282474508065341, 0.8981857245165911, 0.9120656140231218, 0.906336323022883, 0.9353238072502813, 0.9339426388841524, 0.9223305937318829, 0.9269856426695768, 0.9269856426695768, 0.9269856426695768, 0.9269856426695768, 0.9269856426695768, 0.9269856426695768, 0.9269856426695768, 0.9269856426695768, 0.9269856426695768, 0.9269856426695768, 0.9269856426695768, 0.9269856426695768, 0.9269856426695768, 0.9269856426695768]\n",
            "Training size...  34000\n",
            "--- 0.9087200164794922 seconds ---\n",
            "[0.7560788459570985, 0.8801623299116734, 0.8987654742011391, 0.8517545953688231, 0.8978787982130069, 0.8805204105991884, 0.9073594107014972, 0.890171537700781, 0.9184940149370802, 0.8603485318691811, 0.9384442246700542, 0.9051768236537872, 0.9282474508065341, 0.8981857245165911, 0.9120656140231218, 0.906336323022883, 0.9353238072502813, 0.9339426388841524, 0.9223305937318829, 0.9269856426695768, 0.9269856426695768, 0.9269856426695768, 0.9269856426695768, 0.9269856426695768, 0.9269856426695768, 0.9269856426695768, 0.9269856426695768, 0.9269856426695768, 0.9269856426695768, 0.9269856426695768, 0.9269856426695768, 0.9269856426695768, 0.9269856426695768, 0.9269856426695768]\n",
            "Training size...  35000\n",
            "--- 0.9631519317626953 seconds ---\n",
            "[0.7560788459570985, 0.8801623299116734, 0.8987654742011391, 0.8517545953688231, 0.8978787982130069, 0.8805204105991884, 0.9073594107014972, 0.890171537700781, 0.9184940149370802, 0.8603485318691811, 0.9384442246700542, 0.9051768236537872, 0.9282474508065341, 0.8981857245165911, 0.9120656140231218, 0.906336323022883, 0.9353238072502813, 0.9339426388841524, 0.9223305937318829, 0.9269856426695768, 0.9269856426695768, 0.9269856426695768, 0.9269856426695768, 0.9269856426695768, 0.9269856426695768, 0.9269856426695768, 0.9269856426695768, 0.9269856426695768, 0.9269856426695768, 0.9269856426695768, 0.9269856426695768, 0.9269856426695768, 0.9269856426695768, 0.9269856426695768, 0.9269856426695768]\n",
            "Training size...  36000\n",
            "--- 0.9515237808227539 seconds ---\n",
            "[0.7560788459570985, 0.8801623299116734, 0.8987654742011391, 0.8517545953688231, 0.8978787982130069, 0.8805204105991884, 0.9073594107014972, 0.890171537700781, 0.9184940149370802, 0.8603485318691811, 0.9384442246700542, 0.9051768236537872, 0.9282474508065341, 0.8981857245165911, 0.9120656140231218, 0.906336323022883, 0.9353238072502813, 0.9339426388841524, 0.9223305937318829, 0.9269856426695768, 0.9269856426695768, 0.9269856426695768, 0.9269856426695768, 0.9269856426695768, 0.9269856426695768, 0.9269856426695768, 0.9269856426695768, 0.9269856426695768, 0.9269856426695768, 0.9269856426695768, 0.9269856426695768, 0.9269856426695768, 0.9269856426695768, 0.9269856426695768, 0.9269856426695768, 0.9269856426695768]\n",
            "Training size...  37000\n",
            "--- 0.9111928939819336 seconds ---\n",
            "[0.7560788459570985, 0.8801623299116734, 0.8987654742011391, 0.8517545953688231, 0.8978787982130069, 0.8805204105991884, 0.9073594107014972, 0.890171537700781, 0.9184940149370802, 0.8603485318691811, 0.9384442246700542, 0.9051768236537872, 0.9282474508065341, 0.8981857245165911, 0.9120656140231218, 0.906336323022883, 0.9353238072502813, 0.9339426388841524, 0.9223305937318829, 0.9269856426695768, 0.9269856426695768, 0.9269856426695768, 0.9269856426695768, 0.9269856426695768, 0.9269856426695768, 0.9269856426695768, 0.9269856426695768, 0.9269856426695768, 0.9269856426695768, 0.9269856426695768, 0.9269856426695768, 0.9269856426695768, 0.9269856426695768, 0.9269856426695768, 0.9269856426695768, 0.9269856426695768, 0.9269856426695768]\n",
            "Training size...  38000\n",
            "--- 0.8834600448608398 seconds ---\n",
            "[0.7560788459570985, 0.8801623299116734, 0.8987654742011391, 0.8517545953688231, 0.8978787982130069, 0.8805204105991884, 0.9073594107014972, 0.890171537700781, 0.9184940149370802, 0.8603485318691811, 0.9384442246700542, 0.9051768236537872, 0.9282474508065341, 0.8981857245165911, 0.9120656140231218, 0.906336323022883, 0.9353238072502813, 0.9339426388841524, 0.9223305937318829, 0.9269856426695768, 0.9269856426695768, 0.9269856426695768, 0.9269856426695768, 0.9269856426695768, 0.9269856426695768, 0.9269856426695768, 0.9269856426695768, 0.9269856426695768, 0.9269856426695768, 0.9269856426695768, 0.9269856426695768, 0.9269856426695768, 0.9269856426695768, 0.9269856426695768, 0.9269856426695768, 0.9269856426695768, 0.9269856426695768, 0.9269856426695768]\n",
            "Training size...  39000\n",
            "--- 0.8850963115692139 seconds ---\n",
            "[0.7560788459570985, 0.8801623299116734, 0.8987654742011391, 0.8517545953688231, 0.8978787982130069, 0.8805204105991884, 0.9073594107014972, 0.890171537700781, 0.9184940149370802, 0.8603485318691811, 0.9384442246700542, 0.9051768236537872, 0.9282474508065341, 0.8981857245165911, 0.9120656140231218, 0.906336323022883, 0.9353238072502813, 0.9339426388841524, 0.9223305937318829, 0.9269856426695768, 0.9269856426695768, 0.9269856426695768, 0.9269856426695768, 0.9269856426695768, 0.9269856426695768, 0.9269856426695768, 0.9269856426695768, 0.9269856426695768, 0.9269856426695768, 0.9269856426695768, 0.9269856426695768, 0.9269856426695768, 0.9269856426695768, 0.9269856426695768, 0.9269856426695768, 0.9269856426695768, 0.9269856426695768, 0.9269856426695768, 0.9269856426695768]\n",
            "Training size...  40000\n",
            "--- 0.895216703414917 seconds ---\n",
            "[0.7560788459570985, 0.8801623299116734, 0.8987654742011391, 0.8517545953688231, 0.8978787982130069, 0.8805204105991884, 0.9073594107014972, 0.890171537700781, 0.9184940149370802, 0.8603485318691811, 0.9384442246700542, 0.9051768236537872, 0.9282474508065341, 0.8981857245165911, 0.9120656140231218, 0.906336323022883, 0.9353238072502813, 0.9339426388841524, 0.9223305937318829, 0.9269856426695768, 0.9269856426695768, 0.9269856426695768, 0.9269856426695768, 0.9269856426695768, 0.9269856426695768, 0.9269856426695768, 0.9269856426695768, 0.9269856426695768, 0.9269856426695768, 0.9269856426695768, 0.9269856426695768, 0.9269856426695768, 0.9269856426695768, 0.9269856426695768, 0.9269856426695768, 0.9269856426695768, 0.9269856426695768, 0.9269856426695768, 0.9269856426695768, 0.9269856426695768]\n",
            "Training size...  41000\n",
            "--- 0.902040958404541 seconds ---\n",
            "[0.7560788459570985, 0.8801623299116734, 0.8987654742011391, 0.8517545953688231, 0.8978787982130069, 0.8805204105991884, 0.9073594107014972, 0.890171537700781, 0.9184940149370802, 0.8603485318691811, 0.9384442246700542, 0.9051768236537872, 0.9282474508065341, 0.8981857245165911, 0.9120656140231218, 0.906336323022883, 0.9353238072502813, 0.9339426388841524, 0.9223305937318829, 0.9269856426695768, 0.9269856426695768, 0.9269856426695768, 0.9269856426695768, 0.9269856426695768, 0.9269856426695768, 0.9269856426695768, 0.9269856426695768, 0.9269856426695768, 0.9269856426695768, 0.9269856426695768, 0.9269856426695768, 0.9269856426695768, 0.9269856426695768, 0.9269856426695768, 0.9269856426695768, 0.9269856426695768, 0.9269856426695768, 0.9269856426695768, 0.9269856426695768, 0.9269856426695768, 0.9269856426695768]\n",
            "Training size...  42000\n",
            "--- 0.8841016292572021 seconds ---\n",
            "[0.7560788459570985, 0.8801623299116734, 0.8987654742011391, 0.8517545953688231, 0.8978787982130069, 0.8805204105991884, 0.9073594107014972, 0.890171537700781, 0.9184940149370802, 0.8603485318691811, 0.9384442246700542, 0.9051768236537872, 0.9282474508065341, 0.8981857245165911, 0.9120656140231218, 0.906336323022883, 0.9353238072502813, 0.9339426388841524, 0.9223305937318829, 0.9269856426695768, 0.9269856426695768, 0.9269856426695768, 0.9269856426695768, 0.9269856426695768, 0.9269856426695768, 0.9269856426695768, 0.9269856426695768, 0.9269856426695768, 0.9269856426695768, 0.9269856426695768, 0.9269856426695768, 0.9269856426695768, 0.9269856426695768, 0.9269856426695768, 0.9269856426695768, 0.9269856426695768, 0.9269856426695768, 0.9269856426695768, 0.9269856426695768, 0.9269856426695768, 0.9269856426695768, 0.9269856426695768]\n",
            "Training size...  43000\n",
            "--- 0.9113619327545166 seconds ---\n",
            "[0.7560788459570985, 0.8801623299116734, 0.8987654742011391, 0.8517545953688231, 0.8978787982130069, 0.8805204105991884, 0.9073594107014972, 0.890171537700781, 0.9184940149370802, 0.8603485318691811, 0.9384442246700542, 0.9051768236537872, 0.9282474508065341, 0.8981857245165911, 0.9120656140231218, 0.906336323022883, 0.9353238072502813, 0.9339426388841524, 0.9223305937318829, 0.9269856426695768, 0.9269856426695768, 0.9269856426695768, 0.9269856426695768, 0.9269856426695768, 0.9269856426695768, 0.9269856426695768, 0.9269856426695768, 0.9269856426695768, 0.9269856426695768, 0.9269856426695768, 0.9269856426695768, 0.9269856426695768, 0.9269856426695768, 0.9269856426695768, 0.9269856426695768, 0.9269856426695768, 0.9269856426695768, 0.9269856426695768, 0.9269856426695768, 0.9269856426695768, 0.9269856426695768, 0.9269856426695768, 0.9269856426695768]\n",
            "Training size...  44000\n",
            "--- 0.888371467590332 seconds ---\n",
            "[0.7560788459570985, 0.8801623299116734, 0.8987654742011391, 0.8517545953688231, 0.8978787982130069, 0.8805204105991884, 0.9073594107014972, 0.890171537700781, 0.9184940149370802, 0.8603485318691811, 0.9384442246700542, 0.9051768236537872, 0.9282474508065341, 0.8981857245165911, 0.9120656140231218, 0.906336323022883, 0.9353238072502813, 0.9339426388841524, 0.9223305937318829, 0.9269856426695768, 0.9269856426695768, 0.9269856426695768, 0.9269856426695768, 0.9269856426695768, 0.9269856426695768, 0.9269856426695768, 0.9269856426695768, 0.9269856426695768, 0.9269856426695768, 0.9269856426695768, 0.9269856426695768, 0.9269856426695768, 0.9269856426695768, 0.9269856426695768, 0.9269856426695768, 0.9269856426695768, 0.9269856426695768, 0.9269856426695768, 0.9269856426695768, 0.9269856426695768, 0.9269856426695768, 0.9269856426695768, 0.9269856426695768, 0.9269856426695768]\n",
            "Training size...  45000\n",
            "--- 0.8784084320068359 seconds ---\n",
            "[0.7560788459570985, 0.8801623299116734, 0.8987654742011391, 0.8517545953688231, 0.8978787982130069, 0.8805204105991884, 0.9073594107014972, 0.890171537700781, 0.9184940149370802, 0.8603485318691811, 0.9384442246700542, 0.9051768236537872, 0.9282474508065341, 0.8981857245165911, 0.9120656140231218, 0.906336323022883, 0.9353238072502813, 0.9339426388841524, 0.9223305937318829, 0.9269856426695768, 0.9269856426695768, 0.9269856426695768, 0.9269856426695768, 0.9269856426695768, 0.9269856426695768, 0.9269856426695768, 0.9269856426695768, 0.9269856426695768, 0.9269856426695768, 0.9269856426695768, 0.9269856426695768, 0.9269856426695768, 0.9269856426695768, 0.9269856426695768, 0.9269856426695768, 0.9269856426695768, 0.9269856426695768, 0.9269856426695768, 0.9269856426695768, 0.9269856426695768, 0.9269856426695768, 0.9269856426695768, 0.9269856426695768, 0.9269856426695768, 0.9269856426695768]\n",
            "Training size...  46000\n",
            "--- 0.884035587310791 seconds ---\n",
            "[0.7560788459570985, 0.8801623299116734, 0.8987654742011391, 0.8517545953688231, 0.8978787982130069, 0.8805204105991884, 0.9073594107014972, 0.890171537700781, 0.9184940149370802, 0.8603485318691811, 0.9384442246700542, 0.9051768236537872, 0.9282474508065341, 0.8981857245165911, 0.9120656140231218, 0.906336323022883, 0.9353238072502813, 0.9339426388841524, 0.9223305937318829, 0.9269856426695768, 0.9269856426695768, 0.9269856426695768, 0.9269856426695768, 0.9269856426695768, 0.9269856426695768, 0.9269856426695768, 0.9269856426695768, 0.9269856426695768, 0.9269856426695768, 0.9269856426695768, 0.9269856426695768, 0.9269856426695768, 0.9269856426695768, 0.9269856426695768, 0.9269856426695768, 0.9269856426695768, 0.9269856426695768, 0.9269856426695768, 0.9269856426695768, 0.9269856426695768, 0.9269856426695768, 0.9269856426695768, 0.9269856426695768, 0.9269856426695768, 0.9269856426695768, 0.9269856426695768]\n",
            "Training size...  47000\n",
            "--- 0.8916027545928955 seconds ---\n",
            "[0.7560788459570985, 0.8801623299116734, 0.8987654742011391, 0.8517545953688231, 0.8978787982130069, 0.8805204105991884, 0.9073594107014972, 0.890171537700781, 0.9184940149370802, 0.8603485318691811, 0.9384442246700542, 0.9051768236537872, 0.9282474508065341, 0.8981857245165911, 0.9120656140231218, 0.906336323022883, 0.9353238072502813, 0.9339426388841524, 0.9223305937318829, 0.9269856426695768, 0.9269856426695768, 0.9269856426695768, 0.9269856426695768, 0.9269856426695768, 0.9269856426695768, 0.9269856426695768, 0.9269856426695768, 0.9269856426695768, 0.9269856426695768, 0.9269856426695768, 0.9269856426695768, 0.9269856426695768, 0.9269856426695768, 0.9269856426695768, 0.9269856426695768, 0.9269856426695768, 0.9269856426695768, 0.9269856426695768, 0.9269856426695768, 0.9269856426695768, 0.9269856426695768, 0.9269856426695768, 0.9269856426695768, 0.9269856426695768, 0.9269856426695768, 0.9269856426695768, 0.9269856426695768]\n",
            "Training size...  48000\n",
            "--- 0.8688867092132568 seconds ---\n",
            "[0.7560788459570985, 0.8801623299116734, 0.8987654742011391, 0.8517545953688231, 0.8978787982130069, 0.8805204105991884, 0.9073594107014972, 0.890171537700781, 0.9184940149370802, 0.8603485318691811, 0.9384442246700542, 0.9051768236537872, 0.9282474508065341, 0.8981857245165911, 0.9120656140231218, 0.906336323022883, 0.9353238072502813, 0.9339426388841524, 0.9223305937318829, 0.9269856426695768, 0.9269856426695768, 0.9269856426695768, 0.9269856426695768, 0.9269856426695768, 0.9269856426695768, 0.9269856426695768, 0.9269856426695768, 0.9269856426695768, 0.9269856426695768, 0.9269856426695768, 0.9269856426695768, 0.9269856426695768, 0.9269856426695768, 0.9269856426695768, 0.9269856426695768, 0.9269856426695768, 0.9269856426695768, 0.9269856426695768, 0.9269856426695768, 0.9269856426695768, 0.9269856426695768, 0.9269856426695768, 0.9269856426695768, 0.9269856426695768, 0.9269856426695768, 0.9269856426695768, 0.9269856426695768, 0.9269856426695768]\n",
            "Training size...  49000\n",
            "--- 0.9109926223754883 seconds ---\n",
            "[0.7560788459570985, 0.8801623299116734, 0.8987654742011391, 0.8517545953688231, 0.8978787982130069, 0.8805204105991884, 0.9073594107014972, 0.890171537700781, 0.9184940149370802, 0.8603485318691811, 0.9384442246700542, 0.9051768236537872, 0.9282474508065341, 0.8981857245165911, 0.9120656140231218, 0.906336323022883, 0.9353238072502813, 0.9339426388841524, 0.9223305937318829, 0.9269856426695768, 0.9269856426695768, 0.9269856426695768, 0.9269856426695768, 0.9269856426695768, 0.9269856426695768, 0.9269856426695768, 0.9269856426695768, 0.9269856426695768, 0.9269856426695768, 0.9269856426695768, 0.9269856426695768, 0.9269856426695768, 0.9269856426695768, 0.9269856426695768, 0.9269856426695768, 0.9269856426695768, 0.9269856426695768, 0.9269856426695768, 0.9269856426695768, 0.9269856426695768, 0.9269856426695768, 0.9269856426695768, 0.9269856426695768, 0.9269856426695768, 0.9269856426695768, 0.9269856426695768, 0.9269856426695768, 0.9269856426695768, 0.9269856426695768]\n",
            "Training size...  50000\n",
            "--- 0.8485240936279297 seconds ---\n",
            "[0.7560788459570985, 0.8801623299116734, 0.8987654742011391, 0.8517545953688231, 0.8978787982130069, 0.8805204105991884, 0.9073594107014972, 0.890171537700781, 0.9184940149370802, 0.8603485318691811, 0.9384442246700542, 0.9051768236537872, 0.9282474508065341, 0.8981857245165911, 0.9120656140231218, 0.906336323022883, 0.9353238072502813, 0.9339426388841524, 0.9223305937318829, 0.9269856426695768, 0.9269856426695768, 0.9269856426695768, 0.9269856426695768, 0.9269856426695768, 0.9269856426695768, 0.9269856426695768, 0.9269856426695768, 0.9269856426695768, 0.9269856426695768, 0.9269856426695768, 0.9269856426695768, 0.9269856426695768, 0.9269856426695768, 0.9269856426695768, 0.9269856426695768, 0.9269856426695768, 0.9269856426695768, 0.9269856426695768, 0.9269856426695768, 0.9269856426695768, 0.9269856426695768, 0.9269856426695768, 0.9269856426695768, 0.9269856426695768, 0.9269856426695768, 0.9269856426695768, 0.9269856426695768, 0.9269856426695768, 0.9269856426695768, 0.9269856426695768]\n",
            "Training size...  51000\n",
            "--- 0.8912620544433594 seconds ---\n",
            "[0.7560788459570985, 0.8801623299116734, 0.8987654742011391, 0.8517545953688231, 0.8978787982130069, 0.8805204105991884, 0.9073594107014972, 0.890171537700781, 0.9184940149370802, 0.8603485318691811, 0.9384442246700542, 0.9051768236537872, 0.9282474508065341, 0.8981857245165911, 0.9120656140231218, 0.906336323022883, 0.9353238072502813, 0.9339426388841524, 0.9223305937318829, 0.9269856426695768, 0.9269856426695768, 0.9269856426695768, 0.9269856426695768, 0.9269856426695768, 0.9269856426695768, 0.9269856426695768, 0.9269856426695768, 0.9269856426695768, 0.9269856426695768, 0.9269856426695768, 0.9269856426695768, 0.9269856426695768, 0.9269856426695768, 0.9269856426695768, 0.9269856426695768, 0.9269856426695768, 0.9269856426695768, 0.9269856426695768, 0.9269856426695768, 0.9269856426695768, 0.9269856426695768, 0.9269856426695768, 0.9269856426695768, 0.9269856426695768, 0.9269856426695768, 0.9269856426695768, 0.9269856426695768, 0.9269856426695768, 0.9269856426695768, 0.9269856426695768, 0.9269856426695768]\n",
            "Training size...  52000\n",
            "--- 0.865253210067749 seconds ---\n",
            "[0.7560788459570985, 0.8801623299116734, 0.8987654742011391, 0.8517545953688231, 0.8978787982130069, 0.8805204105991884, 0.9073594107014972, 0.890171537700781, 0.9184940149370802, 0.8603485318691811, 0.9384442246700542, 0.9051768236537872, 0.9282474508065341, 0.8981857245165911, 0.9120656140231218, 0.906336323022883, 0.9353238072502813, 0.9339426388841524, 0.9223305937318829, 0.9269856426695768, 0.9269856426695768, 0.9269856426695768, 0.9269856426695768, 0.9269856426695768, 0.9269856426695768, 0.9269856426695768, 0.9269856426695768, 0.9269856426695768, 0.9269856426695768, 0.9269856426695768, 0.9269856426695768, 0.9269856426695768, 0.9269856426695768, 0.9269856426695768, 0.9269856426695768, 0.9269856426695768, 0.9269856426695768, 0.9269856426695768, 0.9269856426695768, 0.9269856426695768, 0.9269856426695768, 0.9269856426695768, 0.9269856426695768, 0.9269856426695768, 0.9269856426695768, 0.9269856426695768, 0.9269856426695768, 0.9269856426695768, 0.9269856426695768, 0.9269856426695768, 0.9269856426695768, 0.9269856426695768]\n",
            "Training size...  53000\n",
            "--- 0.8698742389678955 seconds ---\n",
            "[0.7560788459570985, 0.8801623299116734, 0.8987654742011391, 0.8517545953688231, 0.8978787982130069, 0.8805204105991884, 0.9073594107014972, 0.890171537700781, 0.9184940149370802, 0.8603485318691811, 0.9384442246700542, 0.9051768236537872, 0.9282474508065341, 0.8981857245165911, 0.9120656140231218, 0.906336323022883, 0.9353238072502813, 0.9339426388841524, 0.9223305937318829, 0.9269856426695768, 0.9269856426695768, 0.9269856426695768, 0.9269856426695768, 0.9269856426695768, 0.9269856426695768, 0.9269856426695768, 0.9269856426695768, 0.9269856426695768, 0.9269856426695768, 0.9269856426695768, 0.9269856426695768, 0.9269856426695768, 0.9269856426695768, 0.9269856426695768, 0.9269856426695768, 0.9269856426695768, 0.9269856426695768, 0.9269856426695768, 0.9269856426695768, 0.9269856426695768, 0.9269856426695768, 0.9269856426695768, 0.9269856426695768, 0.9269856426695768, 0.9269856426695768, 0.9269856426695768, 0.9269856426695768, 0.9269856426695768, 0.9269856426695768, 0.9269856426695768, 0.9269856426695768, 0.9269856426695768, 0.9269856426695768]\n",
            "Training size...  54000\n",
            "--- 0.8801259994506836 seconds ---\n",
            "[0.7560788459570985, 0.8801623299116734, 0.8987654742011391, 0.8517545953688231, 0.8978787982130069, 0.8805204105991884, 0.9073594107014972, 0.890171537700781, 0.9184940149370802, 0.8603485318691811, 0.9384442246700542, 0.9051768236537872, 0.9282474508065341, 0.8981857245165911, 0.9120656140231218, 0.906336323022883, 0.9353238072502813, 0.9339426388841524, 0.9223305937318829, 0.9269856426695768, 0.9269856426695768, 0.9269856426695768, 0.9269856426695768, 0.9269856426695768, 0.9269856426695768, 0.9269856426695768, 0.9269856426695768, 0.9269856426695768, 0.9269856426695768, 0.9269856426695768, 0.9269856426695768, 0.9269856426695768, 0.9269856426695768, 0.9269856426695768, 0.9269856426695768, 0.9269856426695768, 0.9269856426695768, 0.9269856426695768, 0.9269856426695768, 0.9269856426695768, 0.9269856426695768, 0.9269856426695768, 0.9269856426695768, 0.9269856426695768, 0.9269856426695768, 0.9269856426695768, 0.9269856426695768, 0.9269856426695768, 0.9269856426695768, 0.9269856426695768, 0.9269856426695768, 0.9269856426695768, 0.9269856426695768, 0.9269856426695768]\n",
            "Training size...  55000\n",
            "--- 0.8960185050964355 seconds ---\n",
            "[0.7560788459570985, 0.8801623299116734, 0.8987654742011391, 0.8517545953688231, 0.8978787982130069, 0.8805204105991884, 0.9073594107014972, 0.890171537700781, 0.9184940149370802, 0.8603485318691811, 0.9384442246700542, 0.9051768236537872, 0.9282474508065341, 0.8981857245165911, 0.9120656140231218, 0.906336323022883, 0.9353238072502813, 0.9339426388841524, 0.9223305937318829, 0.9269856426695768, 0.9269856426695768, 0.9269856426695768, 0.9269856426695768, 0.9269856426695768, 0.9269856426695768, 0.9269856426695768, 0.9269856426695768, 0.9269856426695768, 0.9269856426695768, 0.9269856426695768, 0.9269856426695768, 0.9269856426695768, 0.9269856426695768, 0.9269856426695768, 0.9269856426695768, 0.9269856426695768, 0.9269856426695768, 0.9269856426695768, 0.9269856426695768, 0.9269856426695768, 0.9269856426695768, 0.9269856426695768, 0.9269856426695768, 0.9269856426695768, 0.9269856426695768, 0.9269856426695768, 0.9269856426695768, 0.9269856426695768, 0.9269856426695768, 0.9269856426695768, 0.9269856426695768, 0.9269856426695768, 0.9269856426695768, 0.9269856426695768, 0.9269856426695768]\n",
            "Training size...  56000\n",
            "--- 0.8758862018585205 seconds ---\n",
            "[0.7560788459570985, 0.8801623299116734, 0.8987654742011391, 0.8517545953688231, 0.8978787982130069, 0.8805204105991884, 0.9073594107014972, 0.890171537700781, 0.9184940149370802, 0.8603485318691811, 0.9384442246700542, 0.9051768236537872, 0.9282474508065341, 0.8981857245165911, 0.9120656140231218, 0.906336323022883, 0.9353238072502813, 0.9339426388841524, 0.9223305937318829, 0.9269856426695768, 0.9269856426695768, 0.9269856426695768, 0.9269856426695768, 0.9269856426695768, 0.9269856426695768, 0.9269856426695768, 0.9269856426695768, 0.9269856426695768, 0.9269856426695768, 0.9269856426695768, 0.9269856426695768, 0.9269856426695768, 0.9269856426695768, 0.9269856426695768, 0.9269856426695768, 0.9269856426695768, 0.9269856426695768, 0.9269856426695768, 0.9269856426695768, 0.9269856426695768, 0.9269856426695768, 0.9269856426695768, 0.9269856426695768, 0.9269856426695768, 0.9269856426695768, 0.9269856426695768, 0.9269856426695768, 0.9269856426695768, 0.9269856426695768, 0.9269856426695768, 0.9269856426695768, 0.9269856426695768, 0.9269856426695768, 0.9269856426695768, 0.9269856426695768, 0.9269856426695768]\n",
            "Training size...  57000\n",
            "--- 0.913311243057251 seconds ---\n",
            "[0.7560788459570985, 0.8801623299116734, 0.8987654742011391, 0.8517545953688231, 0.8978787982130069, 0.8805204105991884, 0.9073594107014972, 0.890171537700781, 0.9184940149370802, 0.8603485318691811, 0.9384442246700542, 0.9051768236537872, 0.9282474508065341, 0.8981857245165911, 0.9120656140231218, 0.906336323022883, 0.9353238072502813, 0.9339426388841524, 0.9223305937318829, 0.9269856426695768, 0.9269856426695768, 0.9269856426695768, 0.9269856426695768, 0.9269856426695768, 0.9269856426695768, 0.9269856426695768, 0.9269856426695768, 0.9269856426695768, 0.9269856426695768, 0.9269856426695768, 0.9269856426695768, 0.9269856426695768, 0.9269856426695768, 0.9269856426695768, 0.9269856426695768, 0.9269856426695768, 0.9269856426695768, 0.9269856426695768, 0.9269856426695768, 0.9269856426695768, 0.9269856426695768, 0.9269856426695768, 0.9269856426695768, 0.9269856426695768, 0.9269856426695768, 0.9269856426695768, 0.9269856426695768, 0.9269856426695768, 0.9269856426695768, 0.9269856426695768, 0.9269856426695768, 0.9269856426695768, 0.9269856426695768, 0.9269856426695768, 0.9269856426695768, 0.9269856426695768, 0.9269856426695768]\n",
            "Training size...  58000\n",
            "--- 0.867793083190918 seconds ---\n",
            "[0.7560788459570985, 0.8801623299116734, 0.8987654742011391, 0.8517545953688231, 0.8978787982130069, 0.8805204105991884, 0.9073594107014972, 0.890171537700781, 0.9184940149370802, 0.8603485318691811, 0.9384442246700542, 0.9051768236537872, 0.9282474508065341, 0.8981857245165911, 0.9120656140231218, 0.906336323022883, 0.9353238072502813, 0.9339426388841524, 0.9223305937318829, 0.9269856426695768, 0.9269856426695768, 0.9269856426695768, 0.9269856426695768, 0.9269856426695768, 0.9269856426695768, 0.9269856426695768, 0.9269856426695768, 0.9269856426695768, 0.9269856426695768, 0.9269856426695768, 0.9269856426695768, 0.9269856426695768, 0.9269856426695768, 0.9269856426695768, 0.9269856426695768, 0.9269856426695768, 0.9269856426695768, 0.9269856426695768, 0.9269856426695768, 0.9269856426695768, 0.9269856426695768, 0.9269856426695768, 0.9269856426695768, 0.9269856426695768, 0.9269856426695768, 0.9269856426695768, 0.9269856426695768, 0.9269856426695768, 0.9269856426695768, 0.9269856426695768, 0.9269856426695768, 0.9269856426695768, 0.9269856426695768, 0.9269856426695768, 0.9269856426695768, 0.9269856426695768, 0.9269856426695768, 0.9269856426695768]\n"
          ],
          "name": "stdout"
        }
      ]
    },
    {
      "cell_type": "code",
      "metadata": {
        "id": "BbIqGJVC6mnw",
        "colab": {
          "base_uri": "https://localhost:8080/"
        },
        "outputId": "b223b495-bbe9-40f5-cb0c-f242eb7e67f2"
      },
      "source": [
        "################# para o knn - aqui demora mesmo!\n",
        "batchsize = 1000\n",
        "ini = 0\n",
        "end = batchsize\n",
        "\n",
        "historyKNN = []\n",
        "while(end <= 58646   ):\n",
        "  xt = X_train[0:end]\n",
        "  yt = y_train[0:end]\n",
        "  print (\"Training size... \", end)\t \n",
        "  start_time = time.time()  \n",
        "   \n",
        "  clfKNN = KNeighborsClassifier(n_neighbors=3, metric='euclidean')\n",
        "   \n",
        "  X_train_dense = xt.toarray()\n",
        "  clfKNN.fit(X_train_dense, yt)\n",
        "  X_test_dense = X_test.toarray()\n",
        "  y_pred = clfKNN.predict(X_test_dense) \n",
        "   \n",
        "  # mostra o resultado do classificador na base de teste\n",
        "  historyKNN.append(clfKNN.score(X_test_dense, y_test))\n",
        "   \n",
        "  print(\"--- %s seconds ---\" % (time.time() - start_time))\n",
        "  end = end + batchsize\n",
        "  print (historyKNN)"
      ],
      "execution_count": null,
      "outputs": [
        {
          "output_type": "stream",
          "text": [
            "Training size...  1000\n",
            "--- 33.86019563674927 seconds ---\n",
            "[0.7917675544794189]\n",
            "Training size...  2000\n",
            "--- 56.7627899646759 seconds ---\n",
            "[0.7917675544794189, 0.8668451386283804]\n",
            "Training size...  3000\n",
            "--- 72.38989853858948 seconds ---\n",
            "[0.7917675544794189, 0.8668451386283804, 0.89010333185554]\n",
            "Training size...  4000\n",
            "--- 91.40826463699341 seconds ---\n",
            "[0.7917675544794189, 0.8668451386283804, 0.89010333185554, 0.8938376018824813]\n",
            "Training size...  5000\n",
            "--- 113.99436092376709 seconds ---\n",
            "[0.7917675544794189, 0.8668451386283804, 0.89010333185554, 0.8938376018824813, 0.897742386522525]\n",
            "Training size...  6000\n",
            "--- 132.4455804824829 seconds ---\n",
            "[0.7917675544794189, 0.8668451386283804, 0.89010333185554, 0.8938376018824813, 0.897742386522525, 0.920454932987757]\n",
            "Training size...  7000\n",
            "--- 143.1085181236267 seconds ---\n",
            "[0.7917675544794189, 0.8668451386283804, 0.89010333185554, 0.8938376018824813, 0.897742386522525, 0.920454932987757, 0.9269174368243358]\n",
            "Training size...  8000\n",
            "--- 160.33505272865295 seconds ---\n",
            "[0.7917675544794189, 0.8668451386283804, 0.89010333185554, 0.8938376018824813, 0.897742386522525, 0.920454932987757, 0.9269174368243358, 0.9308733758483102]\n",
            "Training size...  9000\n",
            "--- 170.13261556625366 seconds ---\n",
            "[0.7917675544794189, 0.8668451386283804, 0.89010333185554, 0.8938376018824813, 0.897742386522525, 0.920454932987757, 0.9269174368243358, 0.9308733758483102, 0.9345564914913208]\n",
            "Training size...  10000\n",
            "--- 192.56656527519226 seconds ---\n",
            "[0.7917675544794189, 0.8668451386283804, 0.89010333185554, 0.8938376018824813, 0.897742386522525, 0.920454932987757, 0.9269174368243358, 0.9308733758483102, 0.9345564914913208, 0.9382225556730212]\n",
            "Training size...  11000\n",
            "--- 195.29583048820496 seconds ---\n",
            "[0.7917675544794189, 0.8668451386283804, 0.89010333185554, 0.8938376018824813, 0.897742386522525, 0.920454932987757, 0.9269174368243358, 0.9308733758483102, 0.9345564914913208, 0.9382225556730212, 0.9380861439825393]\n",
            "Training size...  12000\n",
            "--- 210.92474222183228 seconds ---\n",
            "[0.7917675544794189, 0.8668451386283804, 0.89010333185554, 0.8938376018824813, 0.897742386522525, 0.920454932987757, 0.9269174368243358, 0.9308733758483102, 0.9345564914913208, 0.9382225556730212, 0.9380861439825393, 0.9386658936670873]\n",
            "Training size...  13000\n",
            "--- 233.8557801246643 seconds ---\n",
            "[0.7917675544794189, 0.8668451386283804, 0.89010333185554, 0.8938376018824813, 0.897742386522525, 0.920454932987757, 0.9269174368243358, 0.9308733758483102, 0.9345564914913208, 0.9382225556730212, 0.9380861439825393, 0.9386658936670873, 0.9386829451283975]\n",
            "Training size...  14000\n"
          ],
          "name": "stdout"
        }
      ]
    },
    {
      "cell_type": "code",
      "metadata": {
        "colab": {
          "base_uri": "https://localhost:8080/",
          "height": 312
        },
        "id": "O3yTadzBXvHa",
        "outputId": "6f1271a9-cd61-402e-ebea-c544d084a36c"
      },
      "source": [
        "################# graficos dos scores x base de treinamentos #############\n",
        "import matplotlib.pyplot as plt\n",
        "\n",
        "index=(1000,2000,3000,4000,5000,6000,7000,8000,9000,10000,11000,12000,13000,14000,15000,16000,17000,18000,19000,20000,\n",
        "       21000,22000,23000,24000,25000,26000,27000,28000,29000,30000,31000,32000,33000,34000,35000,36000,37000,38000,39000,40000,\n",
        "       41000,42000,43000,44000,45000,46000,47000,48000,49000,50000,51000,52000,53000,54000,55000,56000,57000,58000) #da base toda\n",
        "\n",
        "#index=(1000,2000,3000,4000,5000,6000,7000,8000,9000,10000,11000,12000,13000,14000,15000,16000,17000,18000,19000,20000) # da base 20k\n",
        "\n",
        "#index=(100,200,300,400,500,600,700,800,900,1000)  # da base <1mil\n",
        "\n",
        "plt.plot(index,historyKNN,label='KNN')\n",
        "plt.plot(index,historyLDA,label='Linear Discriminant Analysis')\n",
        "plt.plot(index,historyLR,label='Logistic Regression')\n",
        "plt.plot(index,historyGNB,label='Gaussian Naïve Bayes')\n",
        "plt.plot(index,historyPtron,label='Perceptron')\n",
        "plt.legend()\n",
        "plt.grid()\n",
        "plt.title(\"Score x Classificador\")  # título do gráfico\n",
        "plt.ylabel('Score')  # nome do eixo y\n",
        "plt.xlabel('Base de treinamento')  # nome do eixo x"
      ],
      "execution_count": 27,
      "outputs": [
        {
          "output_type": "execute_result",
          "data": {
            "text/plain": [
              "Text(0.5, 0, 'Base de treinamento')"
            ]
          },
          "metadata": {},
          "execution_count": 27
        },
        {
          "output_type": "display_data",
          "data": {
            "image/png": "[encoded data removed]",
            "text/plain": [
              "<Figure size 432x288 with 1 Axes>"
            ]
          },
          "metadata": {
            "needs_background": "light"
          }
        }
      ]
    },
    {
      "cell_type": "code",
      "metadata": {
        "colab": {
          "base_uri": "https://localhost:8080/",
          "height": 312
        },
        "id": "JO0PxUHizlBh",
        "outputId": "297e7658-2b54-437b-f584-250d272e6a97"
      },
      "source": [
        "################# graficos dos tempos x base de treinamentos #############\n",
        "############# coloquei os tempos na mão - enquanto o knn rodava, arrumei o que fazer... hahah #######\n",
        "\n",
        "########### base 20mil #########\n",
        "#tempoKNN=(34.282,56.863,72.550,91.304,114.097,126.991,141.031,159.264,172.583,188.132,205.902,217.848,220.336,228.580,245.795,245.996,254.624,259.542,274.448,289.987)\n",
        "#tempoLDA=(0.186,0.237,0.284,0.304,0.335,0.371,0.382,0.419,0.452,0.476,0.496,0.529,0.564,0.587,0.592,0.631,0.674,0.704,0.697,0.751)\n",
        "#tempoLR=(0.279,0.461,0.604,0.914,1.107,1.363,1.612,1.903,2.048,2.468,2.487,2.645,2.893,3.346,3.275,3.556,3.723,3.840,4.095,4.350)\n",
        "#tempoGNB=(1.136,1.144,1.157,1.130,1.141,1.116,1.147,1.124,1.151,1.124,1.150,1.158,1.138,1.158,1.136,1.044,1.162,1.166,1.165,1.061)\n",
        "#tempoPtron=(0.186,0.237,0.284,0.304,0.335,0.371,0.382,0.419,0.452,0.476,0.496,0.529,0.564,0.587,0.592,0.631,0.674,0.697,0.704,0.751)\n",
        "########################################################\n",
        "\n",
        "#########33 base <1mil  ##########\n",
        "tempoLR=(0.140,0.145,0.160,0.182,0.185,0.209,0.214,0.222,0.255,0.265)\n",
        "tempoGNB=(0.912,0.915,0.917,0.929,0.931,0.933,0.938,0.940,0.948,0.948)\n",
        "tempoLDA=(0.165,0.169,0.179,0.182,0.192,0.193,0.201,0.210,0.213,0.217)\n",
        "tempoPtron=(0.114,0.133,0.139,0.141,0.142,0.148,0.149,0.157,0.169,0.177)\n",
        "tempoKNN=(6.267,9.208,12.837,15.058,20.104,22.349,24.190,26.427,28.550,33.998)\n",
        "########################################################\n",
        "\n",
        "#plt.plot(index,tempoKNN,label='KNN')   # tirei pra comparar os tempos dos outros pq o knn tá muito demorado\n",
        "plt.plot(index,tempoLDA,label='Linear Discriminant Analysis')\n",
        "plt.plot(index,tempoLR,label='Logistic Regression')\n",
        "plt.plot(index,tempoGNB,label='Gaussian Naïve Bayes')\n",
        "plt.plot(index,tempoPtron,label='Perceptron')\n",
        "plt.legend()\n",
        "plt.grid()\n",
        "plt.title(\"Tempo x Classificador\")  # título do gráfico\n",
        "plt.ylabel('Tempo')  # nome do eixo y\n",
        "plt.xlabel('Base de treinamento')  # nome do eixo x"
      ],
      "execution_count": 30,
      "outputs": [
        {
          "output_type": "execute_result",
          "data": {
            "text/plain": [
              "Text(0.5, 0, 'Base de treinamento')"
            ]
          },
          "metadata": {},
          "execution_count": 30
        },
        {
          "output_type": "display_data",
          "data": {
            "image/png": "[encoded data removed]",
            "text/plain": [
              "<Figure size 432x288 with 1 Axes>"
            ]
          },
          "metadata": {
            "needs_background": "light"
          }
        }
      ]
    }
  ]
}