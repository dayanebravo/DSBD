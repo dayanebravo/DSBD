{
  "nbformat": 4,
  "nbformat_minor": 0,
  "metadata": {
    "colab": {
      "provenance": [],
      "include_colab_link": true
    },
    "kernelspec": {
      "name": "python3",
      "display_name": "Python 3"
    },
    "language_info": {
      "name": "python"
    }
  },
  "cells": [
    {
      "cell_type": "markdown",
      "metadata": {
        "id": "view-in-github",
        "colab_type": "text"
      },
      "source": [
        "<a href=\"https://colab.research.google.com/github/dayanebravo/DSBD/blob/main/teste.ipynb\" target=\"_parent\"><img src=\"https://colab.research.google.com/assets/colab-badge.svg\" alt=\"Open In Colab\"/></a>"
      ]
    },
    {
      "cell_type": "code",
      "metadata": {
        "id": "jJm0j6-WpvcF",
        "colab": {
          "base_uri": "https://localhost:8080/"
        },
        "outputId": "8a7b47bd-55cd-4249-e5b7-8d634f1596d2"
      },
      "source": [
        "import pandas as pd\n",
        "import re\n",
        "\n",
        "#Parâmetros\n",
        "letra='A'\n",
        "numero='I'\n",
        "dia=14\n",
        "mes=2\n",
        "ano=2022\n",
        "modalidade = 'DISTÂNCIA|USA'\n",
        "#listaDisciplinas=''\n",
        "listaDisciplinas = 'Equações Diferenciais|Transformadas|Matemática Aplicada|Modelagem Estatística|Exploratória|Discreta|'\n",
        "#listaDisciplinas = 'Pré-Cálculo'\n",
        "\n",
        "#Linhas opcionais para visualizar os dados completos\n",
        "pd.set_option(\"max_rows\", None)\n",
        "pd.set_option(\"max_colwidth\", None)\n",
        "\n",
        "#Carregando dados e limpando\n",
        "df = pd.DataFrame(pd.read_html('dados.xls',encoding='utf-8')[0])\n",
        "df.replace('\\xa0', ' ',regex=True, inplace=True)\n",
        "df = df.loc[df['Curso'].str.contains(modalidade,regex=True)]\n",
        "df = df.loc[df['Oferta']!=0]\n",
        "df = df.rename({'Data\\xa0Integração\\xa0Univirtus': 'Data'}, axis=1)\n",
        "df['Data'] = pd.to_datetime(df['Data'],format='%d/%m/%y %H:%M')\n",
        "\n",
        "\n",
        "\n",
        "#Descobre a primeira oferta do período\n",
        "limiteOferta= 999999999999\n",
        "for indice,linha in df.iterrows():\n",
        "   if linha['Data'] > pd.to_datetime(f'{ano}-{mes}-{dia}'):\n",
        "     if limiteOferta > linha['Oferta'] :\n",
        "        limiteOferta= linha['Oferta']\n",
        "\n",
        "#Buscando pela Fase adequada\n",
        "fase=f'{letra} Fase {numero} |UTA {letra} 2021 - Fase {numero}$'\n",
        "df=df.loc[df['Módulo'].str.contains(fase, flags=re.I,regex=True)]\n",
        "\n",
        "#Limpando o campo com o nome do curso\n",
        "df['Curso'] = df['Curso'].str.replace(' -.*', '',regex=True)\n",
        "df['Curso'] = df['Curso'].str.replace('TECNOLOGIA EM', '',regex=True)\n",
        "df['Curso'] = df['Curso'].str.replace('BACHARELADO EM', '',regex=True)\n",
        "df['Curso'] = df['Curso'].str.replace('CST', '',regex=True)\n",
        "\n",
        "#Cópia dos dados originais e filtro por disciplinas\n",
        "if listaDisciplinas: df =df.append({'Sala':listaDisciplinas}, ignore_index=True)\n",
        "original = df.copy()\n",
        "df['Sala'] = df['Sala'].str.lower()\n",
        "df['Curso'] = df['Curso'].str.lower()\n",
        "df['Sala'] = df['Sala'].str.normalize('NFKD').str.encode('ascii', errors='ignore').str.decode('utf-8')\n",
        "df['Curso'] = df['Curso'].str.normalize('NFKD').str.encode('ascii', errors='ignore').str.decode('utf-8')\n",
        "\n",
        "\n",
        "#Casos especiais\n",
        "df['Sala'] = df['Sala'].str.replace('programacao paralela', 'computacao paralela')\n",
        "df['Sala'] = df['Sala'].str.replace('optica', 'otica')\n",
        "df['Sala'] = df['Sala'].str.replace('distribuicao de energia eletrica', 'distribuicao de energia')\n",
        "df['Sala'] = df['Sala'].str.replace('interface humano', 'interacao humano')\n",
        "df['Sala'] = df['Sala'].str.replace('informacoes gerenciais', 'informacao gerencial')\n",
        "df['Sala'] = df['Sala'].str.replace('difererencial', 'diferencial')\n",
        "df['Sala'] = df['Sala'].str.replace('etica empresarial', 'etica')\n",
        "df['Sala'] = df['Sala'].str.replace('comunicacoes', 'comunicacao')\n",
        "df['Sala'] = df['Sala'].str.replace('producoes', 'producao')\n",
        "df['Sala'] = df['Sala'].str.replace('internet das coisas', 'iot')\n",
        "for indice,linha in df.iterrows():\n",
        "   if listaDisciplinas and indice+1 == df.shape[0]: break\n",
        "   if linha['Sala'].find(\"raciais\") != -1:\n",
        "     df.at[indice,'Sala'] ='educacao etnico racial'\n",
        "   if linha['Sala'].find(\"extensionista\") != -1 or linha['Sala'].find(\"trabalho de conclusao\") != -1 :\n",
        "     df.at[indice,'Sala'] = df.at[indice,'Sala'] + \" - \" + df.at[indice,'Curso']\n",
        "     original.at[indice,'Sala'] = original.at[indice,'Sala'] + \" - \" + original.at[indice,'Curso']\n",
        "\n",
        "#simplicando nome das salas\n",
        "df.replace('\\(.*\\)', '',regex=True, inplace=True)\n",
        "df.replace('s', '',regex=True, inplace=True)\n",
        "df.replace(' da | do ', ' de ',regex=True, inplace=True)\n",
        "df.replace(' ', '',regex=True, inplace=True)\n",
        "\n",
        "\n",
        "#Filtro por disciplinas\n",
        "if listaDisciplinas:\n",
        "  listaDisciplinas = df['Sala'].iloc[-1]\n",
        "  df.drop(df.tail(1).index,inplace=True)\n",
        "  df = df.loc[df['Sala'].str.contains(listaDisciplinas,regex=True)]\n",
        "\n",
        "\n",
        "df['Sala'] = df['Sala'].str.replace('\\W', '')\n",
        "\n",
        "\n",
        "#agrupando e listando\n",
        "grupos = df.groupby('Sala')['Oferta'].apply(list)\n",
        "grupos = grupos.reset_index(name = 'Ofertas')\n",
        "for indice,linha in grupos.iterrows():\n",
        "  linha['Sala'] = original.loc[original['Oferta'] == linha['Ofertas'][0]]['Sala'].iloc[0]\n",
        "  linha['Ofertas'].sort()\n",
        "\n",
        "#Transformando a lista de ofertas em colunas, colorizando e exportando para excel\n",
        "serieOfertas=grupos.Ofertas.apply(pd.Series).merge(grupos, right_index = True, left_index = True)\n",
        "cols = list(serieOfertas.columns.values)\n",
        "serieOfertas= serieOfertas[[cols[-2]] + cols[0:-2]]\n",
        "serieOfertas=serieOfertas.style.apply(lambda x : ['background-color:yellow' if type(v) !=str and v >= limiteOferta else '' for v in x])\n",
        "serieOfertas.to_excel('resultado.xlsx', engine='openpyxl',index=False)   "
      ],
      "execution_count": null,
      "outputs": [
        {
          "output_type": "stream",
          "name": "stderr",
          "text": [
            "/usr/local/lib/python3.7/dist-packages/ipykernel_launcher.py:88: FutureWarning: The default value of regex will change from True to False in a future version.\n"
          ]
        }
      ]
    }
  ]
}